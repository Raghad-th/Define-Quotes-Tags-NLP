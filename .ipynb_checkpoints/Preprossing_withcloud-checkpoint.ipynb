{
 "cells": [
  {
   "cell_type": "markdown",
   "id": "a10c868f",
   "metadata": {
    "id": "a10c868f"
   },
   "source": [
    "\n",
    "# # Define Quotes Tags Using (Natural language processing(NLP)\n",
    "\n",
    "### Shaikha Bin Ateeq & Raghad Althunayan \n",
    "\n",
    "## Table of Contents\n",
    "<ul>\n",
    "<li><a href=\"#intro\">Introduction</a></li>\n",
    "<li><a href=\"#wrangling\">Data Wrangling</a></li>\n",
    "<li><a href=\"#eda\">Exploratory Data Analysis</a></li>\n",
    "<li><a href=\"#fe\">Feature Engineering</a></li>    \n",
    "<li><a href=\"#model\">Modeling</a></li> \n",
    "<li><a href=\"#conclusions\">Conclusions</a></li>\n",
    "</ul>"
   ]
  },
  {
   "cell_type": "markdown",
   "id": "33cddd6c",
   "metadata": {
    "id": "33cddd6c"
   },
   "source": [
    "<a id='intro'></a>\n",
    "## Introduction\n",
    "\n",
    "-"
   ]
  },
  {
   "cell_type": "markdown",
   "id": "b4350dd7",
   "metadata": {
    "id": "b4350dd7"
   },
   "source": [
    "**Import packiges:**"
   ]
  },
  {
   "cell_type": "code",
   "execution_count": 1,
   "id": "b11d85bd",
   "metadata": {
    "id": "b11d85bd"
   },
   "outputs": [
    {
     "name": "stdout",
     "output_type": "stream",
     "text": [
      "\u001b[33mWARNING: Retrying (Retry(total=4, connect=None, read=None, redirect=None, status=None)) after connection broken by 'NewConnectionError('<pip._vendor.urllib3.connection.HTTPSConnection object at 0x7ff148d23760>: Failed to establish a new connection: [Errno 8] nodename nor servname provided, or not known')': /simple/textblob/\u001b[0m\n",
      "\u001b[33mWARNING: Retrying (Retry(total=3, connect=None, read=None, redirect=None, status=None)) after connection broken by 'NewConnectionError('<pip._vendor.urllib3.connection.HTTPSConnection object at 0x7ff148d23ee0>: Failed to establish a new connection: [Errno 8] nodename nor servname provided, or not known')': /simple/textblob/\u001b[0m\n",
      "\u001b[33mWARNING: Retrying (Retry(total=2, connect=None, read=None, redirect=None, status=None)) after connection broken by 'NewConnectionError('<pip._vendor.urllib3.connection.HTTPSConnection object at 0x7ff148d23f70>: Failed to establish a new connection: [Errno 8] nodename nor servname provided, or not known')': /simple/textblob/\u001b[0m\n",
      "\u001b[33mWARNING: Retrying (Retry(total=1, connect=None, read=None, redirect=None, status=None)) after connection broken by 'NewConnectionError('<pip._vendor.urllib3.connection.HTTPSConnection object at 0x7ff148d23bb0>: Failed to establish a new connection: [Errno 8] nodename nor servname provided, or not known')': /simple/textblob/\u001b[0m\n",
      "\u001b[33mWARNING: Retrying (Retry(total=0, connect=None, read=None, redirect=None, status=None)) after connection broken by 'NewConnectionError('<pip._vendor.urllib3.connection.HTTPSConnection object at 0x7ff148d237f0>: Failed to establish a new connection: [Errno 8] nodename nor servname provided, or not known')': /simple/textblob/\u001b[0m\n",
      "\u001b[31mERROR: Could not find a version that satisfies the requirement textblob (from versions: none)\u001b[0m\n",
      "\u001b[31mERROR: No matching distribution found for textblob\u001b[0m\n"
     ]
    }
   ],
   "source": [
    "!pip install textblob"
   ]
  },
  {
   "cell_type": "code",
   "execution_count": 2,
   "id": "mmwDOjfWTg9G",
   "metadata": {
    "id": "mmwDOjfWTg9G"
   },
   "outputs": [
    {
     "name": "stdout",
     "output_type": "stream",
     "text": [
      "Requirement already satisfied: spacy in /opt/anaconda3/lib/python3.9/site-packages (3.2.1)\n",
      "Requirement already satisfied: spacy-legacy<3.1.0,>=3.0.8 in /opt/anaconda3/lib/python3.9/site-packages (from spacy) (3.0.8)\n",
      "Requirement already satisfied: thinc<8.1.0,>=8.0.12 in /opt/anaconda3/lib/python3.9/site-packages (from spacy) (8.0.13)\n",
      "Requirement already satisfied: blis<0.8.0,>=0.4.0 in /opt/anaconda3/lib/python3.9/site-packages (from spacy) (0.7.5)\n",
      "Requirement already satisfied: packaging>=20.0 in /opt/anaconda3/lib/python3.9/site-packages (from spacy) (21.0)\n",
      "Requirement already satisfied: catalogue<2.1.0,>=2.0.6 in /opt/anaconda3/lib/python3.9/site-packages (from spacy) (2.0.6)\n",
      "Requirement already satisfied: pathy>=0.3.5 in /opt/anaconda3/lib/python3.9/site-packages (from spacy) (0.6.1)\n",
      "Requirement already satisfied: numpy>=1.15.0 in /opt/anaconda3/lib/python3.9/site-packages (from spacy) (1.20.3)\n",
      "Requirement already satisfied: cymem<2.1.0,>=2.0.2 in /opt/anaconda3/lib/python3.9/site-packages (from spacy) (2.0.6)\n",
      "Requirement already satisfied: requests<3.0.0,>=2.13.0 in /opt/anaconda3/lib/python3.9/site-packages (from spacy) (2.26.0)\n",
      "Requirement already satisfied: tqdm<5.0.0,>=4.38.0 in /opt/anaconda3/lib/python3.9/site-packages (from spacy) (4.62.3)\n",
      "Requirement already satisfied: setuptools in /opt/anaconda3/lib/python3.9/site-packages (from spacy) (58.0.4)\n",
      "Requirement already satisfied: jinja2 in /opt/anaconda3/lib/python3.9/site-packages (from spacy) (2.11.3)\n",
      "Requirement already satisfied: murmurhash<1.1.0,>=0.28.0 in /opt/anaconda3/lib/python3.9/site-packages (from spacy) (1.0.6)\n",
      "Requirement already satisfied: spacy-loggers<2.0.0,>=1.0.0 in /opt/anaconda3/lib/python3.9/site-packages (from spacy) (1.0.1)\n",
      "Requirement already satisfied: wasabi<1.1.0,>=0.8.1 in /opt/anaconda3/lib/python3.9/site-packages (from spacy) (0.9.0)\n",
      "Requirement already satisfied: typer<0.5.0,>=0.3.0 in /opt/anaconda3/lib/python3.9/site-packages (from spacy) (0.4.0)\n",
      "Requirement already satisfied: srsly<3.0.0,>=2.4.1 in /opt/anaconda3/lib/python3.9/site-packages (from spacy) (2.4.2)\n",
      "Requirement already satisfied: preshed<3.1.0,>=3.0.2 in /opt/anaconda3/lib/python3.9/site-packages (from spacy) (3.0.6)\n",
      "Requirement already satisfied: langcodes<4.0.0,>=3.2.0 in /opt/anaconda3/lib/python3.9/site-packages (from spacy) (3.3.0)\n",
      "Requirement already satisfied: pydantic!=1.8,!=1.8.1,<1.9.0,>=1.7.4 in /opt/anaconda3/lib/python3.9/site-packages (from spacy) (1.8.2)\n",
      "Requirement already satisfied: pyparsing>=2.0.2 in /opt/anaconda3/lib/python3.9/site-packages (from packaging>=20.0->spacy) (3.0.4)\n",
      "Requirement already satisfied: smart-open<6.0.0,>=5.0.0 in /opt/anaconda3/lib/python3.9/site-packages (from pathy>=0.3.5->spacy) (5.2.1)\n",
      "Requirement already satisfied: typing-extensions>=3.7.4.3 in /opt/anaconda3/lib/python3.9/site-packages (from pydantic!=1.8,!=1.8.1,<1.9.0,>=1.7.4->spacy) (3.10.0.2)\n",
      "Requirement already satisfied: certifi>=2017.4.17 in /opt/anaconda3/lib/python3.9/site-packages (from requests<3.0.0,>=2.13.0->spacy) (2021.10.8)\n",
      "Requirement already satisfied: urllib3<1.27,>=1.21.1 in /opt/anaconda3/lib/python3.9/site-packages (from requests<3.0.0,>=2.13.0->spacy) (1.26.7)\n",
      "Requirement already satisfied: charset-normalizer~=2.0.0 in /opt/anaconda3/lib/python3.9/site-packages (from requests<3.0.0,>=2.13.0->spacy) (2.0.4)\n",
      "Requirement already satisfied: idna<4,>=2.5 in /opt/anaconda3/lib/python3.9/site-packages (from requests<3.0.0,>=2.13.0->spacy) (3.2)\n",
      "Requirement already satisfied: click<9.0.0,>=7.1.1 in /opt/anaconda3/lib/python3.9/site-packages (from typer<0.5.0,>=0.3.0->spacy) (8.0.3)\n",
      "Requirement already satisfied: MarkupSafe>=0.23 in /opt/anaconda3/lib/python3.9/site-packages (from jinja2->spacy) (1.1.1)\n"
     ]
    }
   ],
   "source": [
    "!pip install spacy"
   ]
  },
  {
   "cell_type": "code",
   "execution_count": 3,
   "id": "b4tsdjdXT2mh",
   "metadata": {
    "id": "b4tsdjdXT2mh"
   },
   "outputs": [
    {
     "name": "stdout",
     "output_type": "stream",
     "text": [
      "Traceback (most recent call last):\r\n",
      "  File \"/opt/anaconda3/lib/python3.9/site-packages/urllib3/connection.py\", line 174, in _new_conn\r\n",
      "    conn = connection.create_connection(\r\n",
      "  File \"/opt/anaconda3/lib/python3.9/site-packages/urllib3/util/connection.py\", line 73, in create_connection\r\n",
      "    for res in socket.getaddrinfo(host, port, family, socket.SOCK_STREAM):\r\n",
      "  File \"/opt/anaconda3/lib/python3.9/socket.py\", line 954, in getaddrinfo\r\n",
      "    for res in _socket.getaddrinfo(host, port, family, type, proto, flags):\r\n",
      "socket.gaierror: [Errno 8] nodename nor servname provided, or not known\r\n",
      "\r\n",
      "During handling of the above exception, another exception occurred:\r\n",
      "\r\n",
      "Traceback (most recent call last):\r\n",
      "  File \"/opt/anaconda3/lib/python3.9/site-packages/urllib3/connectionpool.py\", line 699, in urlopen\r\n",
      "    httplib_response = self._make_request(\r\n",
      "  File \"/opt/anaconda3/lib/python3.9/site-packages/urllib3/connectionpool.py\", line 382, in _make_request\r\n",
      "    self._validate_conn(conn)\r\n",
      "  File \"/opt/anaconda3/lib/python3.9/site-packages/urllib3/connectionpool.py\", line 1010, in _validate_conn\r\n",
      "    conn.connect()\r\n",
      "  File \"/opt/anaconda3/lib/python3.9/site-packages/urllib3/connection.py\", line 358, in connect\r\n",
      "    conn = self._new_conn()\r\n",
      "  File \"/opt/anaconda3/lib/python3.9/site-packages/urllib3/connection.py\", line 186, in _new_conn\r\n",
      "    raise NewConnectionError(\r\n",
      "urllib3.exceptions.NewConnectionError: <urllib3.connection.HTTPSConnection object at 0x7f90e02317c0>: Failed to establish a new connection: [Errno 8] nodename nor servname provided, or not known\r\n",
      "\r\n",
      "During handling of the above exception, another exception occurred:\r\n",
      "\r\n",
      "Traceback (most recent call last):\r\n",
      "  File \"/opt/anaconda3/lib/python3.9/site-packages/requests/adapters.py\", line 439, in send\r\n",
      "    resp = conn.urlopen(\r\n",
      "  File \"/opt/anaconda3/lib/python3.9/site-packages/urllib3/connectionpool.py\", line 755, in urlopen\r\n",
      "    retries = retries.increment(\r\n",
      "  File \"/opt/anaconda3/lib/python3.9/site-packages/urllib3/util/retry.py\", line 574, in increment\r\n",
      "    raise MaxRetryError(_pool, url, error or ResponseError(cause))\r\n",
      "urllib3.exceptions.MaxRetryError: HTTPSConnectionPool(host='raw.githubusercontent.com', port=443): Max retries exceeded with url: /explosion/spacy-models/master/compatibility.json (Caused by NewConnectionError('<urllib3.connection.HTTPSConnection object at 0x7f90e02317c0>: Failed to establish a new connection: [Errno 8] nodename nor servname provided, or not known'))\r\n",
      "\r\n",
      "During handling of the above exception, another exception occurred:\r\n",
      "\r\n",
      "Traceback (most recent call last):\r\n",
      "  File \"/opt/anaconda3/lib/python3.9/runpy.py\", line 197, in _run_module_as_main\r\n",
      "    return _run_code(code, main_globals, None,\r\n",
      "  File \"/opt/anaconda3/lib/python3.9/runpy.py\", line 87, in _run_code\r\n",
      "    exec(code, run_globals)\r\n",
      "  File \"/opt/anaconda3/lib/python3.9/site-packages/spacy/__main__.py\", line 4, in <module>\r\n",
      "    setup_cli()\r\n",
      "  File \"/opt/anaconda3/lib/python3.9/site-packages/spacy/cli/_util.py\", line 71, in setup_cli\r\n",
      "    command(prog_name=COMMAND)\r\n",
      "  File \"/opt/anaconda3/lib/python3.9/site-packages/click/core.py\", line 1128, in __call__\r\n",
      "    return self.main(*args, **kwargs)\r\n",
      "  File \"/opt/anaconda3/lib/python3.9/site-packages/click/core.py\", line 1053, in main\r\n",
      "    rv = self.invoke(ctx)\r\n",
      "  File \"/opt/anaconda3/lib/python3.9/site-packages/click/core.py\", line 1659, in invoke\r\n",
      "    return _process_result(sub_ctx.command.invoke(sub_ctx))\r\n",
      "  File \"/opt/anaconda3/lib/python3.9/site-packages/click/core.py\", line 1395, in invoke\r\n",
      "    return ctx.invoke(self.callback, **ctx.params)\r\n",
      "  File \"/opt/anaconda3/lib/python3.9/site-packages/click/core.py\", line 754, in invoke\r\n",
      "    return __callback(*args, **kwargs)\r\n",
      "  File \"/opt/anaconda3/lib/python3.9/site-packages/typer/main.py\", line 500, in wrapper\r\n",
      "    return callback(**use_params)  # type: ignore\r\n",
      "  File \"/opt/anaconda3/lib/python3.9/site-packages/spacy/cli/download.py\", line 35, in download_cli\r\n",
      "    download(model, direct, sdist, *ctx.args)\r\n",
      "  File \"/opt/anaconda3/lib/python3.9/site-packages/spacy/cli/download.py\", line 67, in download\r\n",
      "    compatibility = get_compatibility()\r\n",
      "  File \"/opt/anaconda3/lib/python3.9/site-packages/spacy/cli/download.py\", line 78, in get_compatibility\r\n",
      "    r = requests.get(about.__compatibility__)\r\n",
      "  File \"/opt/anaconda3/lib/python3.9/site-packages/requests/api.py\", line 75, in get\r\n",
      "    return request('get', url, params=params, **kwargs)\r\n",
      "  File \"/opt/anaconda3/lib/python3.9/site-packages/requests/api.py\", line 61, in request\r\n",
      "    return session.request(method=method, url=url, **kwargs)\r\n",
      "  File \"/opt/anaconda3/lib/python3.9/site-packages/requests/sessions.py\", line 542, in request\r\n",
      "    resp = self.send(prep, **send_kwargs)\r\n",
      "  File \"/opt/anaconda3/lib/python3.9/site-packages/requests/sessions.py\", line 655, in send\r\n",
      "    r = adapter.send(request, **kwargs)\r\n",
      "  File \"/opt/anaconda3/lib/python3.9/site-packages/requests/adapters.py\", line 516, in send\r\n",
      "    raise ConnectionError(e, request=request)\r\n",
      "requests.exceptions.ConnectionError: HTTPSConnectionPool(host='raw.githubusercontent.com', port=443): Max retries exceeded with url: /explosion/spacy-models/master/compatibility.json (Caused by NewConnectionError('<urllib3.connection.HTTPSConnection object at 0x7f90e02317c0>: Failed to establish a new connection: [Errno 8] nodename nor servname provided, or not known'))\r\n"
     ]
    }
   ],
   "source": [
    "! python -m spacy download en_core_web_sm"
   ]
  },
  {
   "cell_type": "code",
   "execution_count": 4,
   "id": "0ac6d3f6",
   "metadata": {
    "id": "0ac6d3f6"
   },
   "outputs": [
    {
     "name": "stdout",
     "output_type": "stream",
     "text": [
      "Requirement already satisfied: contractions==0.0.18 in /opt/anaconda3/lib/python3.9/site-packages (0.0.18)\r\n"
     ]
    }
   ],
   "source": [
    "!pip install contractions==0.0.18"
   ]
  },
  {
   "cell_type": "code",
   "execution_count": 5,
   "id": "d9632c56",
   "metadata": {
    "id": "d9632c56"
   },
   "outputs": [],
   "source": [
    "import numpy as np \n",
    "import pandas as pd\n",
    "import string as st\n",
    "import re\n",
    "import nltk\n",
    "from nltk import PorterStemmer, WordNetLemmatizer\n",
    "from nltk.corpus import stopwords\n",
    "from scipy import linalg\n",
    "import matplotlib.pyplot as plt \n",
    "import seaborn as sns\n",
    "\n",
    "from collections import Counter\n",
    "import contractions\n",
    "import string\n",
    "import spacy\n"
   ]
  },
  {
   "cell_type": "markdown",
   "id": "f4bf6f96",
   "metadata": {
    "id": "f4bf6f96",
    "outputId": "c7a71bae-1b07-4309-8c5d-c876e400cf36"
   },
   "source": [
    "\n",
    "**Read Dataset:**"
   ]
  },
  {
   "cell_type": "code",
   "execution_count": 6,
   "id": "329da0a5",
   "metadata": {
    "id": "329da0a5",
    "scrolled": true
   },
   "outputs": [
    {
     "ename": "FileNotFoundError",
     "evalue": "[Errno 2] No such file or directory: 'output file.csv'",
     "output_type": "error",
     "traceback": [
      "\u001b[0;31m---------------------------------------------------------------------------\u001b[0m",
      "\u001b[0;31mFileNotFoundError\u001b[0m                         Traceback (most recent call last)",
      "\u001b[0;32m/var/folders/sh/7nxdcqpn0f14wcm9087htcrh0000gn/T/ipykernel_24966/1163974853.py\u001b[0m in \u001b[0;36m<module>\u001b[0;34m\u001b[0m\n\u001b[0;32m----> 1\u001b[0;31m \u001b[0mdf\u001b[0m\u001b[0;34m=\u001b[0m \u001b[0mpd\u001b[0m\u001b[0;34m.\u001b[0m\u001b[0mread_csv\u001b[0m\u001b[0;34m(\u001b[0m\u001b[0;34m\"output file.csv\"\u001b[0m\u001b[0;34m)\u001b[0m\u001b[0;34m\u001b[0m\u001b[0;34m\u001b[0m\u001b[0m\n\u001b[0m\u001b[1;32m      2\u001b[0m \u001b[0mdf\u001b[0m\u001b[0;34m.\u001b[0m\u001b[0mhead\u001b[0m\u001b[0;34m(\u001b[0m\u001b[0;36m5\u001b[0m\u001b[0;34m)\u001b[0m\u001b[0;34m\u001b[0m\u001b[0;34m\u001b[0m\u001b[0m\n",
      "\u001b[0;32m/opt/anaconda3/lib/python3.9/site-packages/pandas/util/_decorators.py\u001b[0m in \u001b[0;36mwrapper\u001b[0;34m(*args, **kwargs)\u001b[0m\n\u001b[1;32m    309\u001b[0m                     \u001b[0mstacklevel\u001b[0m\u001b[0;34m=\u001b[0m\u001b[0mstacklevel\u001b[0m\u001b[0;34m,\u001b[0m\u001b[0;34m\u001b[0m\u001b[0;34m\u001b[0m\u001b[0m\n\u001b[1;32m    310\u001b[0m                 )\n\u001b[0;32m--> 311\u001b[0;31m             \u001b[0;32mreturn\u001b[0m \u001b[0mfunc\u001b[0m\u001b[0;34m(\u001b[0m\u001b[0;34m*\u001b[0m\u001b[0margs\u001b[0m\u001b[0;34m,\u001b[0m \u001b[0;34m**\u001b[0m\u001b[0mkwargs\u001b[0m\u001b[0;34m)\u001b[0m\u001b[0;34m\u001b[0m\u001b[0;34m\u001b[0m\u001b[0m\n\u001b[0m\u001b[1;32m    312\u001b[0m \u001b[0;34m\u001b[0m\u001b[0m\n\u001b[1;32m    313\u001b[0m         \u001b[0;32mreturn\u001b[0m \u001b[0mwrapper\u001b[0m\u001b[0;34m\u001b[0m\u001b[0;34m\u001b[0m\u001b[0m\n",
      "\u001b[0;32m/opt/anaconda3/lib/python3.9/site-packages/pandas/io/parsers/readers.py\u001b[0m in \u001b[0;36mread_csv\u001b[0;34m(filepath_or_buffer, sep, delimiter, header, names, index_col, usecols, squeeze, prefix, mangle_dupe_cols, dtype, engine, converters, true_values, false_values, skipinitialspace, skiprows, skipfooter, nrows, na_values, keep_default_na, na_filter, verbose, skip_blank_lines, parse_dates, infer_datetime_format, keep_date_col, date_parser, dayfirst, cache_dates, iterator, chunksize, compression, thousands, decimal, lineterminator, quotechar, quoting, doublequote, escapechar, comment, encoding, encoding_errors, dialect, error_bad_lines, warn_bad_lines, on_bad_lines, delim_whitespace, low_memory, memory_map, float_precision, storage_options)\u001b[0m\n\u001b[1;32m    584\u001b[0m     \u001b[0mkwds\u001b[0m\u001b[0;34m.\u001b[0m\u001b[0mupdate\u001b[0m\u001b[0;34m(\u001b[0m\u001b[0mkwds_defaults\u001b[0m\u001b[0;34m)\u001b[0m\u001b[0;34m\u001b[0m\u001b[0;34m\u001b[0m\u001b[0m\n\u001b[1;32m    585\u001b[0m \u001b[0;34m\u001b[0m\u001b[0m\n\u001b[0;32m--> 586\u001b[0;31m     \u001b[0;32mreturn\u001b[0m \u001b[0m_read\u001b[0m\u001b[0;34m(\u001b[0m\u001b[0mfilepath_or_buffer\u001b[0m\u001b[0;34m,\u001b[0m \u001b[0mkwds\u001b[0m\u001b[0;34m)\u001b[0m\u001b[0;34m\u001b[0m\u001b[0;34m\u001b[0m\u001b[0m\n\u001b[0m\u001b[1;32m    587\u001b[0m \u001b[0;34m\u001b[0m\u001b[0m\n\u001b[1;32m    588\u001b[0m \u001b[0;34m\u001b[0m\u001b[0m\n",
      "\u001b[0;32m/opt/anaconda3/lib/python3.9/site-packages/pandas/io/parsers/readers.py\u001b[0m in \u001b[0;36m_read\u001b[0;34m(filepath_or_buffer, kwds)\u001b[0m\n\u001b[1;32m    480\u001b[0m \u001b[0;34m\u001b[0m\u001b[0m\n\u001b[1;32m    481\u001b[0m     \u001b[0;31m# Create the parser.\u001b[0m\u001b[0;34m\u001b[0m\u001b[0;34m\u001b[0m\u001b[0m\n\u001b[0;32m--> 482\u001b[0;31m     \u001b[0mparser\u001b[0m \u001b[0;34m=\u001b[0m \u001b[0mTextFileReader\u001b[0m\u001b[0;34m(\u001b[0m\u001b[0mfilepath_or_buffer\u001b[0m\u001b[0;34m,\u001b[0m \u001b[0;34m**\u001b[0m\u001b[0mkwds\u001b[0m\u001b[0;34m)\u001b[0m\u001b[0;34m\u001b[0m\u001b[0;34m\u001b[0m\u001b[0m\n\u001b[0m\u001b[1;32m    483\u001b[0m \u001b[0;34m\u001b[0m\u001b[0m\n\u001b[1;32m    484\u001b[0m     \u001b[0;32mif\u001b[0m \u001b[0mchunksize\u001b[0m \u001b[0;32mor\u001b[0m \u001b[0miterator\u001b[0m\u001b[0;34m:\u001b[0m\u001b[0;34m\u001b[0m\u001b[0;34m\u001b[0m\u001b[0m\n",
      "\u001b[0;32m/opt/anaconda3/lib/python3.9/site-packages/pandas/io/parsers/readers.py\u001b[0m in \u001b[0;36m__init__\u001b[0;34m(self, f, engine, **kwds)\u001b[0m\n\u001b[1;32m    809\u001b[0m             \u001b[0mself\u001b[0m\u001b[0;34m.\u001b[0m\u001b[0moptions\u001b[0m\u001b[0;34m[\u001b[0m\u001b[0;34m\"has_index_names\"\u001b[0m\u001b[0;34m]\u001b[0m \u001b[0;34m=\u001b[0m \u001b[0mkwds\u001b[0m\u001b[0;34m[\u001b[0m\u001b[0;34m\"has_index_names\"\u001b[0m\u001b[0;34m]\u001b[0m\u001b[0;34m\u001b[0m\u001b[0;34m\u001b[0m\u001b[0m\n\u001b[1;32m    810\u001b[0m \u001b[0;34m\u001b[0m\u001b[0m\n\u001b[0;32m--> 811\u001b[0;31m         \u001b[0mself\u001b[0m\u001b[0;34m.\u001b[0m\u001b[0m_engine\u001b[0m \u001b[0;34m=\u001b[0m \u001b[0mself\u001b[0m\u001b[0;34m.\u001b[0m\u001b[0m_make_engine\u001b[0m\u001b[0;34m(\u001b[0m\u001b[0mself\u001b[0m\u001b[0;34m.\u001b[0m\u001b[0mengine\u001b[0m\u001b[0;34m)\u001b[0m\u001b[0;34m\u001b[0m\u001b[0;34m\u001b[0m\u001b[0m\n\u001b[0m\u001b[1;32m    812\u001b[0m \u001b[0;34m\u001b[0m\u001b[0m\n\u001b[1;32m    813\u001b[0m     \u001b[0;32mdef\u001b[0m \u001b[0mclose\u001b[0m\u001b[0;34m(\u001b[0m\u001b[0mself\u001b[0m\u001b[0;34m)\u001b[0m\u001b[0;34m:\u001b[0m\u001b[0;34m\u001b[0m\u001b[0;34m\u001b[0m\u001b[0m\n",
      "\u001b[0;32m/opt/anaconda3/lib/python3.9/site-packages/pandas/io/parsers/readers.py\u001b[0m in \u001b[0;36m_make_engine\u001b[0;34m(self, engine)\u001b[0m\n\u001b[1;32m   1038\u001b[0m             )\n\u001b[1;32m   1039\u001b[0m         \u001b[0;31m# error: Too many arguments for \"ParserBase\"\u001b[0m\u001b[0;34m\u001b[0m\u001b[0;34m\u001b[0m\u001b[0m\n\u001b[0;32m-> 1040\u001b[0;31m         \u001b[0;32mreturn\u001b[0m \u001b[0mmapping\u001b[0m\u001b[0;34m[\u001b[0m\u001b[0mengine\u001b[0m\u001b[0;34m]\u001b[0m\u001b[0;34m(\u001b[0m\u001b[0mself\u001b[0m\u001b[0;34m.\u001b[0m\u001b[0mf\u001b[0m\u001b[0;34m,\u001b[0m \u001b[0;34m**\u001b[0m\u001b[0mself\u001b[0m\u001b[0;34m.\u001b[0m\u001b[0moptions\u001b[0m\u001b[0;34m)\u001b[0m  \u001b[0;31m# type: ignore[call-arg]\u001b[0m\u001b[0;34m\u001b[0m\u001b[0;34m\u001b[0m\u001b[0m\n\u001b[0m\u001b[1;32m   1041\u001b[0m \u001b[0;34m\u001b[0m\u001b[0m\n\u001b[1;32m   1042\u001b[0m     \u001b[0;32mdef\u001b[0m \u001b[0m_failover_to_python\u001b[0m\u001b[0;34m(\u001b[0m\u001b[0mself\u001b[0m\u001b[0;34m)\u001b[0m\u001b[0;34m:\u001b[0m\u001b[0;34m\u001b[0m\u001b[0;34m\u001b[0m\u001b[0m\n",
      "\u001b[0;32m/opt/anaconda3/lib/python3.9/site-packages/pandas/io/parsers/c_parser_wrapper.py\u001b[0m in \u001b[0;36m__init__\u001b[0;34m(self, src, **kwds)\u001b[0m\n\u001b[1;32m     49\u001b[0m \u001b[0;34m\u001b[0m\u001b[0m\n\u001b[1;32m     50\u001b[0m         \u001b[0;31m# open handles\u001b[0m\u001b[0;34m\u001b[0m\u001b[0;34m\u001b[0m\u001b[0m\n\u001b[0;32m---> 51\u001b[0;31m         \u001b[0mself\u001b[0m\u001b[0;34m.\u001b[0m\u001b[0m_open_handles\u001b[0m\u001b[0;34m(\u001b[0m\u001b[0msrc\u001b[0m\u001b[0;34m,\u001b[0m \u001b[0mkwds\u001b[0m\u001b[0;34m)\u001b[0m\u001b[0;34m\u001b[0m\u001b[0;34m\u001b[0m\u001b[0m\n\u001b[0m\u001b[1;32m     52\u001b[0m         \u001b[0;32massert\u001b[0m \u001b[0mself\u001b[0m\u001b[0;34m.\u001b[0m\u001b[0mhandles\u001b[0m \u001b[0;32mis\u001b[0m \u001b[0;32mnot\u001b[0m \u001b[0;32mNone\u001b[0m\u001b[0;34m\u001b[0m\u001b[0;34m\u001b[0m\u001b[0m\n\u001b[1;32m     53\u001b[0m \u001b[0;34m\u001b[0m\u001b[0m\n",
      "\u001b[0;32m/opt/anaconda3/lib/python3.9/site-packages/pandas/io/parsers/base_parser.py\u001b[0m in \u001b[0;36m_open_handles\u001b[0;34m(self, src, kwds)\u001b[0m\n\u001b[1;32m    220\u001b[0m         \u001b[0mLet\u001b[0m \u001b[0mthe\u001b[0m \u001b[0mreaders\u001b[0m \u001b[0mopen\u001b[0m \u001b[0mIOHandles\u001b[0m \u001b[0mafter\u001b[0m \u001b[0mthey\u001b[0m \u001b[0mare\u001b[0m \u001b[0mdone\u001b[0m \u001b[0;32mwith\u001b[0m \u001b[0mtheir\u001b[0m \u001b[0mpotential\u001b[0m \u001b[0mraises\u001b[0m\u001b[0;34m.\u001b[0m\u001b[0;34m\u001b[0m\u001b[0;34m\u001b[0m\u001b[0m\n\u001b[1;32m    221\u001b[0m         \"\"\"\n\u001b[0;32m--> 222\u001b[0;31m         self.handles = get_handle(\n\u001b[0m\u001b[1;32m    223\u001b[0m             \u001b[0msrc\u001b[0m\u001b[0;34m,\u001b[0m\u001b[0;34m\u001b[0m\u001b[0;34m\u001b[0m\u001b[0m\n\u001b[1;32m    224\u001b[0m             \u001b[0;34m\"r\"\u001b[0m\u001b[0;34m,\u001b[0m\u001b[0;34m\u001b[0m\u001b[0;34m\u001b[0m\u001b[0m\n",
      "\u001b[0;32m/opt/anaconda3/lib/python3.9/site-packages/pandas/io/common.py\u001b[0m in \u001b[0;36mget_handle\u001b[0;34m(path_or_buf, mode, encoding, compression, memory_map, is_text, errors, storage_options)\u001b[0m\n\u001b[1;32m    700\u001b[0m         \u001b[0;32mif\u001b[0m \u001b[0mioargs\u001b[0m\u001b[0;34m.\u001b[0m\u001b[0mencoding\u001b[0m \u001b[0;32mand\u001b[0m \u001b[0;34m\"b\"\u001b[0m \u001b[0;32mnot\u001b[0m \u001b[0;32min\u001b[0m \u001b[0mioargs\u001b[0m\u001b[0;34m.\u001b[0m\u001b[0mmode\u001b[0m\u001b[0;34m:\u001b[0m\u001b[0;34m\u001b[0m\u001b[0;34m\u001b[0m\u001b[0m\n\u001b[1;32m    701\u001b[0m             \u001b[0;31m# Encoding\u001b[0m\u001b[0;34m\u001b[0m\u001b[0;34m\u001b[0m\u001b[0m\n\u001b[0;32m--> 702\u001b[0;31m             handle = open(\n\u001b[0m\u001b[1;32m    703\u001b[0m                 \u001b[0mhandle\u001b[0m\u001b[0;34m,\u001b[0m\u001b[0;34m\u001b[0m\u001b[0;34m\u001b[0m\u001b[0m\n\u001b[1;32m    704\u001b[0m                 \u001b[0mioargs\u001b[0m\u001b[0;34m.\u001b[0m\u001b[0mmode\u001b[0m\u001b[0;34m,\u001b[0m\u001b[0;34m\u001b[0m\u001b[0;34m\u001b[0m\u001b[0m\n",
      "\u001b[0;31mFileNotFoundError\u001b[0m: [Errno 2] No such file or directory: 'output file.csv'"
     ]
    }
   ],
   "source": [
    "df= pd.read_csv(\"output file.csv\")\n",
    "df.head(5)"
   ]
  },
  {
   "cell_type": "markdown",
   "id": "w5Vev1T0SnIW",
   "metadata": {
    "id": "w5Vev1T0SnIW"
   },
   "source": [
    "**Explore The Dataset:**"
   ]
  },
  {
   "cell_type": "code",
   "execution_count": null,
   "id": "04b6f70a",
   "metadata": {
    "id": "04b6f70a"
   },
   "outputs": [],
   "source": [
    "df.shape"
   ]
  },
  {
   "cell_type": "code",
   "execution_count": null,
   "id": "0d2bf418",
   "metadata": {
    "colab": {
     "base_uri": "https://localhost:8080/"
    },
    "id": "0d2bf418",
    "outputId": "df5727c0-6535-419c-bfb9-5360f7e132ea"
   },
   "outputs": [],
   "source": [
    "df.info()"
   ]
  },
  {
   "cell_type": "code",
   "execution_count": null,
   "id": "c1269f2c",
   "metadata": {
    "colab": {
     "base_uri": "https://localhost:8080/",
     "height": 34
    },
    "id": "c1269f2c",
    "outputId": "f2a5fba2-ac9c-48fc-ddbf-65b67275d314"
   },
   "outputs": [],
   "source": [
    "'''\n",
    "df.quote=df.quote.astype(str)\n",
    "df.author=df.author.astype(str)\n",
    "df.category=df.category.astype(str) \n",
    "'''"
   ]
  },
  {
   "cell_type": "code",
   "execution_count": null,
   "id": "6ba2135d",
   "metadata": {
    "colab": {
     "base_uri": "https://localhost:8080/"
    },
    "id": "6ba2135d",
    "outputId": "e773a7ad-8ba3-4601-f546-0cbae8c8bc21"
   },
   "outputs": [],
   "source": [
    "df.isna().sum()"
   ]
  },
  {
   "cell_type": "code",
   "execution_count": null,
   "id": "6288b6a1",
   "metadata": {
    "colab": {
     "base_uri": "https://localhost:8080/"
    },
    "id": "6288b6a1",
    "outputId": "90b763b0-164f-4b4e-97e0-df5f06d1aa49"
   },
   "outputs": [],
   "source": [
    "print(df.category.value_counts())"
   ]
  },
  {
   "cell_type": "markdown",
   "id": "bbad3f13",
   "metadata": {
    "id": "bbad3f13"
   },
   "source": [
    "\n",
    "# **Data Cleaning:**"
   ]
  },
  {
   "cell_type": "markdown",
   "id": "0f91e1d9",
   "metadata": {},
   "source": [
    "**Select 5 Topics:**"
   ]
  },
  {
   "cell_type": "code",
   "execution_count": null,
   "id": "2de4746a",
   "metadata": {},
   "outputs": [],
   "source": [
    "options = ['Love','Science','Death','Religion','Success']\n",
    "df = df[df['category'].isin(options)]"
   ]
  },
  {
   "cell_type": "code",
   "execution_count": null,
   "id": "5597931c",
   "metadata": {},
   "outputs": [],
   "source": [
    "df.shape"
   ]
  },
  {
   "cell_type": "markdown",
   "id": "QcDo-E6-Xw4Q",
   "metadata": {
    "id": "QcDo-E6-Xw4Q"
   },
   "source": [
    "**Drop Null:**"
   ]
  },
  {
   "cell_type": "code",
   "execution_count": null,
   "id": "laBsTt9BYdac",
   "metadata": {
    "id": "laBsTt9BYdac"
   },
   "outputs": [],
   "source": [
    "df = df.dropna()"
   ]
  },
  {
   "cell_type": "markdown",
   "id": "bccd4e99",
   "metadata": {
    "id": "bccd4e99"
   },
   "source": [
    " **Contraction:**"
   ]
  },
  {
   "cell_type": "code",
   "execution_count": null,
   "id": "a95e6d5c",
   "metadata": {
    "id": "a95e6d5c"
   },
   "outputs": [],
   "source": [
    "df['quot']=df['quot'].apply(lambda x: contractions.fix(x))"
   ]
  },
  {
   "cell_type": "code",
   "execution_count": null,
   "id": "ec1a0972",
   "metadata": {
    "colab": {
     "base_uri": "https://localhost:8080/",
     "height": 201
    },
    "id": "ec1a0972",
    "outputId": "16aeea00-b363-49fa-91df-e0a1841bb657"
   },
   "outputs": [],
   "source": [
    "df.head()"
   ]
  },
  {
   "cell_type": "markdown",
   "id": "72f84c7b",
   "metadata": {
    "id": "72f84c7b"
   },
   "source": [
    "**Converting letters to lowercase:**\n"
   ]
  },
  {
   "cell_type": "code",
   "execution_count": null,
   "id": "62387ccc",
   "metadata": {
    "id": "62387ccc"
   },
   "outputs": [],
   "source": [
    "df.loc[:,\"quot\"] = df.quot.apply(lambda x : str.lower(x))\n"
   ]
  },
  {
   "cell_type": "code",
   "execution_count": null,
   "id": "1ffda790",
   "metadata": {
    "colab": {
     "base_uri": "https://localhost:8080/",
     "height": 201
    },
    "id": "1ffda790",
    "outputId": "fbf935d0-48ad-42e8-f7c6-85024ef6c6ea"
   },
   "outputs": [],
   "source": [
    "df.head()"
   ]
  },
  {
   "cell_type": "markdown",
   "id": "WVa5wTgrDLvT",
   "metadata": {
    "id": "WVa5wTgrDLvT"
   },
   "source": [
    "**Noun_English_Word**:"
   ]
  },
  {
   "cell_type": "code",
   "execution_count": null,
   "id": "PWXW4Wj4EBfr",
   "metadata": {
    "colab": {
     "base_uri": "https://localhost:8080/"
    },
    "id": "PWXW4Wj4EBfr",
    "outputId": "ce96c571-91c4-441e-c906-9445676e497b"
   },
   "outputs": [],
   "source": [
    "nltk.download('words')\n",
    "words = set(nltk.corpus.words.words())\n",
    "def Noun_English_Word(text):\n",
    "    return \" \".join(w for w in nltk.wordpunct_tokenize(text) \\\n",
    "         if w.lower() in words or not w.isalpha())"
   ]
  },
  {
   "cell_type": "code",
   "execution_count": null,
   "id": "_px98muBECM6",
   "metadata": {
    "colab": {
     "base_uri": "https://localhost:8080/",
     "height": 201
    },
    "id": "_px98muBECM6",
    "outputId": "36f1bc29-2496-4e5d-9428-60af97f48819"
   },
   "outputs": [],
   "source": [
    "df[\"quot\"] = df[\"quot\"].apply(lambda text: Noun_English_Word(text))\n",
    "df.head()"
   ]
  },
  {
   "cell_type": "code",
   "execution_count": null,
   "id": "1_EFQD3aFn1U",
   "metadata": {
    "id": "1_EFQD3aFn1U"
   },
   "outputs": [],
   "source": []
  },
  {
   "cell_type": "markdown",
   "id": "1eccaf05",
   "metadata": {
    "id": "1eccaf05"
   },
   "source": [
    "**Tokenization:**"
   ]
  },
  {
   "cell_type": "code",
   "execution_count": null,
   "id": "caadead6",
   "metadata": {
    "id": "caadead6"
   },
   "outputs": [],
   "source": [
    "nlp = spacy.load('en_core_web_sm')\n",
    "df['quot'] = list(nlp.pipe(df.quot))"
   ]
  },
  {
   "cell_type": "code",
   "execution_count": null,
   "id": "48a34282",
   "metadata": {
    "colab": {
     "base_uri": "https://localhost:8080/",
     "height": 201
    },
    "id": "48a34282",
    "outputId": "c498aea8-f954-46e9-9bd0-90d8a50467b2"
   },
   "outputs": [],
   "source": [
    "df.head()"
   ]
  },
  {
   "cell_type": "markdown",
   "id": "277c36ad",
   "metadata": {
    "id": "277c36ad"
   },
   "source": [
    "**Removing Stop Words:**\n"
   ]
  },
  {
   "cell_type": "markdown",
   "id": "ZP2qbrp0UYvm",
   "metadata": {
    "id": "ZP2qbrp0UYvm"
   },
   "source": [
    "nltk:"
   ]
  },
  {
   "cell_type": "code",
   "execution_count": null,
   "id": "3861fd16",
   "metadata": {
    "colab": {
     "base_uri": "https://localhost:8080/"
    },
    "id": "3861fd16",
    "outputId": "9d922d8b-8fe4-4c54-955b-c2d96d204768"
   },
   "outputs": [],
   "source": [
    "nltk.download('stopwords')\n",
    "stop = stopwords.words('english')\n",
    "def remove_stop_words(text):\n",
    "    return ' '.join([word for word in str(text).split() if word not in (stop)])\n",
    "df['quot'] = df['quot'].apply(remove_stop_words)"
   ]
  },
  {
   "cell_type": "code",
   "execution_count": null,
   "id": "9g1fMgH0tZ-w",
   "metadata": {
    "colab": {
     "base_uri": "https://localhost:8080/",
     "height": 201
    },
    "id": "9g1fMgH0tZ-w",
    "outputId": "970f87d6-0bb1-4af7-903b-3b856b2e7f18"
   },
   "outputs": [],
   "source": [
    "df.head()"
   ]
  },
  {
   "cell_type": "markdown",
   "id": "aXp4qmSoUc2y",
   "metadata": {
    "id": "aXp4qmSoUc2y"
   },
   "source": [
    "spacy:"
   ]
  },
  {
   "cell_type": "code",
   "execution_count": null,
   "id": "WSW6jNj5Hvwi",
   "metadata": {
    "id": "WSW6jNj5Hvwi",
    "scrolled": true
   },
   "outputs": [],
   "source": [
    "import spacy\n",
    "#loading the english language small model of spacy\n",
    "en = spacy.load('en_core_web_sm')\n",
    "sw_spacy = en.Defaults.stop_words\n",
    "def remove_stop_words1(text):\n",
    "    return ' '.join([word for word in str(text).split() if word not in (sw_spacy)])\n",
    "df['quot'] = df['quot'].apply(remove_stop_words1)"
   ]
  },
  {
   "cell_type": "markdown",
   "id": "1b02ea5d",
   "metadata": {
    "id": "1b02ea5d"
   },
   "source": [
    "**Removing punctuations:**\n"
   ]
  },
  {
   "cell_type": "code",
   "execution_count": null,
   "id": "8b22942e",
   "metadata": {
    "id": "8b22942e"
   },
   "outputs": [],
   "source": [
    "#df.loc[:,\"quote\"] = df.quote.apply(lambda x : \" \".join(re.findall('[\\w]+',x)))"
   ]
  },
  {
   "cell_type": "code",
   "execution_count": null,
   "id": "uHySXxTaaINE",
   "metadata": {
    "id": "uHySXxTaaINE"
   },
   "outputs": [],
   "source": [
    "df['quot'] = df['quot'].apply(lambda x: re.sub('[%s]' % re.escape(string.punctuation), '' , x))"
   ]
  },
  {
   "cell_type": "code",
   "execution_count": null,
   "id": "0tzVoix7UQx4",
   "metadata": {
    "colab": {
     "base_uri": "https://localhost:8080/",
     "height": 201
    },
    "id": "0tzVoix7UQx4",
    "outputId": "9e2b1ede-d2e8-40a4-f121-1294bb1c0913"
   },
   "outputs": [],
   "source": [
    "df.head()"
   ]
  },
  {
   "cell_type": "markdown",
   "id": "e93d1af8",
   "metadata": {
    "id": "e93d1af8"
   },
   "source": [
    "**Removing numbers:**\n"
   ]
  },
  {
   "cell_type": "code",
   "execution_count": null,
   "id": "4c2f9f6a",
   "metadata": {
    "id": "4c2f9f6a"
   },
   "outputs": [],
   "source": [
    "df[\"quot\"]=df.quot.replace('\\w*\\d\\w*', '', regex=True)\n"
   ]
  },
  {
   "cell_type": "code",
   "execution_count": null,
   "id": "5894802b",
   "metadata": {
    "colab": {
     "base_uri": "https://localhost:8080/",
     "height": 201
    },
    "id": "5894802b",
    "outputId": "a50d7b37-abd4-413c-82ae-9ff8fc05b3fd"
   },
   "outputs": [],
   "source": [
    "df.head()"
   ]
  },
  {
   "cell_type": "markdown",
   "id": "8dc65201",
   "metadata": {
    "id": "8dc65201"
   },
   "source": [
    "**Remove Frequent Words:**"
   ]
  },
  {
   "cell_type": "code",
   "execution_count": null,
   "id": "1c9b63ed",
   "metadata": {
    "colab": {
     "base_uri": "https://localhost:8080/"
    },
    "id": "1c9b63ed",
    "outputId": "7a73002c-299e-493c-ac3c-286aaeb5581f"
   },
   "outputs": [],
   "source": [
    "cnt = Counter()\n",
    "for txt in df[\"quot\"].values:\n",
    "    for word in txt.split():\n",
    "        cnt[word]+=1\n",
    "cnt.most_common(5)\n"
   ]
  },
  {
   "cell_type": "code",
   "execution_count": null,
   "id": "504dc999",
   "metadata": {
    "id": "504dc999"
   },
   "outputs": [],
   "source": []
  },
  {
   "cell_type": "code",
   "execution_count": null,
   "id": "5518750b",
   "metadata": {
    "colab": {
     "base_uri": "https://localhost:8080/",
     "height": 50
    },
    "id": "5518750b",
    "outputId": "49df5b49-716f-4884-92a2-f16c32553fea"
   },
   "outputs": [],
   "source": [
    "'''frequent_words = set([w for(w,wc) in cnt.most_common(10)])\n",
    "def remover(txt):\n",
    "    return \" \".join([word for word in str(txt).split() if word not in frequent_words])\n",
    "\n",
    "df[\"quote\"] = df[\"quote\"].apply(lambda txt: remover(txt))\n",
    "df.head()'''"
   ]
  },
  {
   "cell_type": "code",
   "execution_count": null,
   "id": "c0867ac6",
   "metadata": {
    "colab": {
     "base_uri": "https://localhost:8080/",
     "height": 201
    },
    "id": "c0867ac6",
    "outputId": "2499e525-36d2-476a-ad5e-4302bf9bedda"
   },
   "outputs": [],
   "source": [
    "df.head()"
   ]
  },
  {
   "cell_type": "markdown",
   "id": "203376ab",
   "metadata": {
    "id": "203376ab"
   },
   "source": [
    "**Removing rare words**\n"
   ]
  },
  {
   "cell_type": "code",
   "execution_count": null,
   "id": "b0ad5437",
   "metadata": {
    "id": "b0ad5437"
   },
   "outputs": [],
   "source": [
    "cnt = Counter()\n",
    "num_rare_words = 10\n",
    "rare_words = set([w for (w, wc) in cnt.most_common()[:-num_rare_words-1:-1]])\n"
   ]
  },
  {
   "cell_type": "code",
   "execution_count": null,
   "id": "zo5PBdJWVC2f",
   "metadata": {
    "colab": {
     "base_uri": "https://localhost:8080/"
    },
    "id": "zo5PBdJWVC2f",
    "outputId": "4b2da84a-ea38-421d-8296-53a4263712e5"
   },
   "outputs": [],
   "source": [
    "print(rare_words)"
   ]
  },
  {
   "cell_type": "code",
   "execution_count": null,
   "id": "e71e4c95",
   "metadata": {
    "id": "e71e4c95"
   },
   "outputs": [],
   "source": [
    "def remove_rare(text):\n",
    "    return \" \".join([word for word in str(text).split() if word not in rare_words])\n",
    "    "
   ]
  },
  {
   "cell_type": "code",
   "execution_count": null,
   "id": "bcafa9c2",
   "metadata": {
    "colab": {
     "base_uri": "https://localhost:8080/",
     "height": 201
    },
    "id": "bcafa9c2",
    "outputId": "55acedee-7d79-4e43-f0c8-c22a262f25c0",
    "scrolled": false
   },
   "outputs": [],
   "source": [
    "df[\"quot\"] = df[\"quot\"].apply(lambda text: remove_rare(text))\n",
    "df.head()"
   ]
  },
  {
   "cell_type": "markdown",
   "id": "a4d37441",
   "metadata": {
    "id": "a4d37441"
   },
   "source": [
    "**Remove Repeating Char**"
   ]
  },
  {
   "cell_type": "code",
   "execution_count": null,
   "id": "f01d19aa",
   "metadata": {
    "id": "f01d19aa"
   },
   "outputs": [],
   "source": [
    "def remove_repeating_char(text):\n",
    "    text = str(text)\n",
    "    return re.sub('(.)\\\\1{2,}', '\\\\1', text)\n",
    "df['quot'] = df['quot'].apply(remove_repeating_char)"
   ]
  },
  {
   "cell_type": "code",
   "execution_count": null,
   "id": "9c4dfd3d",
   "metadata": {
    "colab": {
     "base_uri": "https://localhost:8080/",
     "height": 201
    },
    "id": "9c4dfd3d",
    "outputId": "a053b27d-e40f-4525-9caf-a55b7bea74c9"
   },
   "outputs": [],
   "source": [
    "df.head()"
   ]
  },
  {
   "cell_type": "markdown",
   "id": "8beba9c9",
   "metadata": {
    "id": "8beba9c9"
   },
   "source": [
    "**Stemming:**"
   ]
  },
  {
   "cell_type": "code",
   "execution_count": null,
   "id": "9ccdfeae",
   "metadata": {
    "id": "9ccdfeae"
   },
   "outputs": [],
   "source": [
    "stemmer = PorterStemmer()\n",
    "def stem_words(text):\n",
    "    return \" \".join([stemmer.stem(word) for word in text.split()])"
   ]
  },
  {
   "cell_type": "code",
   "execution_count": null,
   "id": "b5446e78",
   "metadata": {
    "colab": {
     "base_uri": "https://localhost:8080/",
     "height": 201
    },
    "id": "b5446e78",
    "outputId": "212c832d-bf12-458e-a5d2-224e479e1495"
   },
   "outputs": [],
   "source": [
    "df[\"text_stemmed\"] = df[\"quot\"].apply(lambda text: stem_words(text))\n",
    "df.head()"
   ]
  },
  {
   "cell_type": "markdown",
   "id": "81aafc61",
   "metadata": {
    "id": "81aafc61"
   },
   "source": [
    "**Lemmatization:**"
   ]
  },
  {
   "cell_type": "code",
   "execution_count": null,
   "id": "93b42ab2",
   "metadata": {
    "colab": {
     "base_uri": "https://localhost:8080/"
    },
    "id": "93b42ab2",
    "outputId": "a3c3132b-5dd2-4227-a6bf-d01552203013"
   },
   "outputs": [],
   "source": [
    "from nltk.stem import WordNetLemmatizer\n",
    "import nltk\n",
    "nltk.download('wordnet')\n",
    "lemmatizer = WordNetLemmatizer()\n",
    "\n",
    "def lemmatize_words(text):\n",
    "    return \" \".join([lemmatizer.lemmatize(word) for word in text.split()])"
   ]
  },
  {
   "cell_type": "code",
   "execution_count": null,
   "id": "3v_NuSLPVzpT",
   "metadata": {
    "colab": {
     "base_uri": "https://localhost:8080/",
     "height": 277
    },
    "id": "3v_NuSLPVzpT",
    "outputId": "a007c95b-42f6-4542-cd29-8ad4e81fc3eb"
   },
   "outputs": [],
   "source": [
    "df[\"text_lemmatized\"] = df[\"text_stemmed\"].apply(lambda text: lemmatize_words(text))\n",
    "df.head()"
   ]
  },
  {
   "cell_type": "markdown",
   "id": "1938d9dc",
   "metadata": {
    "id": "1938d9dc"
   },
   "source": [
    "**Spell Corrections:**"
   ]
  },
  {
   "cell_type": "code",
   "execution_count": null,
   "id": "jP76K27yvHLh",
   "metadata": {
    "colab": {
     "base_uri": "https://localhost:8080/"
    },
    "id": "jP76K27yvHLh",
    "outputId": "d2b07831-dc6f-4b31-b45d-a6067f644a8f"
   },
   "outputs": [],
   "source": [
    "pip install spellchecker"
   ]
  },
  {
   "cell_type": "code",
   "execution_count": null,
   "id": "EY39URn0vVxj",
   "metadata": {
    "colab": {
     "base_uri": "https://localhost:8080/"
    },
    "id": "EY39URn0vVxj",
    "outputId": "ad351508-e48d-4fd0-b699-a86e99021b8d"
   },
   "outputs": [],
   "source": [
    "pip install pyspellchecker"
   ]
  },
  {
   "cell_type": "code",
   "execution_count": null,
   "id": "8106848d",
   "metadata": {
    "id": "8106848d"
   },
   "outputs": [],
   "source": [
    "from spellchecker import SpellChecker\n",
    "spell = SpellChecker()\n",
    "def correct_spellings(text):\n",
    "    corrected_text = []\n",
    "    misspelled_words = spell.unknown(text.split())\n",
    "    for word in text.split():\n",
    "        if word in misspelled_words:\n",
    "            corrected_text.append(spell.correction(word))\n",
    "        else:\n",
    "            corrected_text.append(word)\n",
    "    return \" \".join(corrected_text)"
   ]
  },
  {
   "cell_type": "code",
   "execution_count": null,
   "id": "4e47f946",
   "metadata": {
    "id": "4e47f946"
   },
   "outputs": [],
   "source": [
    "df[\"text_corrected\"] = df[\"text_lemmatized\"].apply(lambda text: correct_spellings(text))"
   ]
  },
  {
   "cell_type": "code",
   "execution_count": null,
   "id": "1ffabfda",
   "metadata": {
    "id": "1ffabfda"
   },
   "outputs": [],
   "source": [
    "df.head()"
   ]
  },
  {
   "cell_type": "markdown",
   "id": "667231c4",
   "metadata": {
    "id": "667231c4"
   },
   "source": [
    "**Remove Word Less Than 3:**"
   ]
  },
  {
   "cell_type": "code",
   "execution_count": null,
   "id": "adc648a1",
   "metadata": {
    "id": "adc648a1"
   },
   "outputs": [],
   "source": [
    "df[\"Without3letters\"]=df.text_lemmatized.str.replace(r'\\b(\\w{1,3})\\b', '')"
   ]
  },
  {
   "cell_type": "code",
   "execution_count": null,
   "id": "afbdd1df",
   "metadata": {
    "colab": {
     "base_uri": "https://localhost:8080/",
     "height": 327
    },
    "id": "afbdd1df",
    "outputId": "6ec4def1-b9db-45c1-94e7-423287649dde"
   },
   "outputs": [],
   "source": [
    "df.head()"
   ]
  },
  {
   "cell_type": "markdown",
   "id": "oqhATdhwWTea",
   "metadata": {
    "id": "oqhATdhwWTea"
   },
   "source": [
    "**Drop Duplicates After Cleaning:**"
   ]
  },
  {
   "cell_type": "code",
   "execution_count": null,
   "id": "OxmLmEuR041r",
   "metadata": {
    "colab": {
     "base_uri": "https://localhost:8080/"
    },
    "id": "OxmLmEuR041r",
    "outputId": "0e096912-a16e-44b2-9bd4-8d78c1f92dfc"
   },
   "outputs": [],
   "source": [
    "df.shape"
   ]
  },
  {
   "cell_type": "code",
   "execution_count": null,
   "id": "1f33df81",
   "metadata": {
    "colab": {
     "base_uri": "https://localhost:8080/"
    },
    "id": "1f33df81",
    "outputId": "35a4c550-f95e-48cd-964c-3ce4262df53b"
   },
   "outputs": [],
   "source": [
    "df.shape"
   ]
  },
  {
   "cell_type": "code",
   "execution_count": null,
   "id": "b5132e6b",
   "metadata": {
    "id": "b5132e6b"
   },
   "outputs": [],
   "source": [
    "df = df.drop_duplicates()"
   ]
  },
  {
   "cell_type": "code",
   "execution_count": null,
   "id": "EPNFJHf5NBhu",
   "metadata": {
    "colab": {
     "base_uri": "https://localhost:8080/"
    },
    "id": "EPNFJHf5NBhu",
    "outputId": "d9992032-d068-48c1-e917-496bd2c15298"
   },
   "outputs": [],
   "source": [
    "df.shape"
   ]
  },
  {
   "cell_type": "code",
   "execution_count": null,
   "id": "d2TS4T_iHYty",
   "metadata": {
    "colab": {
     "base_uri": "https://localhost:8080/"
    },
    "id": "d2TS4T_iHYty",
    "outputId": "06ec3554-71e7-47b8-f7e0-c7940ba5bcc6"
   },
   "outputs": [],
   "source": [
    "df.isna().sum()"
   ]
  },
  {
   "cell_type": "code",
   "execution_count": null,
   "id": "HKIkiVtxcxxH",
   "metadata": {
    "colab": {
     "base_uri": "https://localhost:8080/",
     "height": 327
    },
    "id": "HKIkiVtxcxxH",
    "outputId": "1ca53e54-a9c5-446a-b04e-66eebd0805f4"
   },
   "outputs": [],
   "source": [
    "df.head(5)"
   ]
  },
  {
   "cell_type": "markdown",
   "id": "pxbja8dpWhQs",
   "metadata": {
    "id": "pxbja8dpWhQs"
   },
   "source": [
    "**Save The Data After Cleaning:**"
   ]
  },
  {
   "cell_type": "code",
   "execution_count": null,
   "id": "2e95b1d7",
   "metadata": {
    "id": "2e95b1d7"
   },
   "outputs": [],
   "source": [
    "df.to_csv('quotesNew.csv', index=False)"
   ]
  },
  {
   "cell_type": "markdown",
   "id": "h7_QHsgO_3im",
   "metadata": {
    "id": "h7_QHsgO_3im"
   },
   "source": [
    "# **Exploratory data analysis (EDA)**"
   ]
  },
  {
   "cell_type": "code",
   "execution_count": null,
   "id": "-60w_wglN0AY",
   "metadata": {
    "id": "-60w_wglN0AY"
   },
   "outputs": [],
   "source": []
  },
  {
   "cell_type": "code",
   "execution_count": null,
   "id": "yGKUWcnoN0Lu",
   "metadata": {
    "id": "yGKUWcnoN0Lu"
   },
   "outputs": [],
   "source": []
  },
  {
   "cell_type": "code",
   "execution_count": null,
   "id": "bpKCaCSpN0R4",
   "metadata": {
    "id": "bpKCaCSpN0R4"
   },
   "outputs": [],
   "source": [
    "pip install wordcloud"
   ]
  },
  {
   "cell_type": "code",
   "execution_count": null,
   "id": "52SDRV-fN0aL",
   "metadata": {
    "id": "52SDRV-fN0aL"
   },
   "outputs": [],
   "source": [
    "import pandas as pd\n",
    "import numpy as np\n",
    "import matplotlib.pyplot as plt\n",
    "from wordcloud import WordCloud,STOPWORDS\n",
    "\n",
    "import os\n"
   ]
  },
  {
   "cell_type": "code",
   "execution_count": null,
   "id": "oLOX-g_jN7TV",
   "metadata": {
    "colab": {
     "base_uri": "https://localhost:8080/",
     "height": 589
    },
    "id": "oLOX-g_jN7TV",
    "outputId": "409e030b-0d1c-4eae-8338-0e4b9169d6b9"
   },
   "outputs": [],
   "source": [
    "dff = df['quot']\n",
    "text = dff.str.cat(sep=' ')\n",
    "stopwords = set(STOPWORDS)\n",
    "stopwords.add(\"said\")\n",
    "stopwords.add(\"one\")\n",
    "\n",
    "wc = WordCloud(max_font_size=40, max_words=200,stopwords=stopwords, contour_width=3, contour_color='steelblue' ,background_color=\"white\")\n",
    "\n",
    "wordcloud = wc.generate(text)\n",
    "plt.figure(figsize=(20, 20))\n",
    "plt.imshow(wordcloud, interpolation=\"bilinear\")\n",
    "plt.axis(\"off\")\n",
    "plt.show()"
   ]
  },
  {
   "cell_type": "code",
   "execution_count": null,
   "id": "oieAqsNNcMq-",
   "metadata": {
    "id": "oieAqsNNcMq-"
   },
   "outputs": [],
   "source": [
    "cnt = Counter()\n",
    "for txt in df[\"quote\"].values:\n",
    "    for word in txt.split():\n",
    "        cnt[word]+=1\n",
    "cnt.most_common(10)\n"
   ]
  },
  {
   "cell_type": "code",
   "execution_count": null,
   "id": "237d0c30",
   "metadata": {
    "colab": {
     "base_uri": "https://localhost:8080/",
     "height": 569
    },
    "id": "237d0c30",
    "outputId": "aab9bfad-c7d9-4649-837f-26c10729b6aa"
   },
   "outputs": [],
   "source": [
    "# Select top 20 authors with most quotes count in the dataset\n",
    "top_authors_with_most_quotes = df.groupby(\n",
    "    by = 'author',\n",
    "    as_index = False\n",
    ").count().sort_values(\n",
    "    by = 'quote',\n",
    "    ascending = False\n",
    ").iloc[:20]\n",
    "\n",
    "fig = plt.figure(figsize = (20, 5))\n",
    "plt.bar(top_authors_with_most_quotes['author'], top_authors_with_most_quotes['quote'], color = 'b')\n",
    "plt.xticks(rotation = 45)\n",
    "plt.show()"
   ]
  },
  {
   "cell_type": "code",
   "execution_count": null,
   "id": "6c-wUudY98Vl",
   "metadata": {
    "id": "6c-wUudY98Vl"
   },
   "outputs": [],
   "source": [
    "def get_adjectives(text):\n",
    "    blob = TextBlob(text)\n",
    "    return [ word for (word,tag) in blob.tags if tag == \"JJ\"]\n",
    "\n",
    "df['adjectives'] = df['reviews'].apply(get_adjectives)"
   ]
  },
  {
   "cell_type": "code",
   "execution_count": null,
   "id": "rl0FIyIFNO8K",
   "metadata": {
    "id": "rl0FIyIFNO8K"
   },
   "outputs": [],
   "source": [
    "import pandas as pd\n",
    "from sklearn.feature_extraction.text import CountVectorizer \n",
    "from sklearn.decomposition import TruncatedSVD\n",
    "from sklearn.decomposition import NMF\n",
    "from sklearn.metrics.pairwise import cosine_similarity"
   ]
  },
  {
   "cell_type": "code",
   "execution_count": null,
   "id": "a76sQByH-EJM",
   "metadata": {
    "id": "a76sQByH-EJM"
   },
   "outputs": [],
   "source": [
    "df=pd.read_csv('quotesNew-3.csv')"
   ]
  },
  {
   "cell_type": "code",
   "execution_count": null,
   "id": "d674843f",
   "metadata": {
    "id": "d674843f",
    "outputId": "3a4e59db-0b57-4bc2-e6c5-7ac8ae5e9cc4"
   },
   "outputs": [],
   "source": [
    "df.head()"
   ]
  },
  {
   "cell_type": "code",
   "execution_count": null,
   "id": "e32e51fc",
   "metadata": {},
   "outputs": [],
   "source": [
    "df.isna().sum()"
   ]
  },
  {
   "cell_type": "code",
   "execution_count": null,
   "id": "365e3ca6",
   "metadata": {},
   "outputs": [],
   "source": [
    "df.dropna(axis=1,inplace=True)"
   ]
  },
  {
   "cell_type": "code",
   "execution_count": null,
   "id": "8x10GgkQ7CCz",
   "metadata": {
    "colab": {
     "base_uri": "https://localhost:8080/"
    },
    "id": "8x10GgkQ7CCz",
    "outputId": "b03c5f20-27a5-4ea3-ab4e-ffbd2a758d9f"
   },
   "outputs": [],
   "source": [
    "vectorizer = CountVectorizer()\n",
    "doc_word = vectorizer.fit_transform(df['Without3letters'])\n",
    "doc_word.shape"
   ]
  },
  {
   "cell_type": "code",
   "execution_count": null,
   "id": "R3ynx_Zn7Ql3",
   "metadata": {
    "id": "R3ynx_Zn7Ql3",
    "outputId": "a45fe3a7-c75f-493b-dfce-4ff4b011b362"
   },
   "outputs": [],
   "source": [
    "pd.DataFrame(doc_word.toarray(), index=df['Without3letters'], columns=vectorizer.get_feature_names()).head(10)"
   ]
  },
  {
   "cell_type": "code",
   "execution_count": null,
   "id": "MNLcfO9e7YyX",
   "metadata": {
    "id": "MNLcfO9e7YyX",
    "outputId": "5ac30fb7-9b7c-4db3-8c09-b28cda206104"
   },
   "outputs": [],
   "source": [
    "lsa = TruncatedSVD(5)\n",
    "doc_topic = lsa.fit_transform(doc_word)\n",
    "lsa.explained_variance_ratio_"
   ]
  },
  {
   "cell_type": "code",
   "execution_count": null,
   "id": "d201b08e",
   "metadata": {
    "id": "d201b08e",
    "outputId": "1b59445b-f2a0-409b-a4e7-49e08c5e461b"
   },
   "outputs": [],
   "source": [
    "topic_word = pd.DataFrame(lsa.components_.round(3),\n",
    "             index = [\"component_1\",\"component_2\",\"component_3\",\"component_4\",\"component_5\"],\n",
    "             columns = vectorizer.get_feature_names())\n",
    "topic_word"
   ]
  },
  {
   "cell_type": "code",
   "execution_count": null,
   "id": "a154401d",
   "metadata": {
    "id": "a154401d"
   },
   "outputs": [],
   "source": [
    "def display_topics(model, feature_names, no_top_words, topic_names=None):\n",
    "    for ix, topic in enumerate(model.components_):\n",
    "        if not topic_names or not topic_names[ix]:\n",
    "            print(\"\\nTopic \", ix)\n",
    "        else:\n",
    "            print(\"\\nTopic: '\",topic_names[ix],\"'\")\n",
    "        print(\", \".join([feature_names[i]\n",
    "                        for i in topic.argsort()[:-no_top_words - 1:-1]]))"
   ]
  },
  {
   "cell_type": "code",
   "execution_count": null,
   "id": "42d3fbe4",
   "metadata": {
    "id": "42d3fbe4",
    "outputId": "44249286-1742-4857-f883-8898110dd77e"
   },
   "outputs": [],
   "source": [
    "display_topics(lsa, vectorizer.get_feature_names(), 5)"
   ]
  },
  {
   "cell_type": "code",
   "execution_count": null,
   "id": "3afce82b",
   "metadata": {
    "id": "3afce82b"
   },
   "outputs": [],
   "source": []
  }
 ],
 "metadata": {
  "colab": {
   "name": "Preprossing_withcloud.ipynb",
   "provenance": []
  },
  "kernelspec": {
   "display_name": "Python 3 (ipykernel)",
   "language": "python",
   "name": "python3"
  },
  "language_info": {
   "codemirror_mode": {
    "name": "ipython",
    "version": 3
   },
   "file_extension": ".py",
   "mimetype": "text/x-python",
   "name": "python",
   "nbconvert_exporter": "python",
   "pygments_lexer": "ipython3",
   "version": "3.9.7"
  }
 },
 "nbformat": 4,
 "nbformat_minor": 5
}
