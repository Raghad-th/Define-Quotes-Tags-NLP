{
 "cells": [
  {
   "cell_type": "markdown",
   "id": "a10c868f",
   "metadata": {},
   "source": [
    "\n",
    "# # Define Quotes Tags Using (Natural language processing(NLP)\n",
    "\n",
    "### Shaikha Bin Ateeq & Raghad Althunayan \n",
    "\n",
    "## Table of Contents\n",
    "<ul>\n",
    "<li><a href=\"#intro\">Introduction</a></li>\n",
    "<li><a href=\"#wrangling\">Data Wrangling</a></li>\n",
    "<li><a href=\"#eda\">Exploratory Data Analysis</a></li>\n",
    "<li><a href=\"#fe\">Feature Engineering</a></li>    \n",
    "<li><a href=\"#model\">Modeling</a></li> \n",
    "<li><a href=\"#conclusions\">Conclusions</a></li>\n",
    "</ul>"
   ]
  },
  {
   "cell_type": "markdown",
   "id": "33cddd6c",
   "metadata": {},
   "source": [
    "<a id='intro'></a>\n",
    "## Introduction\n",
    "\n",
    "-"
   ]
  },
  {
   "cell_type": "code",
   "execution_count": 3,
   "id": "d788224a",
   "metadata": {
    "scrolled": true
   },
   "outputs": [
    {
     "name": "stdout",
     "output_type": "stream",
     "text": [
      "Collecting contractions\n",
      "  Downloading contractions-0.0.58-py2.py3-none-any.whl (8.0 kB)\n",
      "Collecting textsearch>=0.0.21\n",
      "  Downloading textsearch-0.0.21-py2.py3-none-any.whl (7.5 kB)\n",
      "Collecting anyascii\n",
      "  Downloading anyascii-0.3.0-py3-none-any.whl (284 kB)\n",
      "\u001b[K     |████████████████████████████████| 284 kB 489 kB/s eta 0:00:01\n",
      "\u001b[?25hCollecting pyahocorasick\n",
      "  Downloading pyahocorasick-1.4.2.tar.gz (321 kB)\n",
      "\u001b[K     |████████████████████████████████| 321 kB 1.8 MB/s eta 0:00:01\n",
      "\u001b[?25hBuilding wheels for collected packages: pyahocorasick\n",
      "  Building wheel for pyahocorasick (setup.py) ... \u001b[?25ldone\n",
      "\u001b[?25h  Created wheel for pyahocorasick: filename=pyahocorasick-1.4.2-cp38-cp38-macosx_10_9_x86_64.whl size=32403 sha256=51e1bb7a6d7027b590c21caedfa6d02434802f8fd6b32b0ce576a0d3294ddd3c\n",
      "  Stored in directory: /Users/raghadalthunayan/Library/Caches/pip/wheels/74/bc/b8/e5f739a84005620cfe66d3fcb8bb182e309d6056bc6700b60e\n",
      "Successfully built pyahocorasick\n",
      "Installing collected packages: pyahocorasick, anyascii, textsearch, contractions\n",
      "Successfully installed anyascii-0.3.0 contractions-0.0.58 pyahocorasick-1.4.2 textsearch-0.0.21\n",
      "Note: you may need to restart the kernel to use updated packages.\n"
     ]
    }
   ],
   "source": [
    "#pip install contractions\n"
   ]
  },
  {
   "cell_type": "code",
   "execution_count": null,
   "id": "1a2cf211",
   "metadata": {
    "scrolled": false
   },
   "outputs": [
    {
     "name": "stdout",
     "output_type": "stream",
     "text": [
      "Found existing installation: pandas 1.3.4\n",
      "Uninstalling pandas-1.3.4:\n",
      "  Would remove:\n",
      "    /opt/anaconda3/lib/python3.9/site-packages/pandas-1.3.4-py3.9.egg-info\n",
      "    /opt/anaconda3/lib/python3.9/site-packages/pandas/*\n",
      "  Would not remove (might be manually added):\n",
      "    /opt/anaconda3/lib/python3.9/site-packages/pandas/_libs/algos.cpython-39-darwin.so\n",
      "    /opt/anaconda3/lib/python3.9/site-packages/pandas/_libs/arrays.cpython-39-darwin.so\n",
      "    /opt/anaconda3/lib/python3.9/site-packages/pandas/_libs/groupby.cpython-39-darwin.so\n",
      "    /opt/anaconda3/lib/python3.9/site-packages/pandas/_libs/hashing.cpython-39-darwin.so\n",
      "    /opt/anaconda3/lib/python3.9/site-packages/pandas/_libs/hashtable.cpython-39-darwin.so\n",
      "    /opt/anaconda3/lib/python3.9/site-packages/pandas/_libs/index.cpython-39-darwin.so\n",
      "    /opt/anaconda3/lib/python3.9/site-packages/pandas/_libs/indexing.cpython-39-darwin.so\n",
      "    /opt/anaconda3/lib/python3.9/site-packages/pandas/_libs/internals.cpython-39-darwin.so\n",
      "    /opt/anaconda3/lib/python3.9/site-packages/pandas/_libs/interval.cpython-39-darwin.so\n",
      "    /opt/anaconda3/lib/python3.9/site-packages/pandas/_libs/join.cpython-39-darwin.so\n",
      "    /opt/anaconda3/lib/python3.9/site-packages/pandas/_libs/json.cpython-39-darwin.so\n",
      "    /opt/anaconda3/lib/python3.9/site-packages/pandas/_libs/lib.cpython-39-darwin.so\n",
      "    /opt/anaconda3/lib/python3.9/site-packages/pandas/_libs/missing.cpython-39-darwin.so\n",
      "    /opt/anaconda3/lib/python3.9/site-packages/pandas/_libs/ops.cpython-39-darwin.so\n",
      "    /opt/anaconda3/lib/python3.9/site-packages/pandas/_libs/ops_dispatch.cpython-39-darwin.so\n",
      "    /opt/anaconda3/lib/python3.9/site-packages/pandas/_libs/parsers.cpython-39-darwin.so\n",
      "    /opt/anaconda3/lib/python3.9/site-packages/pandas/_libs/properties.cpython-39-darwin.so\n",
      "    /opt/anaconda3/lib/python3.9/site-packages/pandas/_libs/reduction.cpython-39-darwin.so\n",
      "    /opt/anaconda3/lib/python3.9/site-packages/pandas/_libs/reshape.cpython-39-darwin.so\n",
      "    /opt/anaconda3/lib/python3.9/site-packages/pandas/_libs/sparse.cpython-39-darwin.so\n",
      "    /opt/anaconda3/lib/python3.9/site-packages/pandas/_libs/testing.cpython-39-darwin.so\n",
      "    /opt/anaconda3/lib/python3.9/site-packages/pandas/_libs/tslib.cpython-39-darwin.so\n",
      "    /opt/anaconda3/lib/python3.9/site-packages/pandas/_libs/tslibs/base.cpython-39-darwin.so\n",
      "    /opt/anaconda3/lib/python3.9/site-packages/pandas/_libs/tslibs/ccalendar.cpython-39-darwin.so\n",
      "    /opt/anaconda3/lib/python3.9/site-packages/pandas/_libs/tslibs/conversion.cpython-39-darwin.so\n",
      "    /opt/anaconda3/lib/python3.9/site-packages/pandas/_libs/tslibs/dtypes.cpython-39-darwin.so\n",
      "    /opt/anaconda3/lib/python3.9/site-packages/pandas/_libs/tslibs/fields.cpython-39-darwin.so\n",
      "    /opt/anaconda3/lib/python3.9/site-packages/pandas/_libs/tslibs/nattype.cpython-39-darwin.so\n",
      "    /opt/anaconda3/lib/python3.9/site-packages/pandas/_libs/tslibs/np_datetime.cpython-39-darwin.so\n",
      "    /opt/anaconda3/lib/python3.9/site-packages/pandas/_libs/tslibs/offsets.cpython-39-darwin.so\n",
      "    /opt/anaconda3/lib/python3.9/site-packages/pandas/_libs/tslibs/parsing.cpython-39-darwin.so\n",
      "    /opt/anaconda3/lib/python3.9/site-packages/pandas/_libs/tslibs/period.cpython-39-darwin.so\n",
      "    /opt/anaconda3/lib/python3.9/site-packages/pandas/_libs/tslibs/strptime.cpython-39-darwin.so\n",
      "    /opt/anaconda3/lib/python3.9/site-packages/pandas/_libs/tslibs/timedeltas.cpython-39-darwin.so\n",
      "    /opt/anaconda3/lib/python3.9/site-packages/pandas/_libs/tslibs/timestamps.cpython-39-darwin.so\n",
      "    /opt/anaconda3/lib/python3.9/site-packages/pandas/_libs/tslibs/timezones.cpython-39-darwin.so\n",
      "    /opt/anaconda3/lib/python3.9/site-packages/pandas/_libs/tslibs/tzconversion.cpython-39-darwin.so\n",
      "    /opt/anaconda3/lib/python3.9/site-packages/pandas/_libs/tslibs/vectorized.cpython-39-darwin.so\n",
      "    /opt/anaconda3/lib/python3.9/site-packages/pandas/_libs/window/aggregations.cpython-39-darwin.so\n",
      "    /opt/anaconda3/lib/python3.9/site-packages/pandas/_libs/window/indexers.cpython-39-darwin.so\n",
      "    /opt/anaconda3/lib/python3.9/site-packages/pandas/_libs/writers.cpython-39-darwin.so\n",
      "    /opt/anaconda3/lib/python3.9/site-packages/pandas/io/sas/_sas.cpython-39-darwin.so\n",
      "Proceed (Y/n)? "
     ]
    }
   ],
   "source": [
    "!pip uninstall pandas\n",
    "!pip install pandas==0.22"
   ]
  },
  {
   "cell_type": "code",
   "execution_count": 6,
   "id": "d9632c56",
   "metadata": {},
   "outputs": [
    {
     "ename": "AttributeError",
     "evalue": "partially initialized module 'pandas' has no attribute 'core' (most likely due to a circular import)",
     "output_type": "error",
     "traceback": [
      "\u001b[0;31m---------------------------------------------------------------------------\u001b[0m",
      "\u001b[0;31mAttributeError\u001b[0m                            Traceback (most recent call last)",
      "\u001b[0;32m/var/folders/sh/7nxdcqpn0f14wcm9087htcrh0000gn/T/ipykernel_5758/635082365.py\u001b[0m in \u001b[0;36m<module>\u001b[0;34m\u001b[0m\n\u001b[1;32m      1\u001b[0m \u001b[0;32mimport\u001b[0m \u001b[0mnumpy\u001b[0m \u001b[0;32mas\u001b[0m \u001b[0mnp\u001b[0m\u001b[0;34m\u001b[0m\u001b[0;34m\u001b[0m\u001b[0m\n\u001b[0;32m----> 2\u001b[0;31m \u001b[0;32mimport\u001b[0m \u001b[0mpandas\u001b[0m \u001b[0;32mas\u001b[0m \u001b[0mpd\u001b[0m\u001b[0;34m\u001b[0m\u001b[0;34m\u001b[0m\u001b[0m\n\u001b[0m\u001b[1;32m      3\u001b[0m \u001b[0;32mimport\u001b[0m \u001b[0mstring\u001b[0m \u001b[0;32mas\u001b[0m \u001b[0mst\u001b[0m\u001b[0;34m\u001b[0m\u001b[0;34m\u001b[0m\u001b[0m\n\u001b[1;32m      4\u001b[0m \u001b[0;32mimport\u001b[0m \u001b[0mre\u001b[0m\u001b[0;34m\u001b[0m\u001b[0;34m\u001b[0m\u001b[0m\n\u001b[1;32m      5\u001b[0m \u001b[0;32mimport\u001b[0m \u001b[0mnltk\u001b[0m\u001b[0;34m\u001b[0m\u001b[0;34m\u001b[0m\u001b[0m\n",
      "\u001b[0;32m/opt/anaconda3/lib/python3.9/site-packages/pandas/__init__.py\u001b[0m in \u001b[0;36m<module>\u001b[0;34m\u001b[0m\n\u001b[1;32m    177\u001b[0m \u001b[0;34m\u001b[0m\u001b[0m\n\u001b[1;32m    178\u001b[0m \u001b[0;32mfrom\u001b[0m \u001b[0mpandas\u001b[0m\u001b[0;34m.\u001b[0m\u001b[0mutil\u001b[0m\u001b[0;34m.\u001b[0m\u001b[0m_tester\u001b[0m \u001b[0;32mimport\u001b[0m \u001b[0mtest\u001b[0m\u001b[0;34m\u001b[0m\u001b[0;34m\u001b[0m\u001b[0m\n\u001b[0;32m--> 179\u001b[0;31m \u001b[0;32mimport\u001b[0m \u001b[0mpandas\u001b[0m\u001b[0;34m.\u001b[0m\u001b[0mtesting\u001b[0m\u001b[0;34m\u001b[0m\u001b[0;34m\u001b[0m\u001b[0m\n\u001b[0m\u001b[1;32m    180\u001b[0m \u001b[0;32mimport\u001b[0m \u001b[0mpandas\u001b[0m\u001b[0;34m.\u001b[0m\u001b[0marrays\u001b[0m\u001b[0;34m\u001b[0m\u001b[0;34m\u001b[0m\u001b[0m\n\u001b[1;32m    181\u001b[0m \u001b[0;34m\u001b[0m\u001b[0m\n",
      "\u001b[0;32m/opt/anaconda3/lib/python3.9/site-packages/pandas/testing.py\u001b[0m in \u001b[0;36m<module>\u001b[0;34m\u001b[0m\n\u001b[1;32m      4\u001b[0m \u001b[0;34m\u001b[0m\u001b[0m\n\u001b[1;32m      5\u001b[0m \u001b[0;34m\u001b[0m\u001b[0m\n\u001b[0;32m----> 6\u001b[0;31m from pandas._testing import (\n\u001b[0m\u001b[1;32m      7\u001b[0m     \u001b[0massert_extension_array_equal\u001b[0m\u001b[0;34m,\u001b[0m\u001b[0;34m\u001b[0m\u001b[0;34m\u001b[0m\u001b[0m\n\u001b[1;32m      8\u001b[0m     \u001b[0massert_frame_equal\u001b[0m\u001b[0;34m,\u001b[0m\u001b[0;34m\u001b[0m\u001b[0;34m\u001b[0m\u001b[0m\n",
      "\u001b[0;32m/opt/anaconda3/lib/python3.9/site-packages/pandas/_testing/__init__.py\u001b[0m in \u001b[0;36m<module>\u001b[0;34m\u001b[0m\n\u001b[1;32m    946\u001b[0m \u001b[0;34m\u001b[0m\u001b[0m\n\u001b[1;32m    947\u001b[0m \u001b[0;34m\u001b[0m\u001b[0m\n\u001b[0;32m--> 948\u001b[0;31m \u001b[0mcython_table\u001b[0m \u001b[0;34m=\u001b[0m \u001b[0mpd\u001b[0m\u001b[0;34m.\u001b[0m\u001b[0mcore\u001b[0m\u001b[0;34m.\u001b[0m\u001b[0mcommon\u001b[0m\u001b[0;34m.\u001b[0m\u001b[0m_cython_table\u001b[0m\u001b[0;34m.\u001b[0m\u001b[0mitems\u001b[0m\u001b[0;34m(\u001b[0m\u001b[0;34m)\u001b[0m\u001b[0;34m\u001b[0m\u001b[0;34m\u001b[0m\u001b[0m\n\u001b[0m\u001b[1;32m    949\u001b[0m \u001b[0;34m\u001b[0m\u001b[0m\n\u001b[1;32m    950\u001b[0m \u001b[0;34m\u001b[0m\u001b[0m\n",
      "\u001b[0;31mAttributeError\u001b[0m: partially initialized module 'pandas' has no attribute 'core' (most likely due to a circular import)"
     ]
    }
   ],
   "source": [
    "import numpy as np \n",
    "import pandas as pd\n",
    "import string as st\n",
    "import re\n",
    "import nltk\n",
    "from nltk import PorterStemmer, WordNetLemmatizer\n",
    "from nltk.corpus import stopwords\n",
    "from scipy import linalg\n",
    "import matplotlib.pyplot as plt \n",
    "import seaborn as sns\n",
    "\n",
    "#from collections import Counter\n",
    "#from stop_words import get_stop_words\n",
    "#import contractions"
   ]
  },
  {
   "cell_type": "code",
   "execution_count": null,
   "id": "329da0a5",
   "metadata": {
    "scrolled": true
   },
   "outputs": [],
   "source": [
    "df= pd.read_csv(\"quotes.csv\")\n",
    "df.head(5)"
   ]
  },
  {
   "cell_type": "code",
   "execution_count": 33,
   "id": "93fc9dad",
   "metadata": {},
   "outputs": [
    {
     "data": {
      "text/plain": [
       "(499709, 3)"
      ]
     },
     "execution_count": 33,
     "metadata": {},
     "output_type": "execute_result"
    }
   ],
   "source": [
    "df.shape"
   ]
  },
  {
   "cell_type": "code",
   "execution_count": 34,
   "id": "a0ab09b9",
   "metadata": {
    "scrolled": true
   },
   "outputs": [
    {
     "name": "stdout",
     "output_type": "stream",
     "text": [
      "<class 'pandas.core.frame.DataFrame'>\n",
      "RangeIndex: 499709 entries, 0 to 499708\n",
      "Data columns (total 3 columns):\n",
      " #   Column    Non-Null Count   Dtype \n",
      "---  ------    --------------   ----- \n",
      " 0   quote     499708 non-null  object\n",
      " 1   author    497956 non-null  object\n",
      " 2   category  499646 non-null  object\n",
      "dtypes: object(3)\n",
      "memory usage: 11.4+ MB\n"
     ]
    }
   ],
   "source": [
    "df.info()"
   ]
  },
  {
   "cell_type": "code",
   "execution_count": 35,
   "id": "c2753f8d",
   "metadata": {},
   "outputs": [],
   "source": [
    "df.quote=df.quote.astype(str)\n",
    "df.author=df.author.astype(str)\n",
    "df.category=df.category.astype(str)"
   ]
  },
  {
   "cell_type": "code",
   "execution_count": 36,
   "id": "f436a5cd",
   "metadata": {},
   "outputs": [
    {
     "data": {
      "text/plain": [
       "quote       0\n",
       "author      0\n",
       "category    0\n",
       "dtype: int64"
      ]
     },
     "execution_count": 36,
     "metadata": {},
     "output_type": "execute_result"
    }
   ],
   "source": [
    "df.isna().sum()"
   ]
  },
  {
   "cell_type": "code",
   "execution_count": 37,
   "id": "b1f91fb2",
   "metadata": {
    "scrolled": false
   },
   "outputs": [
    {
     "data": {
      "text/plain": [
       "education, happiness, hope, inspirational, intelligence, knowledge, life, love, philosophy, quotes, truth, wisdom                                      1648\n",
       "humorous                                                                                                                                               1063\n",
       "happiness                                                                                                                                              1013\n",
       "friendship                                                                                                                                              901\n",
       "prayer                                                                                                                                                  873\n",
       "                                                                                                                                                       ... \n",
       "grace, spirituality                                                                                                                                       1\n",
       "heart, loss, love                                                                                                                                         1\n",
       "education, enlightenment, light                                                                                                                           1\n",
       "content, media, piracy                                                                                                                                    1\n",
       "appreciating, appreciation, attitude, ledger, life, perspective, privilege, thank-you, thankful, thankful-heart, thankfulness, thanks, thanksgiving       1\n",
       "Name: category, Length: 367919, dtype: int64"
      ]
     },
     "execution_count": 37,
     "metadata": {},
     "output_type": "execute_result"
    }
   ],
   "source": [
    "df.category.value_counts()"
   ]
  },
  {
   "cell_type": "code",
   "execution_count": 38,
   "id": "2220f24b",
   "metadata": {},
   "outputs": [
    {
     "data": {
      "text/plain": [
       "Index(['The best way to remember your wife's birthday is to forget it once.',\n",
       "       'I know lots more old drunks than old doctors.',\n",
       "       'She's too young for Medicare and too old for me to care.',\n",
       "       'None think the great unhappy  but the great.',\n",
       "       'Great and good are seldom the same man.',\n",
       "       'Never let go of that fiery sadness called desire.',\n",
       "       'In the game of life nothing is less important than the score at half time.',\n",
       "       'The magic of first love is our ignorance that it can ever end.',\n",
       "       'The only way to have a friend is to be one.',\n",
       "       'Every true man  sir  who is a little above the level of the beasts and plants  lives so as to give a meaning and a value to his own life.',\n",
       "       'It is easier to forgive an enemy than a friend.',\n",
       "       'If you would be loved  love and be lovable.',\n",
       "       'Sadness flies away on the wings of time.',\n",
       "       'A happy life is one which is in accordance with its own nature.',\n",
       "       'A friend in need is a friend indeed.',\n",
       "       'Chance makes our parents  but choice makes our friends.',\n",
       "       'Make yourself necessary to somebody.',\n",
       "       'You never know what is enough unless you know what is more than enough.',\n",
       "       'Man's real life is happy  chiefly because he is ever expecting that it soon will be so.'],\n",
       "      dtype='object')"
      ]
     },
     "execution_count": 38,
     "metadata": {},
     "output_type": "execute_result"
    }
   ],
   "source": [
    "df.quote.value_counts()[df.quote.value_counts().values>10].index"
   ]
  },
  {
   "cell_type": "markdown",
   "id": "5ae119ee",
   "metadata": {},
   "source": [
    "<a id='wrangling'></a>\n",
    "# Data Wrangling\n",
    "\n",
    ">  In this section of the report, I will load in the data, check for cleanliness, and then trim and clean our dataset for analysis. I will document my steps carefully and justify cleaning decisions.\n",
    "\n",
    "<li><a href=\"#Gathering\">Data Gathering</a></li>\n",
    "<li><a href=\"#Assesment\">Data Assesment</a></li>\n",
    "<li><a href=\"#Assesment Report\">Assesment Report</a></li>\n",
    "<li><a href=\"#Cleaning\">Data Cleaning</a></li>"
   ]
  },
  {
   "cell_type": "markdown",
   "id": "2daa89c4",
   "metadata": {},
   "source": [
    "<a href=\"#Cleaning\"></a>\n",
    "## Data Cleaning"
   ]
  },
  {
   "cell_type": "markdown",
   "id": "4dbcfeb9",
   "metadata": {},
   "source": [
    "### Contraction"
   ]
  },
  {
   "cell_type": "code",
   "execution_count": 39,
   "id": "c3a23087",
   "metadata": {},
   "outputs": [],
   "source": [
    "df['quote']=df['quote'].apply(lambda x: contractions.fix(x))"
   ]
  },
  {
   "cell_type": "code",
   "execution_count": 40,
   "id": "de7877f3",
   "metadata": {},
   "outputs": [
    {
     "data": {
      "text/html": [
       "<div>\n",
       "<style scoped>\n",
       "    .dataframe tbody tr th:only-of-type {\n",
       "        vertical-align: middle;\n",
       "    }\n",
       "\n",
       "    .dataframe tbody tr th {\n",
       "        vertical-align: top;\n",
       "    }\n",
       "\n",
       "    .dataframe thead th {\n",
       "        text-align: right;\n",
       "    }\n",
       "</style>\n",
       "<table border=\"1\" class=\"dataframe\">\n",
       "  <thead>\n",
       "    <tr style=\"text-align: right;\">\n",
       "      <th></th>\n",
       "      <th>quote</th>\n",
       "      <th>author</th>\n",
       "      <th>category</th>\n",
       "    </tr>\n",
       "  </thead>\n",
       "  <tbody>\n",
       "    <tr>\n",
       "      <th>0</th>\n",
       "      <td>I am selfish, impatient and a little insecure....</td>\n",
       "      <td>Marilyn Monroe</td>\n",
       "      <td>attributed-no-source, best, life, love, mistak...</td>\n",
       "    </tr>\n",
       "    <tr>\n",
       "      <th>1</th>\n",
       "      <td>you have got to dance like there is nobody wat...</td>\n",
       "      <td>William W. Purkey</td>\n",
       "      <td>dance, heaven, hurt, inspirational, life, love...</td>\n",
       "    </tr>\n",
       "    <tr>\n",
       "      <th>2</th>\n",
       "      <td>You know you are in love when you cannot fall ...</td>\n",
       "      <td>Dr. Seuss</td>\n",
       "      <td>attributed-no-source, dreams, love, reality, s...</td>\n",
       "    </tr>\n",
       "    <tr>\n",
       "      <th>3</th>\n",
       "      <td>A friend is someone who knows all about you an...</td>\n",
       "      <td>Elbert Hubbard</td>\n",
       "      <td>friend, friendship, knowledge, love</td>\n",
       "    </tr>\n",
       "    <tr>\n",
       "      <th>4</th>\n",
       "      <td>Darkness cannot drive out darkness: only light...</td>\n",
       "      <td>Martin Luther King Jr., A Testament of Hope: T...</td>\n",
       "      <td>darkness, drive-out, hate, inspirational, ligh...</td>\n",
       "    </tr>\n",
       "  </tbody>\n",
       "</table>\n",
       "</div>"
      ],
      "text/plain": [
       "                                               quote  \\\n",
       "0  I am selfish, impatient and a little insecure....   \n",
       "1  you have got to dance like there is nobody wat...   \n",
       "2  You know you are in love when you cannot fall ...   \n",
       "3  A friend is someone who knows all about you an...   \n",
       "4  Darkness cannot drive out darkness: only light...   \n",
       "\n",
       "                                              author  \\\n",
       "0                                     Marilyn Monroe   \n",
       "1                                  William W. Purkey   \n",
       "2                                          Dr. Seuss   \n",
       "3                                     Elbert Hubbard   \n",
       "4  Martin Luther King Jr., A Testament of Hope: T...   \n",
       "\n",
       "                                            category  \n",
       "0  attributed-no-source, best, life, love, mistak...  \n",
       "1  dance, heaven, hurt, inspirational, life, love...  \n",
       "2  attributed-no-source, dreams, love, reality, s...  \n",
       "3                friend, friendship, knowledge, love  \n",
       "4  darkness, drive-out, hate, inspirational, ligh...  "
      ]
     },
     "execution_count": 40,
     "metadata": {},
     "output_type": "execute_result"
    }
   ],
   "source": [
    "df.head()"
   ]
  },
  {
   "cell_type": "markdown",
   "id": "4ae1a442",
   "metadata": {},
   "source": [
    "### Converting letters to lowercase\n"
   ]
  },
  {
   "cell_type": "code",
   "execution_count": 41,
   "id": "e221bbf8",
   "metadata": {},
   "outputs": [],
   "source": [
    "df.loc[:,\"quote\"] = df.quote.apply(lambda x : str.lower(x))\n"
   ]
  },
  {
   "cell_type": "code",
   "execution_count": 42,
   "id": "e0d5c4ba",
   "metadata": {},
   "outputs": [
    {
     "data": {
      "text/html": [
       "<div>\n",
       "<style scoped>\n",
       "    .dataframe tbody tr th:only-of-type {\n",
       "        vertical-align: middle;\n",
       "    }\n",
       "\n",
       "    .dataframe tbody tr th {\n",
       "        vertical-align: top;\n",
       "    }\n",
       "\n",
       "    .dataframe thead th {\n",
       "        text-align: right;\n",
       "    }\n",
       "</style>\n",
       "<table border=\"1\" class=\"dataframe\">\n",
       "  <thead>\n",
       "    <tr style=\"text-align: right;\">\n",
       "      <th></th>\n",
       "      <th>quote</th>\n",
       "      <th>author</th>\n",
       "      <th>category</th>\n",
       "    </tr>\n",
       "  </thead>\n",
       "  <tbody>\n",
       "    <tr>\n",
       "      <th>0</th>\n",
       "      <td>i am selfish, impatient and a little insecure....</td>\n",
       "      <td>Marilyn Monroe</td>\n",
       "      <td>attributed-no-source, best, life, love, mistak...</td>\n",
       "    </tr>\n",
       "    <tr>\n",
       "      <th>1</th>\n",
       "      <td>you have got to dance like there is nobody wat...</td>\n",
       "      <td>William W. Purkey</td>\n",
       "      <td>dance, heaven, hurt, inspirational, life, love...</td>\n",
       "    </tr>\n",
       "    <tr>\n",
       "      <th>2</th>\n",
       "      <td>you know you are in love when you cannot fall ...</td>\n",
       "      <td>Dr. Seuss</td>\n",
       "      <td>attributed-no-source, dreams, love, reality, s...</td>\n",
       "    </tr>\n",
       "    <tr>\n",
       "      <th>3</th>\n",
       "      <td>a friend is someone who knows all about you an...</td>\n",
       "      <td>Elbert Hubbard</td>\n",
       "      <td>friend, friendship, knowledge, love</td>\n",
       "    </tr>\n",
       "    <tr>\n",
       "      <th>4</th>\n",
       "      <td>darkness cannot drive out darkness: only light...</td>\n",
       "      <td>Martin Luther King Jr., A Testament of Hope: T...</td>\n",
       "      <td>darkness, drive-out, hate, inspirational, ligh...</td>\n",
       "    </tr>\n",
       "  </tbody>\n",
       "</table>\n",
       "</div>"
      ],
      "text/plain": [
       "                                               quote  \\\n",
       "0  i am selfish, impatient and a little insecure....   \n",
       "1  you have got to dance like there is nobody wat...   \n",
       "2  you know you are in love when you cannot fall ...   \n",
       "3  a friend is someone who knows all about you an...   \n",
       "4  darkness cannot drive out darkness: only light...   \n",
       "\n",
       "                                              author  \\\n",
       "0                                     Marilyn Monroe   \n",
       "1                                  William W. Purkey   \n",
       "2                                          Dr. Seuss   \n",
       "3                                     Elbert Hubbard   \n",
       "4  Martin Luther King Jr., A Testament of Hope: T...   \n",
       "\n",
       "                                            category  \n",
       "0  attributed-no-source, best, life, love, mistak...  \n",
       "1  dance, heaven, hurt, inspirational, life, love...  \n",
       "2  attributed-no-source, dreams, love, reality, s...  \n",
       "3                friend, friendship, knowledge, love  \n",
       "4  darkness, drive-out, hate, inspirational, ligh...  "
      ]
     },
     "execution_count": 42,
     "metadata": {},
     "output_type": "execute_result"
    }
   ],
   "source": [
    "df.head()"
   ]
  },
  {
   "cell_type": "markdown",
   "id": "2296bb82",
   "metadata": {},
   "source": [
    "### Removing punctuations\n"
   ]
  },
  {
   "cell_type": "code",
   "execution_count": 43,
   "id": "97a1b36a",
   "metadata": {},
   "outputs": [],
   "source": [
    "df.loc[:,\"quote\"] = df.quote.apply(lambda x : \" \".join(re.findall('[\\w]+',x)))\n"
   ]
  },
  {
   "cell_type": "markdown",
   "id": "c4f0d688",
   "metadata": {},
   "source": [
    "### Removing Stop Words\n"
   ]
  },
  {
   "cell_type": "code",
   "execution_count": 44,
   "id": "05cdff4e",
   "metadata": {},
   "outputs": [
    {
     "name": "stderr",
     "output_type": "stream",
     "text": [
      "[nltk_data] Downloading package stopwords to\n",
      "[nltk_data]     /Users/raghadalthunayan/nltk_data...\n",
      "[nltk_data]   Unzipping corpora/stopwords.zip.\n"
     ]
    }
   ],
   "source": [
    "nltk.download('stopwords')\n",
    "stop = stopwords.words('english')\n",
    "def remove_stop_words(text):\n",
    "    return ' '.join([word for word in str(text).split() if word not in (stop)])\n",
    "df['quote'] = df['quote'].apply(remove_stop_words)"
   ]
  },
  {
   "cell_type": "code",
   "execution_count": 59,
   "id": "df08e780",
   "metadata": {},
   "outputs": [
    {
     "data": {
      "text/plain": [
       "['i',\n",
       " 'me',\n",
       " 'my',\n",
       " 'myself',\n",
       " 'we',\n",
       " 'our',\n",
       " 'ours',\n",
       " 'ourselves',\n",
       " 'you',\n",
       " \"you're\",\n",
       " \"you've\",\n",
       " \"you'll\",\n",
       " \"you'd\",\n",
       " 'your',\n",
       " 'yours',\n",
       " 'yourself',\n",
       " 'yourselves',\n",
       " 'he',\n",
       " 'him',\n",
       " 'his',\n",
       " 'himself',\n",
       " 'she',\n",
       " \"she's\",\n",
       " 'her',\n",
       " 'hers',\n",
       " 'herself',\n",
       " 'it',\n",
       " \"it's\",\n",
       " 'its',\n",
       " 'itself',\n",
       " 'they',\n",
       " 'them',\n",
       " 'their',\n",
       " 'theirs',\n",
       " 'themselves',\n",
       " 'what',\n",
       " 'which',\n",
       " 'who',\n",
       " 'whom',\n",
       " 'this',\n",
       " 'that',\n",
       " \"that'll\",\n",
       " 'these',\n",
       " 'those',\n",
       " 'am',\n",
       " 'is',\n",
       " 'are',\n",
       " 'was',\n",
       " 'were',\n",
       " 'be',\n",
       " 'been',\n",
       " 'being',\n",
       " 'have',\n",
       " 'has',\n",
       " 'had',\n",
       " 'having',\n",
       " 'do',\n",
       " 'does',\n",
       " 'did',\n",
       " 'doing',\n",
       " 'a',\n",
       " 'an',\n",
       " 'the',\n",
       " 'and',\n",
       " 'but',\n",
       " 'if',\n",
       " 'or',\n",
       " 'because',\n",
       " 'as',\n",
       " 'until',\n",
       " 'while',\n",
       " 'of',\n",
       " 'at',\n",
       " 'by',\n",
       " 'for',\n",
       " 'with',\n",
       " 'about',\n",
       " 'against',\n",
       " 'between',\n",
       " 'into',\n",
       " 'through',\n",
       " 'during',\n",
       " 'before',\n",
       " 'after',\n",
       " 'above',\n",
       " 'below',\n",
       " 'to',\n",
       " 'from',\n",
       " 'up',\n",
       " 'down',\n",
       " 'in',\n",
       " 'out',\n",
       " 'on',\n",
       " 'off',\n",
       " 'over',\n",
       " 'under',\n",
       " 'again',\n",
       " 'further',\n",
       " 'then',\n",
       " 'once',\n",
       " 'here',\n",
       " 'there',\n",
       " 'when',\n",
       " 'where',\n",
       " 'why',\n",
       " 'how',\n",
       " 'all',\n",
       " 'any',\n",
       " 'both',\n",
       " 'each',\n",
       " 'few',\n",
       " 'more',\n",
       " 'most',\n",
       " 'other',\n",
       " 'some',\n",
       " 'such',\n",
       " 'no',\n",
       " 'nor',\n",
       " 'not',\n",
       " 'only',\n",
       " 'own',\n",
       " 'same',\n",
       " 'so',\n",
       " 'than',\n",
       " 'too',\n",
       " 'very',\n",
       " 's',\n",
       " 't',\n",
       " 'can',\n",
       " 'will',\n",
       " 'just',\n",
       " 'don',\n",
       " \"don't\",\n",
       " 'should',\n",
       " \"should've\",\n",
       " 'now',\n",
       " 'd',\n",
       " 'll',\n",
       " 'm',\n",
       " 'o',\n",
       " 're',\n",
       " 've',\n",
       " 'y',\n",
       " 'ain',\n",
       " 'aren',\n",
       " \"aren't\",\n",
       " 'couldn',\n",
       " \"couldn't\",\n",
       " 'didn',\n",
       " \"didn't\",\n",
       " 'doesn',\n",
       " \"doesn't\",\n",
       " 'hadn',\n",
       " \"hadn't\",\n",
       " 'hasn',\n",
       " \"hasn't\",\n",
       " 'haven',\n",
       " \"haven't\",\n",
       " 'isn',\n",
       " \"isn't\",\n",
       " 'ma',\n",
       " 'mightn',\n",
       " \"mightn't\",\n",
       " 'mustn',\n",
       " \"mustn't\",\n",
       " 'needn',\n",
       " \"needn't\",\n",
       " 'shan',\n",
       " \"shan't\",\n",
       " 'shouldn',\n",
       " \"shouldn't\",\n",
       " 'wasn',\n",
       " \"wasn't\",\n",
       " 'weren',\n",
       " \"weren't\",\n",
       " 'won',\n",
       " \"won't\",\n",
       " 'wouldn',\n",
       " \"wouldn't\"]"
      ]
     },
     "execution_count": 59,
     "metadata": {},
     "output_type": "execute_result"
    }
   ],
   "source": [
    "stop"
   ]
  },
  {
   "cell_type": "code",
   "execution_count": null,
   "id": "3bf7ac7e",
   "metadata": {},
   "outputs": [],
   "source": [
    "# another stop_words\n",
    "#from stop_words import get_stop_words\n",
    "\n",
    "stop_words = get_stop_words('en')\n",
    "\n",
    "def remove_stopWords(s):\n",
    "    '''For removing stop words\n",
    "    '''\n",
    "    s = ' '.join(word for word in s.split() if word not in stop_words)\n",
    "    return s\n",
    "\n",
    "df1.loc[:,\"Review_Text\"] = df1.Review_Text.apply(lambda x: remove_stopWords(x))"
   ]
  },
  {
   "cell_type": "markdown",
   "id": "04dfb1f1",
   "metadata": {},
   "source": [
    "### Removing numbers\n"
   ]
  },
  {
   "cell_type": "code",
   "execution_count": 45,
   "id": "eb163903",
   "metadata": {},
   "outputs": [],
   "source": [
    "df[\"quote\"]=df.quote.replace('\\w*\\d\\w*', '', regex=True)\n"
   ]
  },
  {
   "cell_type": "markdown",
   "id": "ebe06959",
   "metadata": {},
   "source": [
    "### Removing the top 10 frequent words\n"
   ]
  },
  {
   "cell_type": "code",
   "execution_count": 46,
   "id": "a1cd2aac",
   "metadata": {},
   "outputs": [
    {
     "data": {
      "text/plain": [
       "[('one', 75840),\n",
       " ('life', 67354),\n",
       " ('like', 62236),\n",
       " ('would', 57855),\n",
       " ('people', 56887),\n",
       " ('love', 52355),\n",
       " ('us', 42959),\n",
       " ('time', 40902),\n",
       " ('know', 40397),\n",
       " ('world', 38766)]"
      ]
     },
     "execution_count": 46,
     "metadata": {},
     "output_type": "execute_result"
    }
   ],
   "source": [
    "cnt = Counter()\n",
    "for txt in df[\"quote\"].values:\n",
    "    for word in txt.split():\n",
    "        cnt[word]+=1\n",
    "cnt.most_common(10)\n"
   ]
  },
  {
   "cell_type": "code",
   "execution_count": 48,
   "id": "c51c5122",
   "metadata": {},
   "outputs": [
    {
     "data": {
      "text/html": [
       "<div>\n",
       "<style scoped>\n",
       "    .dataframe tbody tr th:only-of-type {\n",
       "        vertical-align: middle;\n",
       "    }\n",
       "\n",
       "    .dataframe tbody tr th {\n",
       "        vertical-align: top;\n",
       "    }\n",
       "\n",
       "    .dataframe thead th {\n",
       "        text-align: right;\n",
       "    }\n",
       "</style>\n",
       "<table border=\"1\" class=\"dataframe\">\n",
       "  <thead>\n",
       "    <tr style=\"text-align: right;\">\n",
       "      <th></th>\n",
       "      <th>quote</th>\n",
       "      <th>author</th>\n",
       "      <th>category</th>\n",
       "    </tr>\n",
       "  </thead>\n",
       "  <tbody>\n",
       "    <tr>\n",
       "      <th>0</th>\n",
       "      <td>selfish impatient little insecure make mistake...</td>\n",
       "      <td>Marilyn Monroe</td>\n",
       "      <td>attributed-no-source, best, life, love, mistak...</td>\n",
       "    </tr>\n",
       "    <tr>\n",
       "      <th>1</th>\n",
       "      <td>got dance nobody watching never hurt sing nobo...</td>\n",
       "      <td>William W. Purkey</td>\n",
       "      <td>dance, heaven, hurt, inspirational, life, love...</td>\n",
       "    </tr>\n",
       "    <tr>\n",
       "      <th>2</th>\n",
       "      <td>cannot fall asleep reality finally better dreams</td>\n",
       "      <td>Dr. Seuss</td>\n",
       "      <td>attributed-no-source, dreams, love, reality, s...</td>\n",
       "    </tr>\n",
       "    <tr>\n",
       "      <th>3</th>\n",
       "      <td>friend someone knows still loves</td>\n",
       "      <td>Elbert Hubbard</td>\n",
       "      <td>friend, friendship, knowledge, love</td>\n",
       "    </tr>\n",
       "    <tr>\n",
       "      <th>4</th>\n",
       "      <td>darkness cannot drive darkness light hate cann...</td>\n",
       "      <td>Martin Luther King Jr., A Testament of Hope: T...</td>\n",
       "      <td>darkness, drive-out, hate, inspirational, ligh...</td>\n",
       "    </tr>\n",
       "  </tbody>\n",
       "</table>\n",
       "</div>"
      ],
      "text/plain": [
       "                                               quote  \\\n",
       "0  selfish impatient little insecure make mistake...   \n",
       "1  got dance nobody watching never hurt sing nobo...   \n",
       "2   cannot fall asleep reality finally better dreams   \n",
       "3                   friend someone knows still loves   \n",
       "4  darkness cannot drive darkness light hate cann...   \n",
       "\n",
       "                                              author  \\\n",
       "0                                     Marilyn Monroe   \n",
       "1                                  William W. Purkey   \n",
       "2                                          Dr. Seuss   \n",
       "3                                     Elbert Hubbard   \n",
       "4  Martin Luther King Jr., A Testament of Hope: T...   \n",
       "\n",
       "                                            category  \n",
       "0  attributed-no-source, best, life, love, mistak...  \n",
       "1  dance, heaven, hurt, inspirational, life, love...  \n",
       "2  attributed-no-source, dreams, love, reality, s...  \n",
       "3                friend, friendship, knowledge, love  \n",
       "4  darkness, drive-out, hate, inspirational, ligh...  "
      ]
     },
     "execution_count": 48,
     "metadata": {},
     "output_type": "execute_result"
    }
   ],
   "source": [
    "frequent_words = set([w for(w,wc) in cnt.most_common(10)])\n",
    "def remover(txt):\n",
    "    return \" \".join([word for word in str(txt).split() if word not in frequent_words])\n",
    "\n",
    "df[\"quote\"] = df[\"quote\"].apply(lambda txt: remover(txt))\n",
    "df.head()"
   ]
  },
  {
   "cell_type": "code",
   "execution_count": 49,
   "id": "03c8f719",
   "metadata": {
    "scrolled": true
   },
   "outputs": [
    {
     "data": {
      "text/plain": [
       "(499709, 3)"
      ]
     },
     "execution_count": 49,
     "metadata": {},
     "output_type": "execute_result"
    }
   ],
   "source": [
    "df.shape"
   ]
  },
  {
   "cell_type": "markdown",
   "id": "fc4b8801",
   "metadata": {},
   "source": [
    "### Removing rare words\n"
   ]
  },
  {
   "cell_type": "code",
   "execution_count": 50,
   "id": "afaef2d4",
   "metadata": {},
   "outputs": [],
   "source": [
    "num_rare_words = 10\n",
    "rare_words = set([w for (w, wc) in cnt.most_common()[:-num_rare_words-1:-1]])\n"
   ]
  },
  {
   "cell_type": "code",
   "execution_count": 51,
   "id": "e93ee57a",
   "metadata": {},
   "outputs": [],
   "source": [
    "def remove_rare(text):\n",
    "    return \" \".join([word for word in str(text).split() if word not in rare_words])"
   ]
  },
  {
   "cell_type": "code",
   "execution_count": 53,
   "id": "ca0865c5",
   "metadata": {
    "scrolled": false
   },
   "outputs": [
    {
     "data": {
      "text/html": [
       "<div>\n",
       "<style scoped>\n",
       "    .dataframe tbody tr th:only-of-type {\n",
       "        vertical-align: middle;\n",
       "    }\n",
       "\n",
       "    .dataframe tbody tr th {\n",
       "        vertical-align: top;\n",
       "    }\n",
       "\n",
       "    .dataframe thead th {\n",
       "        text-align: right;\n",
       "    }\n",
       "</style>\n",
       "<table border=\"1\" class=\"dataframe\">\n",
       "  <thead>\n",
       "    <tr style=\"text-align: right;\">\n",
       "      <th></th>\n",
       "      <th>quote</th>\n",
       "      <th>author</th>\n",
       "      <th>category</th>\n",
       "    </tr>\n",
       "  </thead>\n",
       "  <tbody>\n",
       "    <tr>\n",
       "      <th>0</th>\n",
       "      <td>selfish impatient little insecure make mistake...</td>\n",
       "      <td>Marilyn Monroe</td>\n",
       "      <td>attributed-no-source, best, life, love, mistak...</td>\n",
       "    </tr>\n",
       "    <tr>\n",
       "      <th>1</th>\n",
       "      <td>got dance nobody watching never hurt sing nobo...</td>\n",
       "      <td>William W. Purkey</td>\n",
       "      <td>dance, heaven, hurt, inspirational, life, love...</td>\n",
       "    </tr>\n",
       "    <tr>\n",
       "      <th>2</th>\n",
       "      <td>cannot fall asleep reality finally better dreams</td>\n",
       "      <td>Dr. Seuss</td>\n",
       "      <td>attributed-no-source, dreams, love, reality, s...</td>\n",
       "    </tr>\n",
       "    <tr>\n",
       "      <th>3</th>\n",
       "      <td>friend someone knows still loves</td>\n",
       "      <td>Elbert Hubbard</td>\n",
       "      <td>friend, friendship, knowledge, love</td>\n",
       "    </tr>\n",
       "    <tr>\n",
       "      <th>4</th>\n",
       "      <td>darkness cannot drive darkness light hate cann...</td>\n",
       "      <td>Martin Luther King Jr., A Testament of Hope: T...</td>\n",
       "      <td>darkness, drive-out, hate, inspirational, ligh...</td>\n",
       "    </tr>\n",
       "  </tbody>\n",
       "</table>\n",
       "</div>"
      ],
      "text/plain": [
       "                                               quote  \\\n",
       "0  selfish impatient little insecure make mistake...   \n",
       "1  got dance nobody watching never hurt sing nobo...   \n",
       "2   cannot fall asleep reality finally better dreams   \n",
       "3                   friend someone knows still loves   \n",
       "4  darkness cannot drive darkness light hate cann...   \n",
       "\n",
       "                                              author  \\\n",
       "0                                     Marilyn Monroe   \n",
       "1                                  William W. Purkey   \n",
       "2                                          Dr. Seuss   \n",
       "3                                     Elbert Hubbard   \n",
       "4  Martin Luther King Jr., A Testament of Hope: T...   \n",
       "\n",
       "                                            category  \n",
       "0  attributed-no-source, best, life, love, mistak...  \n",
       "1  dance, heaven, hurt, inspirational, life, love...  \n",
       "2  attributed-no-source, dreams, love, reality, s...  \n",
       "3                friend, friendship, knowledge, love  \n",
       "4  darkness, drive-out, hate, inspirational, ligh...  "
      ]
     },
     "execution_count": 53,
     "metadata": {},
     "output_type": "execute_result"
    }
   ],
   "source": [
    "df[\"quote\"] = df[\"quote\"].apply(lambda text: remove_rare(text))\n",
    "df.head()"
   ]
  },
  {
   "cell_type": "markdown",
   "id": "12ee17e4",
   "metadata": {},
   "source": [
    "### Stemming"
   ]
  },
  {
   "cell_type": "code",
   "execution_count": 57,
   "id": "f945380b",
   "metadata": {},
   "outputs": [],
   "source": [
    "stemmer = PorterStemmer()\n",
    "def stem_words(text):\n",
    "    return \" \".join([stemmer.stem(word) for word in text.split()])"
   ]
  },
  {
   "cell_type": "code",
   "execution_count": 58,
   "id": "7589d403",
   "metadata": {},
   "outputs": [
    {
     "data": {
      "text/html": [
       "<div>\n",
       "<style scoped>\n",
       "    .dataframe tbody tr th:only-of-type {\n",
       "        vertical-align: middle;\n",
       "    }\n",
       "\n",
       "    .dataframe tbody tr th {\n",
       "        vertical-align: top;\n",
       "    }\n",
       "\n",
       "    .dataframe thead th {\n",
       "        text-align: right;\n",
       "    }\n",
       "</style>\n",
       "<table border=\"1\" class=\"dataframe\">\n",
       "  <thead>\n",
       "    <tr style=\"text-align: right;\">\n",
       "      <th></th>\n",
       "      <th>quote</th>\n",
       "      <th>author</th>\n",
       "      <th>category</th>\n",
       "      <th>text_stemmed</th>\n",
       "    </tr>\n",
       "  </thead>\n",
       "  <tbody>\n",
       "    <tr>\n",
       "      <th>0</th>\n",
       "      <td>selfish impatient little insecure make mistake...</td>\n",
       "      <td>Marilyn Monroe</td>\n",
       "      <td>attributed-no-source, best, life, love, mistak...</td>\n",
       "      <td>selfish impati littl insecur make mistak contr...</td>\n",
       "    </tr>\n",
       "    <tr>\n",
       "      <th>1</th>\n",
       "      <td>got dance nobody watching never hurt sing nobo...</td>\n",
       "      <td>William W. Purkey</td>\n",
       "      <td>dance, heaven, hurt, inspirational, life, love...</td>\n",
       "      <td>got danc nobodi watch never hurt sing nobodi l...</td>\n",
       "    </tr>\n",
       "    <tr>\n",
       "      <th>2</th>\n",
       "      <td>cannot fall asleep reality finally better dreams</td>\n",
       "      <td>Dr. Seuss</td>\n",
       "      <td>attributed-no-source, dreams, love, reality, s...</td>\n",
       "      <td>cannot fall asleep realiti final better dream</td>\n",
       "    </tr>\n",
       "    <tr>\n",
       "      <th>3</th>\n",
       "      <td>friend someone knows still loves</td>\n",
       "      <td>Elbert Hubbard</td>\n",
       "      <td>friend, friendship, knowledge, love</td>\n",
       "      <td>friend someon know still love</td>\n",
       "    </tr>\n",
       "    <tr>\n",
       "      <th>4</th>\n",
       "      <td>darkness cannot drive darkness light hate cann...</td>\n",
       "      <td>Martin Luther King Jr., A Testament of Hope: T...</td>\n",
       "      <td>darkness, drive-out, hate, inspirational, ligh...</td>\n",
       "      <td>dark cannot drive dark light hate cannot drive...</td>\n",
       "    </tr>\n",
       "  </tbody>\n",
       "</table>\n",
       "</div>"
      ],
      "text/plain": [
       "                                               quote  \\\n",
       "0  selfish impatient little insecure make mistake...   \n",
       "1  got dance nobody watching never hurt sing nobo...   \n",
       "2   cannot fall asleep reality finally better dreams   \n",
       "3                   friend someone knows still loves   \n",
       "4  darkness cannot drive darkness light hate cann...   \n",
       "\n",
       "                                              author  \\\n",
       "0                                     Marilyn Monroe   \n",
       "1                                  William W. Purkey   \n",
       "2                                          Dr. Seuss   \n",
       "3                                     Elbert Hubbard   \n",
       "4  Martin Luther King Jr., A Testament of Hope: T...   \n",
       "\n",
       "                                            category  \\\n",
       "0  attributed-no-source, best, life, love, mistak...   \n",
       "1  dance, heaven, hurt, inspirational, life, love...   \n",
       "2  attributed-no-source, dreams, love, reality, s...   \n",
       "3                friend, friendship, knowledge, love   \n",
       "4  darkness, drive-out, hate, inspirational, ligh...   \n",
       "\n",
       "                                        text_stemmed  \n",
       "0  selfish impati littl insecur make mistak contr...  \n",
       "1  got danc nobodi watch never hurt sing nobodi l...  \n",
       "2      cannot fall asleep realiti final better dream  \n",
       "3                      friend someon know still love  \n",
       "4  dark cannot drive dark light hate cannot drive...  "
      ]
     },
     "execution_count": 58,
     "metadata": {},
     "output_type": "execute_result"
    }
   ],
   "source": [
    "\n",
    "df[\"text_stemmed\"] = df[\"quote\"].apply(lambda text: stem_words(text))\n",
    "df.head()"
   ]
  },
  {
   "cell_type": "markdown",
   "id": "f2e38a69",
   "metadata": {},
   "source": [
    "### Lemmatization"
   ]
  },
  {
   "cell_type": "code",
   "execution_count": null,
   "id": "e032368d",
   "metadata": {},
   "outputs": [],
   "source": []
  },
  {
   "cell_type": "code",
   "execution_count": null,
   "id": "3ede493f",
   "metadata": {},
   "outputs": [],
   "source": []
  },
  {
   "cell_type": "code",
   "execution_count": null,
   "id": "fd68e2c8",
   "metadata": {},
   "outputs": [],
   "source": [
    "# drop duplicates\n",
    "data = data.drop_duplicates().reset_index()"
   ]
  },
  {
   "cell_type": "code",
   "execution_count": null,
   "id": "0c6cf4b5",
   "metadata": {},
   "outputs": [],
   "source": [
    "# save after drop duplicates\n",
    "data.to_csv('quotes.csv', index=False)"
   ]
  },
  {
   "cell_type": "code",
   "execution_count": null,
   "id": "ef304950",
   "metadata": {},
   "outputs": [],
   "source": []
  },
  {
   "cell_type": "code",
   "execution_count": null,
   "id": "53782c37",
   "metadata": {},
   "outputs": [],
   "source": []
  },
  {
   "cell_type": "code",
   "execution_count": null,
   "id": "26ba58ab",
   "metadata": {},
   "outputs": [],
   "source": []
  }
 ],
 "metadata": {
  "kernelspec": {
   "display_name": "Python 3 (ipykernel)",
   "language": "python",
   "name": "python3"
  },
  "language_info": {
   "codemirror_mode": {
    "name": "ipython",
    "version": 3
   },
   "file_extension": ".py",
   "mimetype": "text/x-python",
   "name": "python",
   "nbconvert_exporter": "python",
   "pygments_lexer": "ipython3",
   "version": "3.9.7"
  }
 },
 "nbformat": 4,
 "nbformat_minor": 5
}
