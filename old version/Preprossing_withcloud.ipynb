{
 "cells": [
  {
   "cell_type": "markdown",
   "id": "a10c868f",
   "metadata": {
    "id": "a10c868f"
   },
   "source": [
    "\n",
    "# # Define Quotes Tags Using (Natural language processing(NLP)\n",
    "\n",
    "### Shaikha Bin Ateeq & Raghad Althunayan \n",
    "\n",
    "## Table of Contents\n",
    "<ul>\n",
    "<li><a href=\"#intro\">Introduction</a></li>\n",
    "<li><a href=\"#wrangling\">Data Wrangling</a></li>\n",
    "<li><a href=\"#eda\">Exploratory Data Analysis</a></li>\n",
    "<li><a href=\"#fe\">Feature Engineering</a></li>    \n",
    "<li><a href=\"#model\">Modeling</a></li> \n",
    "<li><a href=\"#conclusions\">Conclusions</a></li>\n",
    "</ul>"
   ]
  },
  {
   "cell_type": "markdown",
   "id": "33cddd6c",
   "metadata": {
    "id": "33cddd6c"
   },
   "source": [
    "<a id='intro'></a>\n",
    "## Introduction\n",
    "\n",
    "-"
   ]
  },
  {
   "cell_type": "markdown",
   "id": "b4350dd7",
   "metadata": {
    "id": "b4350dd7"
   },
   "source": [
    "**Import packiges:**"
   ]
  },
  {
   "cell_type": "code",
   "execution_count": 1,
   "id": "b11d85bd",
   "metadata": {
    "id": "b11d85bd"
   },
   "outputs": [
    {
     "name": "stdout",
     "output_type": "stream",
     "text": [
      "Requirement already satisfied: textblob in /opt/anaconda3/lib/python3.9/site-packages (0.17.1)\r\n",
      "Requirement already satisfied: nltk>=3.1 in /opt/anaconda3/lib/python3.9/site-packages (from textblob) (3.6.5)\r\n",
      "Requirement already satisfied: click in /opt/anaconda3/lib/python3.9/site-packages (from nltk>=3.1->textblob) (8.0.3)\r\n",
      "Requirement already satisfied: joblib in /opt/anaconda3/lib/python3.9/site-packages (from nltk>=3.1->textblob) (1.1.0)\r\n",
      "Requirement already satisfied: regex>=2021.8.3 in /opt/anaconda3/lib/python3.9/site-packages (from nltk>=3.1->textblob) (2021.8.3)\r\n",
      "Requirement already satisfied: tqdm in /opt/anaconda3/lib/python3.9/site-packages (from nltk>=3.1->textblob) (4.62.3)\r\n"
     ]
    }
   ],
   "source": [
    "!pip install textblob"
   ]
  },
  {
   "cell_type": "code",
   "execution_count": 2,
   "id": "mmwDOjfWTg9G",
   "metadata": {
    "id": "mmwDOjfWTg9G"
   },
   "outputs": [
    {
     "name": "stdout",
     "output_type": "stream",
     "text": [
      "Requirement already satisfied: spacy in /opt/anaconda3/lib/python3.9/site-packages (3.2.1)\n",
      "Requirement already satisfied: pydantic!=1.8,!=1.8.1,<1.9.0,>=1.7.4 in /opt/anaconda3/lib/python3.9/site-packages (from spacy) (1.8.2)\n",
      "Requirement already satisfied: spacy-legacy<3.1.0,>=3.0.8 in /opt/anaconda3/lib/python3.9/site-packages (from spacy) (3.0.8)\n",
      "Requirement already satisfied: cymem<2.1.0,>=2.0.2 in /opt/anaconda3/lib/python3.9/site-packages (from spacy) (2.0.6)\n",
      "Requirement already satisfied: numpy>=1.15.0 in /opt/anaconda3/lib/python3.9/site-packages (from spacy) (1.20.3)\n",
      "Requirement already satisfied: tqdm<5.0.0,>=4.38.0 in /opt/anaconda3/lib/python3.9/site-packages (from spacy) (4.62.3)\n",
      "Requirement already satisfied: murmurhash<1.1.0,>=0.28.0 in /opt/anaconda3/lib/python3.9/site-packages (from spacy) (1.0.6)\n",
      "Requirement already satisfied: langcodes<4.0.0,>=3.2.0 in /opt/anaconda3/lib/python3.9/site-packages (from spacy) (3.3.0)\n",
      "Requirement already satisfied: pathy>=0.3.5 in /opt/anaconda3/lib/python3.9/site-packages (from spacy) (0.6.1)\n",
      "Requirement already satisfied: jinja2 in /opt/anaconda3/lib/python3.9/site-packages (from spacy) (2.11.3)\n",
      "Requirement already satisfied: wasabi<1.1.0,>=0.8.1 in /opt/anaconda3/lib/python3.9/site-packages (from spacy) (0.9.0)\n",
      "Requirement already satisfied: srsly<3.0.0,>=2.4.1 in /opt/anaconda3/lib/python3.9/site-packages (from spacy) (2.4.2)\n",
      "Requirement already satisfied: typer<0.5.0,>=0.3.0 in /opt/anaconda3/lib/python3.9/site-packages (from spacy) (0.4.0)\n",
      "Requirement already satisfied: requests<3.0.0,>=2.13.0 in /opt/anaconda3/lib/python3.9/site-packages (from spacy) (2.26.0)\n",
      "Requirement already satisfied: thinc<8.1.0,>=8.0.12 in /opt/anaconda3/lib/python3.9/site-packages (from spacy) (8.0.13)\n",
      "Requirement already satisfied: catalogue<2.1.0,>=2.0.6 in /opt/anaconda3/lib/python3.9/site-packages (from spacy) (2.0.6)\n",
      "Requirement already satisfied: preshed<3.1.0,>=3.0.2 in /opt/anaconda3/lib/python3.9/site-packages (from spacy) (3.0.6)\n",
      "Requirement already satisfied: packaging>=20.0 in /opt/anaconda3/lib/python3.9/site-packages (from spacy) (21.0)\n",
      "Requirement already satisfied: blis<0.8.0,>=0.4.0 in /opt/anaconda3/lib/python3.9/site-packages (from spacy) (0.7.5)\n",
      "Requirement already satisfied: spacy-loggers<2.0.0,>=1.0.0 in /opt/anaconda3/lib/python3.9/site-packages (from spacy) (1.0.1)\n",
      "Requirement already satisfied: setuptools in /opt/anaconda3/lib/python3.9/site-packages (from spacy) (58.0.4)\n",
      "Requirement already satisfied: pyparsing>=2.0.2 in /opt/anaconda3/lib/python3.9/site-packages (from packaging>=20.0->spacy) (3.0.4)\n",
      "Requirement already satisfied: smart-open<6.0.0,>=5.0.0 in /opt/anaconda3/lib/python3.9/site-packages (from pathy>=0.3.5->spacy) (5.2.1)\n",
      "Requirement already satisfied: typing-extensions>=3.7.4.3 in /opt/anaconda3/lib/python3.9/site-packages (from pydantic!=1.8,!=1.8.1,<1.9.0,>=1.7.4->spacy) (3.10.0.2)\n",
      "Requirement already satisfied: charset-normalizer~=2.0.0 in /opt/anaconda3/lib/python3.9/site-packages (from requests<3.0.0,>=2.13.0->spacy) (2.0.4)\n",
      "Requirement already satisfied: urllib3<1.27,>=1.21.1 in /opt/anaconda3/lib/python3.9/site-packages (from requests<3.0.0,>=2.13.0->spacy) (1.26.7)\n",
      "Requirement already satisfied: idna<4,>=2.5 in /opt/anaconda3/lib/python3.9/site-packages (from requests<3.0.0,>=2.13.0->spacy) (3.2)\n",
      "Requirement already satisfied: certifi>=2017.4.17 in /opt/anaconda3/lib/python3.9/site-packages (from requests<3.0.0,>=2.13.0->spacy) (2021.10.8)\n",
      "Requirement already satisfied: click<9.0.0,>=7.1.1 in /opt/anaconda3/lib/python3.9/site-packages (from typer<0.5.0,>=0.3.0->spacy) (8.0.3)\n",
      "Requirement already satisfied: MarkupSafe>=0.23 in /opt/anaconda3/lib/python3.9/site-packages (from jinja2->spacy) (1.1.1)\n"
     ]
    }
   ],
   "source": [
    "!pip install spacy"
   ]
  },
  {
   "cell_type": "code",
   "execution_count": 3,
   "id": "b4tsdjdXT2mh",
   "metadata": {
    "id": "b4tsdjdXT2mh"
   },
   "outputs": [
    {
     "name": "stdout",
     "output_type": "stream",
     "text": [
      "Collecting en-core-web-sm==3.2.0\n",
      "  Downloading https://github.com/explosion/spacy-models/releases/download/en_core_web_sm-3.2.0/en_core_web_sm-3.2.0-py3-none-any.whl (13.9 MB)\n",
      "\u001b[K     |████████████████████████████████| 13.9 MB 522 kB/s eta 0:00:01\n",
      "\u001b[?25hRequirement already satisfied: spacy<3.3.0,>=3.2.0 in /opt/anaconda3/lib/python3.9/site-packages (from en-core-web-sm==3.2.0) (3.2.1)\n",
      "Requirement already satisfied: tqdm<5.0.0,>=4.38.0 in /opt/anaconda3/lib/python3.9/site-packages (from spacy<3.3.0,>=3.2.0->en-core-web-sm==3.2.0) (4.62.3)\n",
      "Requirement already satisfied: spacy-loggers<2.0.0,>=1.0.0 in /opt/anaconda3/lib/python3.9/site-packages (from spacy<3.3.0,>=3.2.0->en-core-web-sm==3.2.0) (1.0.1)\n",
      "Requirement already satisfied: packaging>=20.0 in /opt/anaconda3/lib/python3.9/site-packages (from spacy<3.3.0,>=3.2.0->en-core-web-sm==3.2.0) (21.0)\n",
      "Requirement already satisfied: catalogue<2.1.0,>=2.0.6 in /opt/anaconda3/lib/python3.9/site-packages (from spacy<3.3.0,>=3.2.0->en-core-web-sm==3.2.0) (2.0.6)\n",
      "Requirement already satisfied: requests<3.0.0,>=2.13.0 in /opt/anaconda3/lib/python3.9/site-packages (from spacy<3.3.0,>=3.2.0->en-core-web-sm==3.2.0) (2.26.0)\n",
      "Requirement already satisfied: typer<0.5.0,>=0.3.0 in /opt/anaconda3/lib/python3.9/site-packages (from spacy<3.3.0,>=3.2.0->en-core-web-sm==3.2.0) (0.4.0)\n",
      "Requirement already satisfied: preshed<3.1.0,>=3.0.2 in /opt/anaconda3/lib/python3.9/site-packages (from spacy<3.3.0,>=3.2.0->en-core-web-sm==3.2.0) (3.0.6)\n",
      "Requirement already satisfied: numpy>=1.15.0 in /opt/anaconda3/lib/python3.9/site-packages (from spacy<3.3.0,>=3.2.0->en-core-web-sm==3.2.0) (1.20.3)\n",
      "Requirement already satisfied: cymem<2.1.0,>=2.0.2 in /opt/anaconda3/lib/python3.9/site-packages (from spacy<3.3.0,>=3.2.0->en-core-web-sm==3.2.0) (2.0.6)\n",
      "Requirement already satisfied: wasabi<1.1.0,>=0.8.1 in /opt/anaconda3/lib/python3.9/site-packages (from spacy<3.3.0,>=3.2.0->en-core-web-sm==3.2.0) (0.9.0)\n",
      "Requirement already satisfied: jinja2 in /opt/anaconda3/lib/python3.9/site-packages (from spacy<3.3.0,>=3.2.0->en-core-web-sm==3.2.0) (2.11.3)\n",
      "Requirement already satisfied: thinc<8.1.0,>=8.0.12 in /opt/anaconda3/lib/python3.9/site-packages (from spacy<3.3.0,>=3.2.0->en-core-web-sm==3.2.0) (8.0.13)\n",
      "Requirement already satisfied: murmurhash<1.1.0,>=0.28.0 in /opt/anaconda3/lib/python3.9/site-packages (from spacy<3.3.0,>=3.2.0->en-core-web-sm==3.2.0) (1.0.6)\n",
      "Requirement already satisfied: pathy>=0.3.5 in /opt/anaconda3/lib/python3.9/site-packages (from spacy<3.3.0,>=3.2.0->en-core-web-sm==3.2.0) (0.6.1)\n",
      "Requirement already satisfied: srsly<3.0.0,>=2.4.1 in /opt/anaconda3/lib/python3.9/site-packages (from spacy<3.3.0,>=3.2.0->en-core-web-sm==3.2.0) (2.4.2)\n",
      "Requirement already satisfied: langcodes<4.0.0,>=3.2.0 in /opt/anaconda3/lib/python3.9/site-packages (from spacy<3.3.0,>=3.2.0->en-core-web-sm==3.2.0) (3.3.0)\n",
      "Requirement already satisfied: setuptools in /opt/anaconda3/lib/python3.9/site-packages (from spacy<3.3.0,>=3.2.0->en-core-web-sm==3.2.0) (58.0.4)\n",
      "Requirement already satisfied: pydantic!=1.8,!=1.8.1,<1.9.0,>=1.7.4 in /opt/anaconda3/lib/python3.9/site-packages (from spacy<3.3.0,>=3.2.0->en-core-web-sm==3.2.0) (1.8.2)\n",
      "Requirement already satisfied: spacy-legacy<3.1.0,>=3.0.8 in /opt/anaconda3/lib/python3.9/site-packages (from spacy<3.3.0,>=3.2.0->en-core-web-sm==3.2.0) (3.0.8)\n",
      "Requirement already satisfied: blis<0.8.0,>=0.4.0 in /opt/anaconda3/lib/python3.9/site-packages (from spacy<3.3.0,>=3.2.0->en-core-web-sm==3.2.0) (0.7.5)\n",
      "Requirement already satisfied: pyparsing>=2.0.2 in /opt/anaconda3/lib/python3.9/site-packages (from packaging>=20.0->spacy<3.3.0,>=3.2.0->en-core-web-sm==3.2.0) (3.0.4)\n",
      "Requirement already satisfied: smart-open<6.0.0,>=5.0.0 in /opt/anaconda3/lib/python3.9/site-packages (from pathy>=0.3.5->spacy<3.3.0,>=3.2.0->en-core-web-sm==3.2.0) (5.2.1)\n",
      "Requirement already satisfied: typing-extensions>=3.7.4.3 in /opt/anaconda3/lib/python3.9/site-packages (from pydantic!=1.8,!=1.8.1,<1.9.0,>=1.7.4->spacy<3.3.0,>=3.2.0->en-core-web-sm==3.2.0) (3.10.0.2)\n",
      "Requirement already satisfied: idna<4,>=2.5 in /opt/anaconda3/lib/python3.9/site-packages (from requests<3.0.0,>=2.13.0->spacy<3.3.0,>=3.2.0->en-core-web-sm==3.2.0) (3.2)\n",
      "Requirement already satisfied: urllib3<1.27,>=1.21.1 in /opt/anaconda3/lib/python3.9/site-packages (from requests<3.0.0,>=2.13.0->spacy<3.3.0,>=3.2.0->en-core-web-sm==3.2.0) (1.26.7)\n",
      "Requirement already satisfied: certifi>=2017.4.17 in /opt/anaconda3/lib/python3.9/site-packages (from requests<3.0.0,>=2.13.0->spacy<3.3.0,>=3.2.0->en-core-web-sm==3.2.0) (2021.10.8)\n",
      "Requirement already satisfied: charset-normalizer~=2.0.0 in /opt/anaconda3/lib/python3.9/site-packages (from requests<3.0.0,>=2.13.0->spacy<3.3.0,>=3.2.0->en-core-web-sm==3.2.0) (2.0.4)\n",
      "Requirement already satisfied: click<9.0.0,>=7.1.1 in /opt/anaconda3/lib/python3.9/site-packages (from typer<0.5.0,>=0.3.0->spacy<3.3.0,>=3.2.0->en-core-web-sm==3.2.0) (8.0.3)\n",
      "Requirement already satisfied: MarkupSafe>=0.23 in /opt/anaconda3/lib/python3.9/site-packages (from jinja2->spacy<3.3.0,>=3.2.0->en-core-web-sm==3.2.0) (1.1.1)\n",
      "\u001b[38;5;2m✔ Download and installation successful\u001b[0m\n",
      "You can now load the package via spacy.load('en_core_web_sm')\n"
     ]
    }
   ],
   "source": [
    "! python -m spacy download en_core_web_sm"
   ]
  },
  {
   "cell_type": "code",
   "execution_count": 4,
   "id": "0ac6d3f6",
   "metadata": {
    "id": "0ac6d3f6"
   },
   "outputs": [
    {
     "name": "stdout",
     "output_type": "stream",
     "text": [
      "Requirement already satisfied: contractions==0.0.18 in /opt/anaconda3/lib/python3.9/site-packages (0.0.18)\r\n"
     ]
    }
   ],
   "source": [
    "!pip install contractions==0.0.18"
   ]
  },
  {
   "cell_type": "code",
   "execution_count": 2,
   "id": "d9632c56",
   "metadata": {
    "id": "d9632c56"
   },
   "outputs": [],
   "source": [
    "import numpy as np \n",
    "import pandas as pd\n",
    "import string as st\n",
    "import re\n",
    "import nltk\n",
    "from nltk import PorterStemmer, WordNetLemmatizer\n",
    "from nltk.corpus import stopwords\n",
    "from scipy import linalg\n",
    "import matplotlib.pyplot as plt \n",
    "import seaborn as sns\n",
    "\n",
    "from collections import Counter\n",
    "import contractions\n",
    "import string\n",
    "import spacy\n"
   ]
  },
  {
   "cell_type": "markdown",
   "id": "f4bf6f96",
   "metadata": {
    "id": "f4bf6f96",
    "outputId": "c7a71bae-1b07-4309-8c5d-c876e400cf36"
   },
   "source": [
    "\n",
    "**Read Dataset:**"
   ]
  },
  {
   "cell_type": "code",
   "execution_count": 3,
   "id": "329da0a5",
   "metadata": {
    "id": "329da0a5",
    "scrolled": true
   },
   "outputs": [
    {
     "data": {
      "text/html": [
       "<div>\n",
       "<style scoped>\n",
       "    .dataframe tbody tr th:only-of-type {\n",
       "        vertical-align: middle;\n",
       "    }\n",
       "\n",
       "    .dataframe tbody tr th {\n",
       "        vertical-align: top;\n",
       "    }\n",
       "\n",
       "    .dataframe thead th {\n",
       "        text-align: right;\n",
       "    }\n",
       "</style>\n",
       "<table border=\"1\" class=\"dataframe\">\n",
       "  <thead>\n",
       "    <tr style=\"text-align: right;\">\n",
       "      <th></th>\n",
       "      <th>Unnamed: 0</th>\n",
       "      <th>quot</th>\n",
       "      <th>author</th>\n",
       "      <th>category</th>\n",
       "    </tr>\n",
       "  </thead>\n",
       "  <tbody>\n",
       "    <tr>\n",
       "      <th>0</th>\n",
       "      <td>0</td>\n",
       "      <td>I love you as certain dark things are loved, s...</td>\n",
       "      <td>Pablo Neruda,</td>\n",
       "      <td>Love</td>\n",
       "    </tr>\n",
       "    <tr>\n",
       "      <th>1</th>\n",
       "      <td>1</td>\n",
       "      <td>It is an absolute human certainty that no one ...</td>\n",
       "      <td>John Joseph Powell,</td>\n",
       "      <td>Love</td>\n",
       "    </tr>\n",
       "    <tr>\n",
       "      <th>2</th>\n",
       "      <td>2</td>\n",
       "      <td>If I have learned anything in this long life o...</td>\n",
       "      <td>Kristin Hannah,</td>\n",
       "      <td>Love</td>\n",
       "    </tr>\n",
       "    <tr>\n",
       "      <th>3</th>\n",
       "      <td>3</td>\n",
       "      <td>your handtouching mine.this is howgalaxiescoll...</td>\n",
       "      <td>Sanober Khan</td>\n",
       "      <td>Love</td>\n",
       "    </tr>\n",
       "    <tr>\n",
       "      <th>4</th>\n",
       "      <td>4</td>\n",
       "      <td>I choose to love you in silence…For in silence...</td>\n",
       "      <td>Rumi</td>\n",
       "      <td>Love</td>\n",
       "    </tr>\n",
       "  </tbody>\n",
       "</table>\n",
       "</div>"
      ],
      "text/plain": [
       "   Unnamed: 0                                               quot  \\\n",
       "0           0  I love you as certain dark things are loved, s...   \n",
       "1           1  It is an absolute human certainty that no one ...   \n",
       "2           2  If I have learned anything in this long life o...   \n",
       "3           3  your handtouching mine.this is howgalaxiescoll...   \n",
       "4           4  I choose to love you in silence…For in silence...   \n",
       "\n",
       "                author category  \n",
       "0        Pablo Neruda,     Love  \n",
       "1  John Joseph Powell,     Love  \n",
       "2      Kristin Hannah,     Love  \n",
       "3         Sanober Khan     Love  \n",
       "4                 Rumi     Love  "
      ]
     },
     "execution_count": 3,
     "metadata": {},
     "output_type": "execute_result"
    }
   ],
   "source": [
    "df= pd.read_csv(\"output file.csv\")\n",
    "df.head(5)"
   ]
  },
  {
   "cell_type": "markdown",
   "id": "w5Vev1T0SnIW",
   "metadata": {
    "id": "w5Vev1T0SnIW"
   },
   "source": [
    "**Explore The Dataset:**"
   ]
  },
  {
   "cell_type": "code",
   "execution_count": 4,
   "id": "04b6f70a",
   "metadata": {
    "id": "04b6f70a"
   },
   "outputs": [
    {
     "data": {
      "text/plain": [
       "(83548, 4)"
      ]
     },
     "execution_count": 4,
     "metadata": {},
     "output_type": "execute_result"
    }
   ],
   "source": [
    "df.shape"
   ]
  },
  {
   "cell_type": "code",
   "execution_count": 5,
   "id": "0d2bf418",
   "metadata": {
    "colab": {
     "base_uri": "https://localhost:8080/"
    },
    "id": "0d2bf418",
    "outputId": "df5727c0-6535-419c-bfb9-5360f7e132ea"
   },
   "outputs": [
    {
     "name": "stdout",
     "output_type": "stream",
     "text": [
      "<class 'pandas.core.frame.DataFrame'>\n",
      "RangeIndex: 83548 entries, 0 to 83547\n",
      "Data columns (total 4 columns):\n",
      " #   Column      Non-Null Count  Dtype \n",
      "---  ------      --------------  ----- \n",
      " 0   Unnamed: 0  83548 non-null  int64 \n",
      " 1   quot        83548 non-null  object\n",
      " 2   author      83548 non-null  object\n",
      " 3   category    83548 non-null  object\n",
      "dtypes: int64(1), object(3)\n",
      "memory usage: 2.5+ MB\n"
     ]
    }
   ],
   "source": [
    "df.info()"
   ]
  },
  {
   "cell_type": "code",
   "execution_count": 6,
   "id": "c1269f2c",
   "metadata": {
    "colab": {
     "base_uri": "https://localhost:8080/",
     "height": 34
    },
    "id": "c1269f2c",
    "outputId": "f2a5fba2-ac9c-48fc-ddbf-65b67275d314"
   },
   "outputs": [
    {
     "data": {
      "text/plain": [
       "'\\ndf.quote=df.quote.astype(str)\\ndf.author=df.author.astype(str)\\ndf.category=df.category.astype(str) \\n'"
      ]
     },
     "execution_count": 6,
     "metadata": {},
     "output_type": "execute_result"
    }
   ],
   "source": [
    "'''\n",
    "df.quote=df.quote.astype(str)\n",
    "df.author=df.author.astype(str)\n",
    "df.category=df.category.astype(str) \n",
    "'''"
   ]
  },
  {
   "cell_type": "code",
   "execution_count": 7,
   "id": "6ba2135d",
   "metadata": {
    "colab": {
     "base_uri": "https://localhost:8080/"
    },
    "id": "6ba2135d",
    "outputId": "e773a7ad-8ba3-4601-f546-0cbae8c8bc21"
   },
   "outputs": [
    {
     "data": {
      "text/plain": [
       "Unnamed: 0    0\n",
       "quot          0\n",
       "author        0\n",
       "category      0\n",
       "dtype: int64"
      ]
     },
     "execution_count": 7,
     "metadata": {},
     "output_type": "execute_result"
    }
   ],
   "source": [
    "df.isna().sum()"
   ]
  },
  {
   "cell_type": "code",
   "execution_count": 8,
   "id": "6288b6a1",
   "metadata": {
    "colab": {
     "base_uri": "https://localhost:8080/"
    },
    "id": "6288b6a1",
    "outputId": "90b763b0-164f-4b4e-97e0-df5f06d1aa49",
    "scrolled": false
   },
   "outputs": [
    {
     "name": "stdout",
     "output_type": "stream",
     "text": [
      "Life             6510\n",
      "Love             5130\n",
      "Humor            3420\n",
      "Death            3000\n",
      "Science          3000\n",
      "Spirituality     3000\n",
      "Religion         3000\n",
      "Inspiration      3000\n",
      "Hope             3000\n",
      "Faith            3000\n",
      "Romance          3000\n",
      "Wisdom           3000\n",
      "Truth            3000\n",
      "God              3000\n",
      "Inspirational    3000\n",
      "Motivation       3000\n",
      "Poetry           2970\n",
      "Quotes           2970\n",
      "Relationships    2970\n",
      "Knowledge        2970\n",
      "Happiness        2969\n",
      "Writing          2940\n",
      "Success          2940\n",
      "Time             2939\n",
      "Motivational     2910\n",
      "Philosophy       2910\n",
      "Name: category, dtype: int64\n"
     ]
    }
   ],
   "source": [
    "print(df.category.value_counts())"
   ]
  },
  {
   "cell_type": "code",
   "execution_count": 13,
   "id": "e5f621db",
   "metadata": {},
   "outputs": [],
   "source": [
    "# merge Love and Life\n",
    "df['category'] = df['category'].apply(lambda x : 'Love' if x == 'Life' else x)\n",
    "\n",
    "# merge Religion and God\n",
    "df['category'] = df['category'].apply(lambda x : 'Religion' if x == 'God' else x)\n",
    "\n",
    "# merge Happiness and Success\n",
    "df['category'] = df['category'].apply(lambda x : 'Happiness' if x == 'Success' else x)\n",
    "\n",
    "# merge Relationships and Romance\n",
    "df['category'] = df['category'].apply(lambda x : 'Relationships' if x == 'Romance' else x)\n",
    "\n",
    "# merge Death and Truth\n",
    "df['category'] = df['category'].apply(lambda x : 'Death' if x == 'Truth' else x)\n",
    "\n",
    "#options = ['Love','Religion','Happiness','Relationships','Death']\n"
   ]
  },
  {
   "cell_type": "markdown",
   "id": "bbad3f13",
   "metadata": {
    "id": "bbad3f13"
   },
   "source": [
    "\n",
    "# **Data Cleaning:**"
   ]
  },
  {
   "cell_type": "markdown",
   "id": "0f91e1d9",
   "metadata": {},
   "source": [
    "**Select 5 Topics:**"
   ]
  },
  {
   "cell_type": "code",
   "execution_count": 14,
   "id": "2de4746a",
   "metadata": {},
   "outputs": [],
   "source": [
    "#options = ['Love','Science','Death','Religion','Happiness']\n",
    "options = ['Love','Religion','Happiness','Relationships','Death']\n",
    "df = df[df['category'].isin(options)]"
   ]
  },
  {
   "cell_type": "code",
   "execution_count": 15,
   "id": "5597931c",
   "metadata": {},
   "outputs": [
    {
     "data": {
      "text/plain": [
       "(35519, 4)"
      ]
     },
     "execution_count": 15,
     "metadata": {},
     "output_type": "execute_result"
    }
   ],
   "source": [
    "df.shape"
   ]
  },
  {
   "cell_type": "markdown",
   "id": "QcDo-E6-Xw4Q",
   "metadata": {
    "id": "QcDo-E6-Xw4Q"
   },
   "source": [
    "**Drop Null:**"
   ]
  },
  {
   "cell_type": "code",
   "execution_count": 16,
   "id": "laBsTt9BYdac",
   "metadata": {
    "id": "laBsTt9BYdac"
   },
   "outputs": [],
   "source": [
    "df = df.dropna()"
   ]
  },
  {
   "cell_type": "markdown",
   "id": "bccd4e99",
   "metadata": {
    "id": "bccd4e99"
   },
   "source": [
    " **Contraction:**"
   ]
  },
  {
   "cell_type": "code",
   "execution_count": 17,
   "id": "a95e6d5c",
   "metadata": {
    "id": "a95e6d5c"
   },
   "outputs": [],
   "source": [
    "df['quot']=df['quot'].apply(lambda x: contractions.fix(x))"
   ]
  },
  {
   "cell_type": "code",
   "execution_count": 18,
   "id": "ec1a0972",
   "metadata": {
    "colab": {
     "base_uri": "https://localhost:8080/",
     "height": 201
    },
    "id": "ec1a0972",
    "outputId": "16aeea00-b363-49fa-91df-e0a1841bb657"
   },
   "outputs": [
    {
     "data": {
      "text/html": [
       "<div>\n",
       "<style scoped>\n",
       "    .dataframe tbody tr th:only-of-type {\n",
       "        vertical-align: middle;\n",
       "    }\n",
       "\n",
       "    .dataframe tbody tr th {\n",
       "        vertical-align: top;\n",
       "    }\n",
       "\n",
       "    .dataframe thead th {\n",
       "        text-align: right;\n",
       "    }\n",
       "</style>\n",
       "<table border=\"1\" class=\"dataframe\">\n",
       "  <thead>\n",
       "    <tr style=\"text-align: right;\">\n",
       "      <th></th>\n",
       "      <th>Unnamed: 0</th>\n",
       "      <th>quot</th>\n",
       "      <th>author</th>\n",
       "      <th>category</th>\n",
       "    </tr>\n",
       "  </thead>\n",
       "  <tbody>\n",
       "    <tr>\n",
       "      <th>0</th>\n",
       "      <td>0</td>\n",
       "      <td>I love you as certain dark things are loved, s...</td>\n",
       "      <td>Pablo Neruda,</td>\n",
       "      <td>Love</td>\n",
       "    </tr>\n",
       "    <tr>\n",
       "      <th>1</th>\n",
       "      <td>1</td>\n",
       "      <td>It is an absolute human certainty that no one ...</td>\n",
       "      <td>John Joseph Powell,</td>\n",
       "      <td>Love</td>\n",
       "    </tr>\n",
       "    <tr>\n",
       "      <th>2</th>\n",
       "      <td>2</td>\n",
       "      <td>If I have learned anything in this long life o...</td>\n",
       "      <td>Kristin Hannah,</td>\n",
       "      <td>Love</td>\n",
       "    </tr>\n",
       "    <tr>\n",
       "      <th>3</th>\n",
       "      <td>3</td>\n",
       "      <td>your handtouching mine.this is howgalaxiescoll...</td>\n",
       "      <td>Sanober Khan</td>\n",
       "      <td>Love</td>\n",
       "    </tr>\n",
       "    <tr>\n",
       "      <th>4</th>\n",
       "      <td>4</td>\n",
       "      <td>I choose to love you in silence…For in silence...</td>\n",
       "      <td>Rumi</td>\n",
       "      <td>Love</td>\n",
       "    </tr>\n",
       "  </tbody>\n",
       "</table>\n",
       "</div>"
      ],
      "text/plain": [
       "   Unnamed: 0                                               quot  \\\n",
       "0           0  I love you as certain dark things are loved, s...   \n",
       "1           1  It is an absolute human certainty that no one ...   \n",
       "2           2  If I have learned anything in this long life o...   \n",
       "3           3  your handtouching mine.this is howgalaxiescoll...   \n",
       "4           4  I choose to love you in silence…For in silence...   \n",
       "\n",
       "                author category  \n",
       "0        Pablo Neruda,     Love  \n",
       "1  John Joseph Powell,     Love  \n",
       "2      Kristin Hannah,     Love  \n",
       "3         Sanober Khan     Love  \n",
       "4                 Rumi     Love  "
      ]
     },
     "execution_count": 18,
     "metadata": {},
     "output_type": "execute_result"
    }
   ],
   "source": [
    "df.head()"
   ]
  },
  {
   "cell_type": "markdown",
   "id": "72f84c7b",
   "metadata": {
    "id": "72f84c7b"
   },
   "source": [
    "**Converting letters to lowercase:**\n"
   ]
  },
  {
   "cell_type": "code",
   "execution_count": 19,
   "id": "62387ccc",
   "metadata": {
    "id": "62387ccc"
   },
   "outputs": [],
   "source": [
    "df.loc[:,\"quot\"] = df.quot.apply(lambda x : str.lower(x))\n"
   ]
  },
  {
   "cell_type": "code",
   "execution_count": 20,
   "id": "1ffda790",
   "metadata": {
    "colab": {
     "base_uri": "https://localhost:8080/",
     "height": 201
    },
    "id": "1ffda790",
    "outputId": "fbf935d0-48ad-42e8-f7c6-85024ef6c6ea"
   },
   "outputs": [
    {
     "data": {
      "text/html": [
       "<div>\n",
       "<style scoped>\n",
       "    .dataframe tbody tr th:only-of-type {\n",
       "        vertical-align: middle;\n",
       "    }\n",
       "\n",
       "    .dataframe tbody tr th {\n",
       "        vertical-align: top;\n",
       "    }\n",
       "\n",
       "    .dataframe thead th {\n",
       "        text-align: right;\n",
       "    }\n",
       "</style>\n",
       "<table border=\"1\" class=\"dataframe\">\n",
       "  <thead>\n",
       "    <tr style=\"text-align: right;\">\n",
       "      <th></th>\n",
       "      <th>Unnamed: 0</th>\n",
       "      <th>quot</th>\n",
       "      <th>author</th>\n",
       "      <th>category</th>\n",
       "    </tr>\n",
       "  </thead>\n",
       "  <tbody>\n",
       "    <tr>\n",
       "      <th>0</th>\n",
       "      <td>0</td>\n",
       "      <td>i love you as certain dark things are loved, s...</td>\n",
       "      <td>Pablo Neruda,</td>\n",
       "      <td>Love</td>\n",
       "    </tr>\n",
       "    <tr>\n",
       "      <th>1</th>\n",
       "      <td>1</td>\n",
       "      <td>it is an absolute human certainty that no one ...</td>\n",
       "      <td>John Joseph Powell,</td>\n",
       "      <td>Love</td>\n",
       "    </tr>\n",
       "    <tr>\n",
       "      <th>2</th>\n",
       "      <td>2</td>\n",
       "      <td>if i have learned anything in this long life o...</td>\n",
       "      <td>Kristin Hannah,</td>\n",
       "      <td>Love</td>\n",
       "    </tr>\n",
       "    <tr>\n",
       "      <th>3</th>\n",
       "      <td>3</td>\n",
       "      <td>your handtouching mine.this is howgalaxiescoll...</td>\n",
       "      <td>Sanober Khan</td>\n",
       "      <td>Love</td>\n",
       "    </tr>\n",
       "    <tr>\n",
       "      <th>4</th>\n",
       "      <td>4</td>\n",
       "      <td>i choose to love you in silence…for in silence...</td>\n",
       "      <td>Rumi</td>\n",
       "      <td>Love</td>\n",
       "    </tr>\n",
       "  </tbody>\n",
       "</table>\n",
       "</div>"
      ],
      "text/plain": [
       "   Unnamed: 0                                               quot  \\\n",
       "0           0  i love you as certain dark things are loved, s...   \n",
       "1           1  it is an absolute human certainty that no one ...   \n",
       "2           2  if i have learned anything in this long life o...   \n",
       "3           3  your handtouching mine.this is howgalaxiescoll...   \n",
       "4           4  i choose to love you in silence…for in silence...   \n",
       "\n",
       "                author category  \n",
       "0        Pablo Neruda,     Love  \n",
       "1  John Joseph Powell,     Love  \n",
       "2      Kristin Hannah,     Love  \n",
       "3         Sanober Khan     Love  \n",
       "4                 Rumi     Love  "
      ]
     },
     "execution_count": 20,
     "metadata": {},
     "output_type": "execute_result"
    }
   ],
   "source": [
    "df.head()"
   ]
  },
  {
   "cell_type": "markdown",
   "id": "WVa5wTgrDLvT",
   "metadata": {
    "id": "WVa5wTgrDLvT"
   },
   "source": [
    "**Noun_English_Word**:"
   ]
  },
  {
   "cell_type": "code",
   "execution_count": 21,
   "id": "PWXW4Wj4EBfr",
   "metadata": {
    "colab": {
     "base_uri": "https://localhost:8080/"
    },
    "id": "PWXW4Wj4EBfr",
    "outputId": "ce96c571-91c4-441e-c906-9445676e497b"
   },
   "outputs": [
    {
     "name": "stderr",
     "output_type": "stream",
     "text": [
      "[nltk_data] Downloading package words to\n",
      "[nltk_data]     /Users/raghadalthunayan/nltk_data...\n",
      "[nltk_data]   Package words is already up-to-date!\n"
     ]
    }
   ],
   "source": [
    "nltk.download('words')\n",
    "words = set(nltk.corpus.words.words())\n",
    "def Noun_English_Word(text):\n",
    "    return \" \".join(w for w in nltk.wordpunct_tokenize(text) \\\n",
    "         if w.lower() in words or not w.isalpha())"
   ]
  },
  {
   "cell_type": "code",
   "execution_count": 22,
   "id": "_px98muBECM6",
   "metadata": {
    "colab": {
     "base_uri": "https://localhost:8080/",
     "height": 201
    },
    "id": "_px98muBECM6",
    "outputId": "36f1bc29-2496-4e5d-9428-60af97f48819"
   },
   "outputs": [
    {
     "data": {
      "text/html": [
       "<div>\n",
       "<style scoped>\n",
       "    .dataframe tbody tr th:only-of-type {\n",
       "        vertical-align: middle;\n",
       "    }\n",
       "\n",
       "    .dataframe tbody tr th {\n",
       "        vertical-align: top;\n",
       "    }\n",
       "\n",
       "    .dataframe thead th {\n",
       "        text-align: right;\n",
       "    }\n",
       "</style>\n",
       "<table border=\"1\" class=\"dataframe\">\n",
       "  <thead>\n",
       "    <tr style=\"text-align: right;\">\n",
       "      <th></th>\n",
       "      <th>Unnamed: 0</th>\n",
       "      <th>quot</th>\n",
       "      <th>author</th>\n",
       "      <th>category</th>\n",
       "    </tr>\n",
       "  </thead>\n",
       "  <tbody>\n",
       "    <tr>\n",
       "      <th>0</th>\n",
       "      <td>0</td>\n",
       "      <td>i love you as certain dark are , secretly , be...</td>\n",
       "      <td>Pablo Neruda,</td>\n",
       "      <td>Love</td>\n",
       "    </tr>\n",
       "    <tr>\n",
       "      <th>1</th>\n",
       "      <td>1</td>\n",
       "      <td>it is an absolute human certainty that no one ...</td>\n",
       "      <td>John Joseph Powell,</td>\n",
       "      <td>Love</td>\n",
       "    </tr>\n",
       "    <tr>\n",
       "      <th>2</th>\n",
       "      <td>2</td>\n",
       "      <td>if i have learned anything in this long life o...</td>\n",
       "      <td>Kristin Hannah,</td>\n",
       "      <td>Love</td>\n",
       "    </tr>\n",
       "    <tr>\n",
       "      <th>3</th>\n",
       "      <td>3</td>\n",
       "      <td>your mine . this is .</td>\n",
       "      <td>Sanober Khan</td>\n",
       "      <td>Love</td>\n",
       "    </tr>\n",
       "    <tr>\n",
       "      <th>4</th>\n",
       "      <td>4</td>\n",
       "      <td>i choose to love you in silence … for in silen...</td>\n",
       "      <td>Rumi</td>\n",
       "      <td>Love</td>\n",
       "    </tr>\n",
       "  </tbody>\n",
       "</table>\n",
       "</div>"
      ],
      "text/plain": [
       "   Unnamed: 0                                               quot  \\\n",
       "0           0  i love you as certain dark are , secretly , be...   \n",
       "1           1  it is an absolute human certainty that no one ...   \n",
       "2           2  if i have learned anything in this long life o...   \n",
       "3           3                              your mine . this is .   \n",
       "4           4  i choose to love you in silence … for in silen...   \n",
       "\n",
       "                author category  \n",
       "0        Pablo Neruda,     Love  \n",
       "1  John Joseph Powell,     Love  \n",
       "2      Kristin Hannah,     Love  \n",
       "3         Sanober Khan     Love  \n",
       "4                 Rumi     Love  "
      ]
     },
     "execution_count": 22,
     "metadata": {},
     "output_type": "execute_result"
    }
   ],
   "source": [
    "df[\"quot\"] = df[\"quot\"].apply(lambda text: Noun_English_Word(text))\n",
    "df.head()"
   ]
  },
  {
   "cell_type": "code",
   "execution_count": null,
   "id": "1_EFQD3aFn1U",
   "metadata": {
    "id": "1_EFQD3aFn1U"
   },
   "outputs": [],
   "source": []
  },
  {
   "cell_type": "markdown",
   "id": "1eccaf05",
   "metadata": {
    "id": "1eccaf05"
   },
   "source": [
    "**Tokenization:**"
   ]
  },
  {
   "cell_type": "code",
   "execution_count": 23,
   "id": "caadead6",
   "metadata": {
    "id": "caadead6"
   },
   "outputs": [],
   "source": [
    "nlp = spacy.load('en_core_web_sm')\n",
    "df['quot'] = list(nlp.pipe(df.quot))"
   ]
  },
  {
   "cell_type": "code",
   "execution_count": 24,
   "id": "48a34282",
   "metadata": {
    "colab": {
     "base_uri": "https://localhost:8080/",
     "height": 201
    },
    "id": "48a34282",
    "outputId": "c498aea8-f954-46e9-9bd0-90d8a50467b2"
   },
   "outputs": [
    {
     "data": {
      "text/html": [
       "<div>\n",
       "<style scoped>\n",
       "    .dataframe tbody tr th:only-of-type {\n",
       "        vertical-align: middle;\n",
       "    }\n",
       "\n",
       "    .dataframe tbody tr th {\n",
       "        vertical-align: top;\n",
       "    }\n",
       "\n",
       "    .dataframe thead th {\n",
       "        text-align: right;\n",
       "    }\n",
       "</style>\n",
       "<table border=\"1\" class=\"dataframe\">\n",
       "  <thead>\n",
       "    <tr style=\"text-align: right;\">\n",
       "      <th></th>\n",
       "      <th>Unnamed: 0</th>\n",
       "      <th>quot</th>\n",
       "      <th>author</th>\n",
       "      <th>category</th>\n",
       "    </tr>\n",
       "  </thead>\n",
       "  <tbody>\n",
       "    <tr>\n",
       "      <th>0</th>\n",
       "      <td>0</td>\n",
       "      <td>(i, love, you, as, certain, dark, are, ,, secr...</td>\n",
       "      <td>Pablo Neruda,</td>\n",
       "      <td>Love</td>\n",
       "    </tr>\n",
       "    <tr>\n",
       "      <th>1</th>\n",
       "      <td>1</td>\n",
       "      <td>(it, is, an, absolute, human, certainty, that,...</td>\n",
       "      <td>John Joseph Powell,</td>\n",
       "      <td>Love</td>\n",
       "    </tr>\n",
       "    <tr>\n",
       "      <th>2</th>\n",
       "      <td>2</td>\n",
       "      <td>(if, i, have, learned, anything, in, this, lon...</td>\n",
       "      <td>Kristin Hannah,</td>\n",
       "      <td>Love</td>\n",
       "    </tr>\n",
       "    <tr>\n",
       "      <th>3</th>\n",
       "      <td>3</td>\n",
       "      <td>(your, mine, ., this, is, .)</td>\n",
       "      <td>Sanober Khan</td>\n",
       "      <td>Love</td>\n",
       "    </tr>\n",
       "    <tr>\n",
       "      <th>4</th>\n",
       "      <td>4</td>\n",
       "      <td>(i, choose, to, love, you, in, silence, …, for...</td>\n",
       "      <td>Rumi</td>\n",
       "      <td>Love</td>\n",
       "    </tr>\n",
       "  </tbody>\n",
       "</table>\n",
       "</div>"
      ],
      "text/plain": [
       "   Unnamed: 0                                               quot  \\\n",
       "0           0  (i, love, you, as, certain, dark, are, ,, secr...   \n",
       "1           1  (it, is, an, absolute, human, certainty, that,...   \n",
       "2           2  (if, i, have, learned, anything, in, this, lon...   \n",
       "3           3                       (your, mine, ., this, is, .)   \n",
       "4           4  (i, choose, to, love, you, in, silence, …, for...   \n",
       "\n",
       "                author category  \n",
       "0        Pablo Neruda,     Love  \n",
       "1  John Joseph Powell,     Love  \n",
       "2      Kristin Hannah,     Love  \n",
       "3         Sanober Khan     Love  \n",
       "4                 Rumi     Love  "
      ]
     },
     "execution_count": 24,
     "metadata": {},
     "output_type": "execute_result"
    }
   ],
   "source": [
    "df.head()"
   ]
  },
  {
   "cell_type": "markdown",
   "id": "277c36ad",
   "metadata": {
    "id": "277c36ad"
   },
   "source": [
    "**Removing Stop Words:**\n"
   ]
  },
  {
   "cell_type": "markdown",
   "id": "ZP2qbrp0UYvm",
   "metadata": {
    "id": "ZP2qbrp0UYvm"
   },
   "source": [
    "nltk:"
   ]
  },
  {
   "cell_type": "code",
   "execution_count": null,
   "id": "3861fd16",
   "metadata": {
    "colab": {
     "base_uri": "https://localhost:8080/"
    },
    "id": "3861fd16",
    "outputId": "9d922d8b-8fe4-4c54-955b-c2d96d204768"
   },
   "outputs": [],
   "source": [
    "nltk.download('stopwords')\n",
    "stop = stopwords.words('english')\n",
    "def remove_stop_words(text):\n",
    "    return ' '.join([word for word in str(text).split() if word not in (stop)])\n",
    "df['quot'] = df['quot'].apply(remove_stop_words)"
   ]
  },
  {
   "cell_type": "code",
   "execution_count": null,
   "id": "9g1fMgH0tZ-w",
   "metadata": {
    "colab": {
     "base_uri": "https://localhost:8080/",
     "height": 201
    },
    "id": "9g1fMgH0tZ-w",
    "outputId": "970f87d6-0bb1-4af7-903b-3b856b2e7f18"
   },
   "outputs": [],
   "source": [
    "df.head()"
   ]
  },
  {
   "cell_type": "markdown",
   "id": "aXp4qmSoUc2y",
   "metadata": {
    "id": "aXp4qmSoUc2y"
   },
   "source": [
    "spacy:"
   ]
  },
  {
   "cell_type": "code",
   "execution_count": 25,
   "id": "WSW6jNj5Hvwi",
   "metadata": {
    "id": "WSW6jNj5Hvwi",
    "scrolled": true
   },
   "outputs": [],
   "source": [
    "import spacy\n",
    "#loading the english language small model of spacy\n",
    "en = spacy.load('en_core_web_sm')\n",
    "sw_spacy = en.Defaults.stop_words\n",
    "def remove_stop_words1(text):\n",
    "    return ' '.join([word for word in str(text).split() if word not in (sw_spacy)])\n",
    "df['quot'] = df['quot'].apply(remove_stop_words1)"
   ]
  },
  {
   "cell_type": "markdown",
   "id": "1b02ea5d",
   "metadata": {
    "id": "1b02ea5d"
   },
   "source": [
    "**Removing punctuations:**\n"
   ]
  },
  {
   "cell_type": "code",
   "execution_count": 26,
   "id": "8b22942e",
   "metadata": {
    "id": "8b22942e"
   },
   "outputs": [],
   "source": [
    "#df.loc[:,\"quote\"] = df.quote.apply(lambda x : \" \".join(re.findall('[\\w]+',x)))"
   ]
  },
  {
   "cell_type": "code",
   "execution_count": 27,
   "id": "uHySXxTaaINE",
   "metadata": {
    "id": "uHySXxTaaINE"
   },
   "outputs": [],
   "source": [
    "df['quot'] = df['quot'].apply(lambda x: re.sub('[%s]' % re.escape(string.punctuation), '' , x))"
   ]
  },
  {
   "cell_type": "code",
   "execution_count": 28,
   "id": "0tzVoix7UQx4",
   "metadata": {
    "colab": {
     "base_uri": "https://localhost:8080/",
     "height": 201
    },
    "id": "0tzVoix7UQx4",
    "outputId": "9e2b1ede-d2e8-40a4-f121-1294bb1c0913"
   },
   "outputs": [
    {
     "data": {
      "text/html": [
       "<div>\n",
       "<style scoped>\n",
       "    .dataframe tbody tr th:only-of-type {\n",
       "        vertical-align: middle;\n",
       "    }\n",
       "\n",
       "    .dataframe tbody tr th {\n",
       "        vertical-align: top;\n",
       "    }\n",
       "\n",
       "    .dataframe thead th {\n",
       "        text-align: right;\n",
       "    }\n",
       "</style>\n",
       "<table border=\"1\" class=\"dataframe\">\n",
       "  <thead>\n",
       "    <tr style=\"text-align: right;\">\n",
       "      <th></th>\n",
       "      <th>Unnamed: 0</th>\n",
       "      <th>quot</th>\n",
       "      <th>author</th>\n",
       "      <th>category</th>\n",
       "    </tr>\n",
       "  </thead>\n",
       "  <tbody>\n",
       "    <tr>\n",
       "      <th>0</th>\n",
       "      <td>0</td>\n",
       "      <td>love certain dark  secretly  shadow soul</td>\n",
       "      <td>Pablo Neruda,</td>\n",
       "      <td>Love</td>\n",
       "    </tr>\n",
       "    <tr>\n",
       "      <th>1</th>\n",
       "      <td>1</td>\n",
       "      <td>absolute human certainty know beauty perceive ...</td>\n",
       "      <td>John Joseph Powell,</td>\n",
       "      <td>Love</td>\n",
       "    </tr>\n",
       "    <tr>\n",
       "      <th>2</th>\n",
       "      <td>2</td>\n",
       "      <td>learned long life   love find want  war find</td>\n",
       "      <td>Kristin Hannah,</td>\n",
       "      <td>Love</td>\n",
       "    </tr>\n",
       "    <tr>\n",
       "      <th>3</th>\n",
       "      <td>3</td>\n",
       "      <td></td>\n",
       "      <td>Sanober Khan</td>\n",
       "      <td>Love</td>\n",
       "    </tr>\n",
       "    <tr>\n",
       "      <th>4</th>\n",
       "      <td>4</td>\n",
       "      <td>choose love silence … silence find rejection  ...</td>\n",
       "      <td>Rumi</td>\n",
       "      <td>Love</td>\n",
       "    </tr>\n",
       "  </tbody>\n",
       "</table>\n",
       "</div>"
      ],
      "text/plain": [
       "   Unnamed: 0                                               quot  \\\n",
       "0           0          love certain dark  secretly  shadow soul    \n",
       "1           1  absolute human certainty know beauty perceive ...   \n",
       "2           2      learned long life   love find want  war find    \n",
       "3           3                                                      \n",
       "4           4  choose love silence … silence find rejection  ...   \n",
       "\n",
       "                author category  \n",
       "0        Pablo Neruda,     Love  \n",
       "1  John Joseph Powell,     Love  \n",
       "2      Kristin Hannah,     Love  \n",
       "3         Sanober Khan     Love  \n",
       "4                 Rumi     Love  "
      ]
     },
     "execution_count": 28,
     "metadata": {},
     "output_type": "execute_result"
    }
   ],
   "source": [
    "df.head()"
   ]
  },
  {
   "cell_type": "markdown",
   "id": "e93d1af8",
   "metadata": {
    "id": "e93d1af8"
   },
   "source": [
    "**Removing numbers:**\n"
   ]
  },
  {
   "cell_type": "code",
   "execution_count": 29,
   "id": "4c2f9f6a",
   "metadata": {
    "id": "4c2f9f6a"
   },
   "outputs": [],
   "source": [
    "df[\"quot\"]=df.quot.replace('\\w*\\d\\w*', '', regex=True)\n"
   ]
  },
  {
   "cell_type": "code",
   "execution_count": 30,
   "id": "5894802b",
   "metadata": {
    "colab": {
     "base_uri": "https://localhost:8080/",
     "height": 201
    },
    "id": "5894802b",
    "outputId": "a50d7b37-abd4-413c-82ae-9ff8fc05b3fd"
   },
   "outputs": [
    {
     "data": {
      "text/html": [
       "<div>\n",
       "<style scoped>\n",
       "    .dataframe tbody tr th:only-of-type {\n",
       "        vertical-align: middle;\n",
       "    }\n",
       "\n",
       "    .dataframe tbody tr th {\n",
       "        vertical-align: top;\n",
       "    }\n",
       "\n",
       "    .dataframe thead th {\n",
       "        text-align: right;\n",
       "    }\n",
       "</style>\n",
       "<table border=\"1\" class=\"dataframe\">\n",
       "  <thead>\n",
       "    <tr style=\"text-align: right;\">\n",
       "      <th></th>\n",
       "      <th>Unnamed: 0</th>\n",
       "      <th>quot</th>\n",
       "      <th>author</th>\n",
       "      <th>category</th>\n",
       "    </tr>\n",
       "  </thead>\n",
       "  <tbody>\n",
       "    <tr>\n",
       "      <th>0</th>\n",
       "      <td>0</td>\n",
       "      <td>love certain dark  secretly  shadow soul</td>\n",
       "      <td>Pablo Neruda,</td>\n",
       "      <td>Love</td>\n",
       "    </tr>\n",
       "    <tr>\n",
       "      <th>1</th>\n",
       "      <td>1</td>\n",
       "      <td>absolute human certainty know beauty perceive ...</td>\n",
       "      <td>John Joseph Powell,</td>\n",
       "      <td>Love</td>\n",
       "    </tr>\n",
       "    <tr>\n",
       "      <th>2</th>\n",
       "      <td>2</td>\n",
       "      <td>learned long life   love find want  war find</td>\n",
       "      <td>Kristin Hannah,</td>\n",
       "      <td>Love</td>\n",
       "    </tr>\n",
       "    <tr>\n",
       "      <th>3</th>\n",
       "      <td>3</td>\n",
       "      <td></td>\n",
       "      <td>Sanober Khan</td>\n",
       "      <td>Love</td>\n",
       "    </tr>\n",
       "    <tr>\n",
       "      <th>4</th>\n",
       "      <td>4</td>\n",
       "      <td>choose love silence … silence find rejection  ...</td>\n",
       "      <td>Rumi</td>\n",
       "      <td>Love</td>\n",
       "    </tr>\n",
       "  </tbody>\n",
       "</table>\n",
       "</div>"
      ],
      "text/plain": [
       "   Unnamed: 0                                               quot  \\\n",
       "0           0          love certain dark  secretly  shadow soul    \n",
       "1           1  absolute human certainty know beauty perceive ...   \n",
       "2           2      learned long life   love find want  war find    \n",
       "3           3                                                      \n",
       "4           4  choose love silence … silence find rejection  ...   \n",
       "\n",
       "                author category  \n",
       "0        Pablo Neruda,     Love  \n",
       "1  John Joseph Powell,     Love  \n",
       "2      Kristin Hannah,     Love  \n",
       "3         Sanober Khan     Love  \n",
       "4                 Rumi     Love  "
      ]
     },
     "execution_count": 30,
     "metadata": {},
     "output_type": "execute_result"
    }
   ],
   "source": [
    "df.head()"
   ]
  },
  {
   "cell_type": "markdown",
   "id": "8dc65201",
   "metadata": {
    "id": "8dc65201"
   },
   "source": [
    "**Remove Frequent Words:**"
   ]
  },
  {
   "cell_type": "code",
   "execution_count": 31,
   "id": "1c9b63ed",
   "metadata": {
    "colab": {
     "base_uri": "https://localhost:8080/"
    },
    "id": "1c9b63ed",
    "outputId": "7a73002c-299e-493c-ac3c-286aaeb5581f"
   },
   "outputs": [
    {
     "data": {
      "text/plain": [
       "[('love', 7952),\n",
       " ('life', 7033),\n",
       " ('god', 5908),\n",
       " ('people', 4152),\n",
       " ('like', 4120)]"
      ]
     },
     "execution_count": 31,
     "metadata": {},
     "output_type": "execute_result"
    }
   ],
   "source": [
    "cnt = Counter()\n",
    "for txt in df[\"quot\"].values:\n",
    "    for word in txt.split():\n",
    "        cnt[word]+=1\n",
    "cnt.most_common(5)\n"
   ]
  },
  {
   "cell_type": "code",
   "execution_count": null,
   "id": "504dc999",
   "metadata": {
    "id": "504dc999"
   },
   "outputs": [],
   "source": []
  },
  {
   "cell_type": "code",
   "execution_count": 32,
   "id": "5518750b",
   "metadata": {
    "colab": {
     "base_uri": "https://localhost:8080/",
     "height": 50
    },
    "id": "5518750b",
    "outputId": "49df5b49-716f-4884-92a2-f16c32553fea"
   },
   "outputs": [
    {
     "data": {
      "text/plain": [
       "'frequent_words = set([w for(w,wc) in cnt.most_common(10)])\\ndef remover(txt):\\n    return \" \".join([word for word in str(txt).split() if word not in frequent_words])\\n\\ndf[\"quote\"] = df[\"quote\"].apply(lambda txt: remover(txt))\\ndf.head()'"
      ]
     },
     "execution_count": 32,
     "metadata": {},
     "output_type": "execute_result"
    }
   ],
   "source": [
    "'''frequent_words = set([w for(w,wc) in cnt.most_common(10)])\n",
    "def remover(txt):\n",
    "    return \" \".join([word for word in str(txt).split() if word not in frequent_words])\n",
    "\n",
    "df[\"quote\"] = df[\"quote\"].apply(lambda txt: remover(txt))\n",
    "df.head()'''"
   ]
  },
  {
   "cell_type": "code",
   "execution_count": 33,
   "id": "c0867ac6",
   "metadata": {
    "colab": {
     "base_uri": "https://localhost:8080/",
     "height": 201
    },
    "id": "c0867ac6",
    "outputId": "2499e525-36d2-476a-ad5e-4302bf9bedda"
   },
   "outputs": [
    {
     "data": {
      "text/html": [
       "<div>\n",
       "<style scoped>\n",
       "    .dataframe tbody tr th:only-of-type {\n",
       "        vertical-align: middle;\n",
       "    }\n",
       "\n",
       "    .dataframe tbody tr th {\n",
       "        vertical-align: top;\n",
       "    }\n",
       "\n",
       "    .dataframe thead th {\n",
       "        text-align: right;\n",
       "    }\n",
       "</style>\n",
       "<table border=\"1\" class=\"dataframe\">\n",
       "  <thead>\n",
       "    <tr style=\"text-align: right;\">\n",
       "      <th></th>\n",
       "      <th>Unnamed: 0</th>\n",
       "      <th>quot</th>\n",
       "      <th>author</th>\n",
       "      <th>category</th>\n",
       "    </tr>\n",
       "  </thead>\n",
       "  <tbody>\n",
       "    <tr>\n",
       "      <th>0</th>\n",
       "      <td>0</td>\n",
       "      <td>love certain dark  secretly  shadow soul</td>\n",
       "      <td>Pablo Neruda,</td>\n",
       "      <td>Love</td>\n",
       "    </tr>\n",
       "    <tr>\n",
       "      <th>1</th>\n",
       "      <td>1</td>\n",
       "      <td>absolute human certainty know beauty perceive ...</td>\n",
       "      <td>John Joseph Powell,</td>\n",
       "      <td>Love</td>\n",
       "    </tr>\n",
       "    <tr>\n",
       "      <th>2</th>\n",
       "      <td>2</td>\n",
       "      <td>learned long life   love find want  war find</td>\n",
       "      <td>Kristin Hannah,</td>\n",
       "      <td>Love</td>\n",
       "    </tr>\n",
       "    <tr>\n",
       "      <th>3</th>\n",
       "      <td>3</td>\n",
       "      <td></td>\n",
       "      <td>Sanober Khan</td>\n",
       "      <td>Love</td>\n",
       "    </tr>\n",
       "    <tr>\n",
       "      <th>4</th>\n",
       "      <td>4</td>\n",
       "      <td>choose love silence … silence find rejection  ...</td>\n",
       "      <td>Rumi</td>\n",
       "      <td>Love</td>\n",
       "    </tr>\n",
       "  </tbody>\n",
       "</table>\n",
       "</div>"
      ],
      "text/plain": [
       "   Unnamed: 0                                               quot  \\\n",
       "0           0          love certain dark  secretly  shadow soul    \n",
       "1           1  absolute human certainty know beauty perceive ...   \n",
       "2           2      learned long life   love find want  war find    \n",
       "3           3                                                      \n",
       "4           4  choose love silence … silence find rejection  ...   \n",
       "\n",
       "                author category  \n",
       "0        Pablo Neruda,     Love  \n",
       "1  John Joseph Powell,     Love  \n",
       "2      Kristin Hannah,     Love  \n",
       "3         Sanober Khan     Love  \n",
       "4                 Rumi     Love  "
      ]
     },
     "execution_count": 33,
     "metadata": {},
     "output_type": "execute_result"
    }
   ],
   "source": [
    "df.head()"
   ]
  },
  {
   "cell_type": "markdown",
   "id": "203376ab",
   "metadata": {
    "id": "203376ab"
   },
   "source": [
    "**Removing rare words**\n"
   ]
  },
  {
   "cell_type": "code",
   "execution_count": 34,
   "id": "b0ad5437",
   "metadata": {
    "id": "b0ad5437"
   },
   "outputs": [],
   "source": [
    "cnt = Counter()\n",
    "num_rare_words = 10\n",
    "rare_words = set([w for (w, wc) in cnt.most_common()[:-num_rare_words-1:-1]])\n"
   ]
  },
  {
   "cell_type": "code",
   "execution_count": 35,
   "id": "zo5PBdJWVC2f",
   "metadata": {
    "colab": {
     "base_uri": "https://localhost:8080/"
    },
    "id": "zo5PBdJWVC2f",
    "outputId": "4b2da84a-ea38-421d-8296-53a4263712e5"
   },
   "outputs": [
    {
     "name": "stdout",
     "output_type": "stream",
     "text": [
      "set()\n"
     ]
    }
   ],
   "source": [
    "print(rare_words)"
   ]
  },
  {
   "cell_type": "code",
   "execution_count": 36,
   "id": "e71e4c95",
   "metadata": {
    "id": "e71e4c95"
   },
   "outputs": [],
   "source": [
    "def remove_rare(text):\n",
    "    return \" \".join([word for word in str(text).split() if word not in rare_words])\n",
    "    "
   ]
  },
  {
   "cell_type": "code",
   "execution_count": 37,
   "id": "bcafa9c2",
   "metadata": {
    "colab": {
     "base_uri": "https://localhost:8080/",
     "height": 201
    },
    "id": "bcafa9c2",
    "outputId": "55acedee-7d79-4e43-f0c8-c22a262f25c0",
    "scrolled": false
   },
   "outputs": [
    {
     "data": {
      "text/html": [
       "<div>\n",
       "<style scoped>\n",
       "    .dataframe tbody tr th:only-of-type {\n",
       "        vertical-align: middle;\n",
       "    }\n",
       "\n",
       "    .dataframe tbody tr th {\n",
       "        vertical-align: top;\n",
       "    }\n",
       "\n",
       "    .dataframe thead th {\n",
       "        text-align: right;\n",
       "    }\n",
       "</style>\n",
       "<table border=\"1\" class=\"dataframe\">\n",
       "  <thead>\n",
       "    <tr style=\"text-align: right;\">\n",
       "      <th></th>\n",
       "      <th>Unnamed: 0</th>\n",
       "      <th>quot</th>\n",
       "      <th>author</th>\n",
       "      <th>category</th>\n",
       "    </tr>\n",
       "  </thead>\n",
       "  <tbody>\n",
       "    <tr>\n",
       "      <th>0</th>\n",
       "      <td>0</td>\n",
       "      <td>love certain dark secretly shadow soul</td>\n",
       "      <td>Pablo Neruda,</td>\n",
       "      <td>Love</td>\n",
       "    </tr>\n",
       "    <tr>\n",
       "      <th>1</th>\n",
       "      <td>1</td>\n",
       "      <td>absolute human certainty know beauty perceive ...</td>\n",
       "      <td>John Joseph Powell,</td>\n",
       "      <td>Love</td>\n",
       "    </tr>\n",
       "    <tr>\n",
       "      <th>2</th>\n",
       "      <td>2</td>\n",
       "      <td>learned long life love find want war find</td>\n",
       "      <td>Kristin Hannah,</td>\n",
       "      <td>Love</td>\n",
       "    </tr>\n",
       "    <tr>\n",
       "      <th>3</th>\n",
       "      <td>3</td>\n",
       "      <td></td>\n",
       "      <td>Sanober Khan</td>\n",
       "      <td>Love</td>\n",
       "    </tr>\n",
       "    <tr>\n",
       "      <th>4</th>\n",
       "      <td>4</td>\n",
       "      <td>choose love silence … silence find rejection c...</td>\n",
       "      <td>Rumi</td>\n",
       "      <td>Love</td>\n",
       "    </tr>\n",
       "  </tbody>\n",
       "</table>\n",
       "</div>"
      ],
      "text/plain": [
       "   Unnamed: 0                                               quot  \\\n",
       "0           0             love certain dark secretly shadow soul   \n",
       "1           1  absolute human certainty know beauty perceive ...   \n",
       "2           2          learned long life love find want war find   \n",
       "3           3                                                      \n",
       "4           4  choose love silence … silence find rejection c...   \n",
       "\n",
       "                author category  \n",
       "0        Pablo Neruda,     Love  \n",
       "1  John Joseph Powell,     Love  \n",
       "2      Kristin Hannah,     Love  \n",
       "3         Sanober Khan     Love  \n",
       "4                 Rumi     Love  "
      ]
     },
     "execution_count": 37,
     "metadata": {},
     "output_type": "execute_result"
    }
   ],
   "source": [
    "df[\"quot\"] = df[\"quot\"].apply(lambda text: remove_rare(text))\n",
    "df.head()"
   ]
  },
  {
   "cell_type": "markdown",
   "id": "a4d37441",
   "metadata": {
    "id": "a4d37441"
   },
   "source": [
    "**Remove Repeating Char**"
   ]
  },
  {
   "cell_type": "code",
   "execution_count": 38,
   "id": "f01d19aa",
   "metadata": {
    "id": "f01d19aa"
   },
   "outputs": [],
   "source": [
    "def remove_repeating_char(text):\n",
    "    text = str(text)\n",
    "    return re.sub('(.)\\\\1{2,}', '\\\\1', text)\n",
    "df['quot'] = df['quot'].apply(remove_repeating_char)"
   ]
  },
  {
   "cell_type": "code",
   "execution_count": 39,
   "id": "9c4dfd3d",
   "metadata": {
    "colab": {
     "base_uri": "https://localhost:8080/",
     "height": 201
    },
    "id": "9c4dfd3d",
    "outputId": "a053b27d-e40f-4525-9caf-a55b7bea74c9"
   },
   "outputs": [
    {
     "data": {
      "text/html": [
       "<div>\n",
       "<style scoped>\n",
       "    .dataframe tbody tr th:only-of-type {\n",
       "        vertical-align: middle;\n",
       "    }\n",
       "\n",
       "    .dataframe tbody tr th {\n",
       "        vertical-align: top;\n",
       "    }\n",
       "\n",
       "    .dataframe thead th {\n",
       "        text-align: right;\n",
       "    }\n",
       "</style>\n",
       "<table border=\"1\" class=\"dataframe\">\n",
       "  <thead>\n",
       "    <tr style=\"text-align: right;\">\n",
       "      <th></th>\n",
       "      <th>Unnamed: 0</th>\n",
       "      <th>quot</th>\n",
       "      <th>author</th>\n",
       "      <th>category</th>\n",
       "    </tr>\n",
       "  </thead>\n",
       "  <tbody>\n",
       "    <tr>\n",
       "      <th>0</th>\n",
       "      <td>0</td>\n",
       "      <td>love certain dark secretly shadow soul</td>\n",
       "      <td>Pablo Neruda,</td>\n",
       "      <td>Love</td>\n",
       "    </tr>\n",
       "    <tr>\n",
       "      <th>1</th>\n",
       "      <td>1</td>\n",
       "      <td>absolute human certainty know beauty perceive ...</td>\n",
       "      <td>John Joseph Powell,</td>\n",
       "      <td>Love</td>\n",
       "    </tr>\n",
       "    <tr>\n",
       "      <th>2</th>\n",
       "      <td>2</td>\n",
       "      <td>learned long life love find want war find</td>\n",
       "      <td>Kristin Hannah,</td>\n",
       "      <td>Love</td>\n",
       "    </tr>\n",
       "    <tr>\n",
       "      <th>3</th>\n",
       "      <td>3</td>\n",
       "      <td></td>\n",
       "      <td>Sanober Khan</td>\n",
       "      <td>Love</td>\n",
       "    </tr>\n",
       "    <tr>\n",
       "      <th>4</th>\n",
       "      <td>4</td>\n",
       "      <td>choose love silence … silence find rejection c...</td>\n",
       "      <td>Rumi</td>\n",
       "      <td>Love</td>\n",
       "    </tr>\n",
       "  </tbody>\n",
       "</table>\n",
       "</div>"
      ],
      "text/plain": [
       "   Unnamed: 0                                               quot  \\\n",
       "0           0             love certain dark secretly shadow soul   \n",
       "1           1  absolute human certainty know beauty perceive ...   \n",
       "2           2          learned long life love find want war find   \n",
       "3           3                                                      \n",
       "4           4  choose love silence … silence find rejection c...   \n",
       "\n",
       "                author category  \n",
       "0        Pablo Neruda,     Love  \n",
       "1  John Joseph Powell,     Love  \n",
       "2      Kristin Hannah,     Love  \n",
       "3         Sanober Khan     Love  \n",
       "4                 Rumi     Love  "
      ]
     },
     "execution_count": 39,
     "metadata": {},
     "output_type": "execute_result"
    }
   ],
   "source": [
    "df.head()"
   ]
  },
  {
   "cell_type": "markdown",
   "id": "8beba9c9",
   "metadata": {
    "id": "8beba9c9"
   },
   "source": [
    "**Stemming:**"
   ]
  },
  {
   "cell_type": "code",
   "execution_count": 40,
   "id": "9ccdfeae",
   "metadata": {
    "id": "9ccdfeae"
   },
   "outputs": [],
   "source": [
    "stemmer = PorterStemmer()\n",
    "def stem_words(text):\n",
    "    return \" \".join([stemmer.stem(word) for word in text.split()])"
   ]
  },
  {
   "cell_type": "code",
   "execution_count": 41,
   "id": "b5446e78",
   "metadata": {
    "colab": {
     "base_uri": "https://localhost:8080/",
     "height": 201
    },
    "id": "b5446e78",
    "outputId": "212c832d-bf12-458e-a5d2-224e479e1495"
   },
   "outputs": [
    {
     "data": {
      "text/html": [
       "<div>\n",
       "<style scoped>\n",
       "    .dataframe tbody tr th:only-of-type {\n",
       "        vertical-align: middle;\n",
       "    }\n",
       "\n",
       "    .dataframe tbody tr th {\n",
       "        vertical-align: top;\n",
       "    }\n",
       "\n",
       "    .dataframe thead th {\n",
       "        text-align: right;\n",
       "    }\n",
       "</style>\n",
       "<table border=\"1\" class=\"dataframe\">\n",
       "  <thead>\n",
       "    <tr style=\"text-align: right;\">\n",
       "      <th></th>\n",
       "      <th>Unnamed: 0</th>\n",
       "      <th>quot</th>\n",
       "      <th>author</th>\n",
       "      <th>category</th>\n",
       "      <th>text_stemmed</th>\n",
       "    </tr>\n",
       "  </thead>\n",
       "  <tbody>\n",
       "    <tr>\n",
       "      <th>0</th>\n",
       "      <td>0</td>\n",
       "      <td>love certain dark secretly shadow soul</td>\n",
       "      <td>Pablo Neruda,</td>\n",
       "      <td>Love</td>\n",
       "      <td>love certain dark secretli shadow soul</td>\n",
       "    </tr>\n",
       "    <tr>\n",
       "      <th>1</th>\n",
       "      <td>1</td>\n",
       "      <td>absolute human certainty know beauty perceive ...</td>\n",
       "      <td>John Joseph Powell,</td>\n",
       "      <td>Love</td>\n",
       "      <td>absolut human certainti know beauti perceiv se...</td>\n",
       "    </tr>\n",
       "    <tr>\n",
       "      <th>2</th>\n",
       "      <td>2</td>\n",
       "      <td>learned long life love find want war find</td>\n",
       "      <td>Kristin Hannah,</td>\n",
       "      <td>Love</td>\n",
       "      <td>learn long life love find want war find</td>\n",
       "    </tr>\n",
       "    <tr>\n",
       "      <th>3</th>\n",
       "      <td>3</td>\n",
       "      <td></td>\n",
       "      <td>Sanober Khan</td>\n",
       "      <td>Love</td>\n",
       "      <td></td>\n",
       "    </tr>\n",
       "    <tr>\n",
       "      <th>4</th>\n",
       "      <td>4</td>\n",
       "      <td>choose love silence … silence find rejection c...</td>\n",
       "      <td>Rumi</td>\n",
       "      <td>Love</td>\n",
       "      <td>choos love silenc … silenc find reject choos l...</td>\n",
       "    </tr>\n",
       "  </tbody>\n",
       "</table>\n",
       "</div>"
      ],
      "text/plain": [
       "   Unnamed: 0                                               quot  \\\n",
       "0           0             love certain dark secretly shadow soul   \n",
       "1           1  absolute human certainty know beauty perceive ...   \n",
       "2           2          learned long life love find want war find   \n",
       "3           3                                                      \n",
       "4           4  choose love silence … silence find rejection c...   \n",
       "\n",
       "                author category  \\\n",
       "0        Pablo Neruda,     Love   \n",
       "1  John Joseph Powell,     Love   \n",
       "2      Kristin Hannah,     Love   \n",
       "3         Sanober Khan     Love   \n",
       "4                 Rumi     Love   \n",
       "\n",
       "                                        text_stemmed  \n",
       "0             love certain dark secretli shadow soul  \n",
       "1  absolut human certainti know beauti perceiv se...  \n",
       "2            learn long life love find want war find  \n",
       "3                                                     \n",
       "4  choos love silenc … silenc find reject choos l...  "
      ]
     },
     "execution_count": 41,
     "metadata": {},
     "output_type": "execute_result"
    }
   ],
   "source": [
    "df[\"text_stemmed\"] = df[\"quot\"].apply(lambda text: stem_words(text))\n",
    "df.head()"
   ]
  },
  {
   "cell_type": "markdown",
   "id": "81aafc61",
   "metadata": {
    "id": "81aafc61"
   },
   "source": [
    "**Lemmatization:**"
   ]
  },
  {
   "cell_type": "code",
   "execution_count": 42,
   "id": "93b42ab2",
   "metadata": {
    "colab": {
     "base_uri": "https://localhost:8080/"
    },
    "id": "93b42ab2",
    "outputId": "a3c3132b-5dd2-4227-a6bf-d01552203013"
   },
   "outputs": [
    {
     "name": "stderr",
     "output_type": "stream",
     "text": [
      "[nltk_data] Downloading package wordnet to\n",
      "[nltk_data]     /Users/raghadalthunayan/nltk_data...\n",
      "[nltk_data]   Package wordnet is already up-to-date!\n"
     ]
    }
   ],
   "source": [
    "from nltk.stem import WordNetLemmatizer\n",
    "import nltk\n",
    "nltk.download('wordnet')\n",
    "lemmatizer = WordNetLemmatizer()\n",
    "\n",
    "def lemmatize_words(text):\n",
    "    return \" \".join([lemmatizer.lemmatize(word) for word in text.split()])"
   ]
  },
  {
   "cell_type": "code",
   "execution_count": 43,
   "id": "3v_NuSLPVzpT",
   "metadata": {
    "colab": {
     "base_uri": "https://localhost:8080/",
     "height": 277
    },
    "id": "3v_NuSLPVzpT",
    "outputId": "a007c95b-42f6-4542-cd29-8ad4e81fc3eb"
   },
   "outputs": [
    {
     "data": {
      "text/html": [
       "<div>\n",
       "<style scoped>\n",
       "    .dataframe tbody tr th:only-of-type {\n",
       "        vertical-align: middle;\n",
       "    }\n",
       "\n",
       "    .dataframe tbody tr th {\n",
       "        vertical-align: top;\n",
       "    }\n",
       "\n",
       "    .dataframe thead th {\n",
       "        text-align: right;\n",
       "    }\n",
       "</style>\n",
       "<table border=\"1\" class=\"dataframe\">\n",
       "  <thead>\n",
       "    <tr style=\"text-align: right;\">\n",
       "      <th></th>\n",
       "      <th>Unnamed: 0</th>\n",
       "      <th>quot</th>\n",
       "      <th>author</th>\n",
       "      <th>category</th>\n",
       "      <th>text_stemmed</th>\n",
       "      <th>text_lemmatized</th>\n",
       "    </tr>\n",
       "  </thead>\n",
       "  <tbody>\n",
       "    <tr>\n",
       "      <th>0</th>\n",
       "      <td>0</td>\n",
       "      <td>love certain dark secretly shadow soul</td>\n",
       "      <td>Pablo Neruda,</td>\n",
       "      <td>Love</td>\n",
       "      <td>love certain dark secretli shadow soul</td>\n",
       "      <td>love certain dark secretli shadow soul</td>\n",
       "    </tr>\n",
       "    <tr>\n",
       "      <th>1</th>\n",
       "      <td>1</td>\n",
       "      <td>absolute human certainty know beauty perceive ...</td>\n",
       "      <td>John Joseph Powell,</td>\n",
       "      <td>Love</td>\n",
       "      <td>absolut human certainti know beauti perceiv se...</td>\n",
       "      <td>absolut human certainti know beauti perceiv se...</td>\n",
       "    </tr>\n",
       "    <tr>\n",
       "      <th>2</th>\n",
       "      <td>2</td>\n",
       "      <td>learned long life love find want war find</td>\n",
       "      <td>Kristin Hannah,</td>\n",
       "      <td>Love</td>\n",
       "      <td>learn long life love find want war find</td>\n",
       "      <td>learn long life love find want war find</td>\n",
       "    </tr>\n",
       "    <tr>\n",
       "      <th>3</th>\n",
       "      <td>3</td>\n",
       "      <td></td>\n",
       "      <td>Sanober Khan</td>\n",
       "      <td>Love</td>\n",
       "      <td></td>\n",
       "      <td></td>\n",
       "    </tr>\n",
       "    <tr>\n",
       "      <th>4</th>\n",
       "      <td>4</td>\n",
       "      <td>choose love silence … silence find rejection c...</td>\n",
       "      <td>Rumi</td>\n",
       "      <td>Love</td>\n",
       "      <td>choos love silenc … silenc find reject choos l...</td>\n",
       "      <td>choos love silenc … silenc find reject choos l...</td>\n",
       "    </tr>\n",
       "  </tbody>\n",
       "</table>\n",
       "</div>"
      ],
      "text/plain": [
       "   Unnamed: 0                                               quot  \\\n",
       "0           0             love certain dark secretly shadow soul   \n",
       "1           1  absolute human certainty know beauty perceive ...   \n",
       "2           2          learned long life love find want war find   \n",
       "3           3                                                      \n",
       "4           4  choose love silence … silence find rejection c...   \n",
       "\n",
       "                author category  \\\n",
       "0        Pablo Neruda,     Love   \n",
       "1  John Joseph Powell,     Love   \n",
       "2      Kristin Hannah,     Love   \n",
       "3         Sanober Khan     Love   \n",
       "4                 Rumi     Love   \n",
       "\n",
       "                                        text_stemmed  \\\n",
       "0             love certain dark secretli shadow soul   \n",
       "1  absolut human certainti know beauti perceiv se...   \n",
       "2            learn long life love find want war find   \n",
       "3                                                      \n",
       "4  choos love silenc … silenc find reject choos l...   \n",
       "\n",
       "                                     text_lemmatized  \n",
       "0             love certain dark secretli shadow soul  \n",
       "1  absolut human certainti know beauti perceiv se...  \n",
       "2            learn long life love find want war find  \n",
       "3                                                     \n",
       "4  choos love silenc … silenc find reject choos l...  "
      ]
     },
     "execution_count": 43,
     "metadata": {},
     "output_type": "execute_result"
    }
   ],
   "source": [
    "df[\"text_lemmatized\"] = df[\"text_stemmed\"].apply(lambda text: lemmatize_words(text))\n",
    "df.head()"
   ]
  },
  {
   "cell_type": "markdown",
   "id": "1938d9dc",
   "metadata": {
    "id": "1938d9dc"
   },
   "source": [
    "**Spell Corrections:**"
   ]
  },
  {
   "cell_type": "code",
   "execution_count": 44,
   "id": "jP76K27yvHLh",
   "metadata": {
    "colab": {
     "base_uri": "https://localhost:8080/"
    },
    "id": "jP76K27yvHLh",
    "outputId": "d2b07831-dc6f-4b31-b45d-a6067f644a8f"
   },
   "outputs": [
    {
     "name": "stdout",
     "output_type": "stream",
     "text": [
      "Requirement already satisfied: spellchecker in /opt/anaconda3/lib/python3.9/site-packages (0.4)\n",
      "Requirement already satisfied: setuptools in /opt/anaconda3/lib/python3.9/site-packages (from spellchecker) (58.0.4)\n",
      "Requirement already satisfied: inexactsearch in /opt/anaconda3/lib/python3.9/site-packages (from spellchecker) (1.0.2)\n",
      "Requirement already satisfied: soundex>=1.0 in /opt/anaconda3/lib/python3.9/site-packages (from inexactsearch->spellchecker) (1.1.3)\n",
      "Requirement already satisfied: silpa-common>=0.3 in /opt/anaconda3/lib/python3.9/site-packages (from inexactsearch->spellchecker) (0.3)\n",
      "Note: you may need to restart the kernel to use updated packages.\n"
     ]
    }
   ],
   "source": [
    "pip install spellchecker"
   ]
  },
  {
   "cell_type": "code",
   "execution_count": 45,
   "id": "EY39URn0vVxj",
   "metadata": {
    "colab": {
     "base_uri": "https://localhost:8080/"
    },
    "id": "EY39URn0vVxj",
    "outputId": "ad351508-e48d-4fd0-b699-a86e99021b8d"
   },
   "outputs": [
    {
     "name": "stdout",
     "output_type": "stream",
     "text": [
      "Requirement already satisfied: pyspellchecker in /opt/anaconda3/lib/python3.9/site-packages (0.6.2)\n",
      "Note: you may need to restart the kernel to use updated packages.\n"
     ]
    }
   ],
   "source": [
    "pip install pyspellchecker"
   ]
  },
  {
   "cell_type": "code",
   "execution_count": 46,
   "id": "8106848d",
   "metadata": {
    "id": "8106848d"
   },
   "outputs": [],
   "source": [
    "from spellchecker import SpellChecker\n",
    "spell = SpellChecker()\n",
    "def correct_spellings(text):\n",
    "    corrected_text = []\n",
    "    misspelled_words = spell.unknown(text.split())\n",
    "    for word in text.split():\n",
    "        if word in misspelled_words:\n",
    "            corrected_text.append(spell.correction(word))\n",
    "        else:\n",
    "            corrected_text.append(word)\n",
    "    return \" \".join(corrected_text)"
   ]
  },
  {
   "cell_type": "code",
   "execution_count": 47,
   "id": "4e47f946",
   "metadata": {
    "id": "4e47f946"
   },
   "outputs": [],
   "source": [
    "df[\"text_corrected\"] = df[\"text_lemmatized\"].apply(lambda text: correct_spellings(text))"
   ]
  },
  {
   "cell_type": "code",
   "execution_count": 48,
   "id": "1ffabfda",
   "metadata": {
    "id": "1ffabfda"
   },
   "outputs": [
    {
     "data": {
      "text/html": [
       "<div>\n",
       "<style scoped>\n",
       "    .dataframe tbody tr th:only-of-type {\n",
       "        vertical-align: middle;\n",
       "    }\n",
       "\n",
       "    .dataframe tbody tr th {\n",
       "        vertical-align: top;\n",
       "    }\n",
       "\n",
       "    .dataframe thead th {\n",
       "        text-align: right;\n",
       "    }\n",
       "</style>\n",
       "<table border=\"1\" class=\"dataframe\">\n",
       "  <thead>\n",
       "    <tr style=\"text-align: right;\">\n",
       "      <th></th>\n",
       "      <th>Unnamed: 0</th>\n",
       "      <th>quot</th>\n",
       "      <th>author</th>\n",
       "      <th>category</th>\n",
       "      <th>text_stemmed</th>\n",
       "      <th>text_lemmatized</th>\n",
       "      <th>text_corrected</th>\n",
       "    </tr>\n",
       "  </thead>\n",
       "  <tbody>\n",
       "    <tr>\n",
       "      <th>0</th>\n",
       "      <td>0</td>\n",
       "      <td>love certain dark secretly shadow soul</td>\n",
       "      <td>Pablo Neruda,</td>\n",
       "      <td>Love</td>\n",
       "      <td>love certain dark secretli shadow soul</td>\n",
       "      <td>love certain dark secretli shadow soul</td>\n",
       "      <td>love certain dark secretly shadow soul</td>\n",
       "    </tr>\n",
       "    <tr>\n",
       "      <th>1</th>\n",
       "      <td>1</td>\n",
       "      <td>absolute human certainty know beauty perceive ...</td>\n",
       "      <td>John Joseph Powell,</td>\n",
       "      <td>Love</td>\n",
       "      <td>absolut human certainti know beauti perceiv se...</td>\n",
       "      <td>absolut human certainti know beauti perceiv se...</td>\n",
       "      <td>absolut human certainty know beauty perceive s...</td>\n",
       "    </tr>\n",
       "    <tr>\n",
       "      <th>2</th>\n",
       "      <td>2</td>\n",
       "      <td>learned long life love find want war find</td>\n",
       "      <td>Kristin Hannah,</td>\n",
       "      <td>Love</td>\n",
       "      <td>learn long life love find want war find</td>\n",
       "      <td>learn long life love find want war find</td>\n",
       "      <td>learn long life love find want war find</td>\n",
       "    </tr>\n",
       "    <tr>\n",
       "      <th>3</th>\n",
       "      <td>3</td>\n",
       "      <td></td>\n",
       "      <td>Sanober Khan</td>\n",
       "      <td>Love</td>\n",
       "      <td></td>\n",
       "      <td></td>\n",
       "      <td></td>\n",
       "    </tr>\n",
       "    <tr>\n",
       "      <th>4</th>\n",
       "      <td>4</td>\n",
       "      <td>choose love silence … silence find rejection c...</td>\n",
       "      <td>Rumi</td>\n",
       "      <td>Love</td>\n",
       "      <td>choos love silenc … silenc find reject choos l...</td>\n",
       "      <td>choos love silenc … silenc find reject choos l...</td>\n",
       "      <td>choose love silence i silence find reject choo...</td>\n",
       "    </tr>\n",
       "  </tbody>\n",
       "</table>\n",
       "</div>"
      ],
      "text/plain": [
       "   Unnamed: 0                                               quot  \\\n",
       "0           0             love certain dark secretly shadow soul   \n",
       "1           1  absolute human certainty know beauty perceive ...   \n",
       "2           2          learned long life love find want war find   \n",
       "3           3                                                      \n",
       "4           4  choose love silence … silence find rejection c...   \n",
       "\n",
       "                author category  \\\n",
       "0        Pablo Neruda,     Love   \n",
       "1  John Joseph Powell,     Love   \n",
       "2      Kristin Hannah,     Love   \n",
       "3         Sanober Khan     Love   \n",
       "4                 Rumi     Love   \n",
       "\n",
       "                                        text_stemmed  \\\n",
       "0             love certain dark secretli shadow soul   \n",
       "1  absolut human certainti know beauti perceiv se...   \n",
       "2            learn long life love find want war find   \n",
       "3                                                      \n",
       "4  choos love silenc … silenc find reject choos l...   \n",
       "\n",
       "                                     text_lemmatized  \\\n",
       "0             love certain dark secretli shadow soul   \n",
       "1  absolut human certainti know beauti perceiv se...   \n",
       "2            learn long life love find want war find   \n",
       "3                                                      \n",
       "4  choos love silenc … silenc find reject choos l...   \n",
       "\n",
       "                                      text_corrected  \n",
       "0             love certain dark secretly shadow soul  \n",
       "1  absolut human certainty know beauty perceive s...  \n",
       "2            learn long life love find want war find  \n",
       "3                                                     \n",
       "4  choose love silence i silence find reject choo...  "
      ]
     },
     "execution_count": 48,
     "metadata": {},
     "output_type": "execute_result"
    }
   ],
   "source": [
    "df.head()"
   ]
  },
  {
   "cell_type": "markdown",
   "id": "667231c4",
   "metadata": {
    "id": "667231c4"
   },
   "source": [
    "**Remove Word Less Than 3:**"
   ]
  },
  {
   "cell_type": "code",
   "execution_count": 49,
   "id": "adc648a1",
   "metadata": {
    "id": "adc648a1"
   },
   "outputs": [
    {
     "name": "stderr",
     "output_type": "stream",
     "text": [
      "/var/folders/sh/7nxdcqpn0f14wcm9087htcrh0000gn/T/ipykernel_27475/4062878146.py:1: FutureWarning: The default value of regex will change from True to False in a future version.\n",
      "  df[\"Without3letters\"]=df.text_lemmatized.str.replace(r'\\b(\\w{1,3})\\b', '')\n"
     ]
    }
   ],
   "source": [
    "df[\"Without3letters\"]=df.text_lemmatized.str.replace(r'\\b(\\w{1,3})\\b', '')"
   ]
  },
  {
   "cell_type": "code",
   "execution_count": 50,
   "id": "afbdd1df",
   "metadata": {
    "colab": {
     "base_uri": "https://localhost:8080/",
     "height": 327
    },
    "id": "afbdd1df",
    "outputId": "6ec4def1-b9db-45c1-94e7-423287649dde"
   },
   "outputs": [
    {
     "data": {
      "text/html": [
       "<div>\n",
       "<style scoped>\n",
       "    .dataframe tbody tr th:only-of-type {\n",
       "        vertical-align: middle;\n",
       "    }\n",
       "\n",
       "    .dataframe tbody tr th {\n",
       "        vertical-align: top;\n",
       "    }\n",
       "\n",
       "    .dataframe thead th {\n",
       "        text-align: right;\n",
       "    }\n",
       "</style>\n",
       "<table border=\"1\" class=\"dataframe\">\n",
       "  <thead>\n",
       "    <tr style=\"text-align: right;\">\n",
       "      <th></th>\n",
       "      <th>Unnamed: 0</th>\n",
       "      <th>quot</th>\n",
       "      <th>author</th>\n",
       "      <th>category</th>\n",
       "      <th>text_stemmed</th>\n",
       "      <th>text_lemmatized</th>\n",
       "      <th>text_corrected</th>\n",
       "      <th>Without3letters</th>\n",
       "    </tr>\n",
       "  </thead>\n",
       "  <tbody>\n",
       "    <tr>\n",
       "      <th>0</th>\n",
       "      <td>0</td>\n",
       "      <td>love certain dark secretly shadow soul</td>\n",
       "      <td>Pablo Neruda,</td>\n",
       "      <td>Love</td>\n",
       "      <td>love certain dark secretli shadow soul</td>\n",
       "      <td>love certain dark secretli shadow soul</td>\n",
       "      <td>love certain dark secretly shadow soul</td>\n",
       "      <td>love certain dark secretli shadow soul</td>\n",
       "    </tr>\n",
       "    <tr>\n",
       "      <th>1</th>\n",
       "      <td>1</td>\n",
       "      <td>absolute human certainty know beauty perceive ...</td>\n",
       "      <td>John Joseph Powell,</td>\n",
       "      <td>Love</td>\n",
       "      <td>absolut human certainti know beauti perceiv se...</td>\n",
       "      <td>absolut human certainti know beauti perceiv se...</td>\n",
       "      <td>absolut human certainty know beauty perceive s...</td>\n",
       "      <td>absolut human certainti know beauti perceiv  w...</td>\n",
       "    </tr>\n",
       "    <tr>\n",
       "      <th>2</th>\n",
       "      <td>2</td>\n",
       "      <td>learned long life love find want war find</td>\n",
       "      <td>Kristin Hannah,</td>\n",
       "      <td>Love</td>\n",
       "      <td>learn long life love find want war find</td>\n",
       "      <td>learn long life love find want war find</td>\n",
       "      <td>learn long life love find want war find</td>\n",
       "      <td>learn long life love find want  find</td>\n",
       "    </tr>\n",
       "    <tr>\n",
       "      <th>3</th>\n",
       "      <td>3</td>\n",
       "      <td></td>\n",
       "      <td>Sanober Khan</td>\n",
       "      <td>Love</td>\n",
       "      <td></td>\n",
       "      <td></td>\n",
       "      <td></td>\n",
       "      <td></td>\n",
       "    </tr>\n",
       "    <tr>\n",
       "      <th>4</th>\n",
       "      <td>4</td>\n",
       "      <td>choose love silence … silence find rejection c...</td>\n",
       "      <td>Rumi</td>\n",
       "      <td>Love</td>\n",
       "      <td>choos love silenc … silenc find reject choos l...</td>\n",
       "      <td>choos love silenc … silenc find reject choos l...</td>\n",
       "      <td>choose love silence i silence find reject choo...</td>\n",
       "      <td>choos love silenc … silenc find reject choos l...</td>\n",
       "    </tr>\n",
       "  </tbody>\n",
       "</table>\n",
       "</div>"
      ],
      "text/plain": [
       "   Unnamed: 0                                               quot  \\\n",
       "0           0             love certain dark secretly shadow soul   \n",
       "1           1  absolute human certainty know beauty perceive ...   \n",
       "2           2          learned long life love find want war find   \n",
       "3           3                                                      \n",
       "4           4  choose love silence … silence find rejection c...   \n",
       "\n",
       "                author category  \\\n",
       "0        Pablo Neruda,     Love   \n",
       "1  John Joseph Powell,     Love   \n",
       "2      Kristin Hannah,     Love   \n",
       "3         Sanober Khan     Love   \n",
       "4                 Rumi     Love   \n",
       "\n",
       "                                        text_stemmed  \\\n",
       "0             love certain dark secretli shadow soul   \n",
       "1  absolut human certainti know beauti perceiv se...   \n",
       "2            learn long life love find want war find   \n",
       "3                                                      \n",
       "4  choos love silenc … silenc find reject choos l...   \n",
       "\n",
       "                                     text_lemmatized  \\\n",
       "0             love certain dark secretli shadow soul   \n",
       "1  absolut human certainti know beauti perceiv se...   \n",
       "2            learn long life love find want war find   \n",
       "3                                                      \n",
       "4  choos love silenc … silenc find reject choos l...   \n",
       "\n",
       "                                      text_corrected  \\\n",
       "0             love certain dark secretly shadow soul   \n",
       "1  absolut human certainty know beauty perceive s...   \n",
       "2            learn long life love find want war find   \n",
       "3                                                      \n",
       "4  choose love silence i silence find reject choo...   \n",
       "\n",
       "                                     Without3letters  \n",
       "0             love certain dark secretli shadow soul  \n",
       "1  absolut human certainti know beauti perceiv  w...  \n",
       "2               learn long life love find want  find  \n",
       "3                                                     \n",
       "4  choos love silenc … silenc find reject choos l...  "
      ]
     },
     "execution_count": 50,
     "metadata": {},
     "output_type": "execute_result"
    }
   ],
   "source": [
    "df.head()"
   ]
  },
  {
   "cell_type": "markdown",
   "id": "e27af3d5",
   "metadata": {},
   "source": [
    "### Remove document 3 word and less"
   ]
  },
  {
   "cell_type": "code",
   "execution_count": null,
   "id": "a41a4c1d",
   "metadata": {},
   "outputs": [],
   "source": [
    "df['processed_desc'] = df['quot'].apply(lambda x : precosseing_pipeline(x) if len(precosseing_pipeline(x)) > 4 else np.nan)\n"
   ]
  },
  {
   "cell_type": "markdown",
   "id": "oqhATdhwWTea",
   "metadata": {
    "id": "oqhATdhwWTea"
   },
   "source": [
    "**Drop Duplicates After Cleaning:**"
   ]
  },
  {
   "cell_type": "code",
   "execution_count": null,
   "id": "OxmLmEuR041r",
   "metadata": {
    "colab": {
     "base_uri": "https://localhost:8080/"
    },
    "id": "OxmLmEuR041r",
    "outputId": "0e096912-a16e-44b2-9bd4-8d78c1f92dfc"
   },
   "outputs": [],
   "source": [
    "df.shape"
   ]
  },
  {
   "cell_type": "code",
   "execution_count": null,
   "id": "1f33df81",
   "metadata": {
    "colab": {
     "base_uri": "https://localhost:8080/"
    },
    "id": "1f33df81",
    "outputId": "35a4c550-f95e-48cd-964c-3ce4262df53b"
   },
   "outputs": [],
   "source": [
    "df.shape"
   ]
  },
  {
   "cell_type": "code",
   "execution_count": null,
   "id": "b5132e6b",
   "metadata": {
    "id": "b5132e6b"
   },
   "outputs": [],
   "source": [
    "df = df.drop_duplicates()"
   ]
  },
  {
   "cell_type": "code",
   "execution_count": null,
   "id": "EPNFJHf5NBhu",
   "metadata": {
    "colab": {
     "base_uri": "https://localhost:8080/"
    },
    "id": "EPNFJHf5NBhu",
    "outputId": "d9992032-d068-48c1-e917-496bd2c15298"
   },
   "outputs": [],
   "source": [
    "df.shape"
   ]
  },
  {
   "cell_type": "code",
   "execution_count": null,
   "id": "d2TS4T_iHYty",
   "metadata": {
    "colab": {
     "base_uri": "https://localhost:8080/"
    },
    "id": "d2TS4T_iHYty",
    "outputId": "06ec3554-71e7-47b8-f7e0-c7940ba5bcc6"
   },
   "outputs": [],
   "source": [
    "df.isna().sum()"
   ]
  },
  {
   "cell_type": "code",
   "execution_count": null,
   "id": "HKIkiVtxcxxH",
   "metadata": {
    "colab": {
     "base_uri": "https://localhost:8080/",
     "height": 327
    },
    "id": "HKIkiVtxcxxH",
    "outputId": "1ca53e54-a9c5-446a-b04e-66eebd0805f4"
   },
   "outputs": [],
   "source": [
    "df.head(5)"
   ]
  },
  {
   "cell_type": "markdown",
   "id": "pxbja8dpWhQs",
   "metadata": {
    "id": "pxbja8dpWhQs"
   },
   "source": [
    "**Save The Data After Cleaning:**"
   ]
  },
  {
   "cell_type": "code",
   "execution_count": null,
   "id": "2e95b1d7",
   "metadata": {
    "id": "2e95b1d7"
   },
   "outputs": [],
   "source": [
    "df.to_csv('quotesNew.csv', index=False)"
   ]
  },
  {
   "cell_type": "markdown",
   "id": "h7_QHsgO_3im",
   "metadata": {
    "id": "h7_QHsgO_3im"
   },
   "source": [
    "# **Exploratory data analysis (EDA)**"
   ]
  },
  {
   "cell_type": "code",
   "execution_count": null,
   "id": "-60w_wglN0AY",
   "metadata": {
    "id": "-60w_wglN0AY"
   },
   "outputs": [],
   "source": []
  },
  {
   "cell_type": "code",
   "execution_count": null,
   "id": "yGKUWcnoN0Lu",
   "metadata": {
    "id": "yGKUWcnoN0Lu"
   },
   "outputs": [],
   "source": []
  },
  {
   "cell_type": "code",
   "execution_count": null,
   "id": "bpKCaCSpN0R4",
   "metadata": {
    "id": "bpKCaCSpN0R4"
   },
   "outputs": [],
   "source": [
    "pip install wordcloud"
   ]
  },
  {
   "cell_type": "code",
   "execution_count": null,
   "id": "52SDRV-fN0aL",
   "metadata": {
    "id": "52SDRV-fN0aL"
   },
   "outputs": [],
   "source": [
    "import pandas as pd\n",
    "import numpy as np\n",
    "import matplotlib.pyplot as plt\n",
    "from wordcloud import WordCloud,STOPWORDS\n",
    "\n",
    "import os\n"
   ]
  },
  {
   "cell_type": "code",
   "execution_count": null,
   "id": "oLOX-g_jN7TV",
   "metadata": {
    "colab": {
     "base_uri": "https://localhost:8080/",
     "height": 589
    },
    "id": "oLOX-g_jN7TV",
    "outputId": "409e030b-0d1c-4eae-8338-0e4b9169d6b9"
   },
   "outputs": [],
   "source": [
    "dff = df['quot']\n",
    "text = dff.str.cat(sep=' ')\n",
    "stopwords = set(STOPWORDS)\n",
    "stopwords.add(\"said\")\n",
    "stopwords.add(\"one\")\n",
    "\n",
    "wc = WordCloud(max_font_size=40, max_words=200,stopwords=stopwords, contour_width=3, contour_color='steelblue' ,background_color=\"white\")\n",
    "\n",
    "wordcloud = wc.generate(text)\n",
    "plt.figure(figsize=(20, 20))\n",
    "plt.imshow(wordcloud, interpolation=\"bilinear\")\n",
    "plt.axis(\"off\")\n",
    "plt.show()"
   ]
  },
  {
   "cell_type": "code",
   "execution_count": null,
   "id": "oieAqsNNcMq-",
   "metadata": {
    "id": "oieAqsNNcMq-"
   },
   "outputs": [],
   "source": [
    "cnt = Counter()\n",
    "for txt in df[\"quote\"].values:\n",
    "    for word in txt.split():\n",
    "        cnt[word]+=1\n",
    "cnt.most_common(10)\n"
   ]
  },
  {
   "cell_type": "code",
   "execution_count": null,
   "id": "237d0c30",
   "metadata": {
    "colab": {
     "base_uri": "https://localhost:8080/",
     "height": 569
    },
    "id": "237d0c30",
    "outputId": "aab9bfad-c7d9-4649-837f-26c10729b6aa"
   },
   "outputs": [],
   "source": [
    "# Select top 20 authors with most quotes count in the dataset\n",
    "top_authors_with_most_quotes = df.groupby(\n",
    "    by = 'author',\n",
    "    as_index = False\n",
    ").count().sort_values(\n",
    "    by = 'quote',\n",
    "    ascending = False\n",
    ").iloc[:20]\n",
    "\n",
    "fig = plt.figure(figsize = (20, 5))\n",
    "plt.bar(top_authors_with_most_quotes['author'], top_authors_with_most_quotes['quote'], color = 'b')\n",
    "plt.xticks(rotation = 45)\n",
    "plt.show()"
   ]
  },
  {
   "cell_type": "code",
   "execution_count": null,
   "id": "6c-wUudY98Vl",
   "metadata": {
    "id": "6c-wUudY98Vl"
   },
   "outputs": [],
   "source": [
    "def get_adjectives(text):\n",
    "    blob = TextBlob(text)\n",
    "    return [ word for (word,tag) in blob.tags if tag == \"JJ\"]\n",
    "\n",
    "df['adjectives'] = df['reviews'].apply(get_adjectives)"
   ]
  },
  {
   "cell_type": "code",
   "execution_count": null,
   "id": "rl0FIyIFNO8K",
   "metadata": {
    "id": "rl0FIyIFNO8K"
   },
   "outputs": [],
   "source": [
    "import pandas as pd\n",
    "from sklearn.feature_extraction.text import CountVectorizer \n",
    "from sklearn.decomposition import TruncatedSVD\n",
    "from sklearn.decomposition import NMF\n",
    "from sklearn.metrics.pairwise import cosine_similarity"
   ]
  },
  {
   "cell_type": "code",
   "execution_count": null,
   "id": "a76sQByH-EJM",
   "metadata": {
    "id": "a76sQByH-EJM"
   },
   "outputs": [],
   "source": [
    "df=pd.read_csv('quotesNew-3.csv')"
   ]
  },
  {
   "cell_type": "code",
   "execution_count": null,
   "id": "d674843f",
   "metadata": {
    "id": "d674843f",
    "outputId": "3a4e59db-0b57-4bc2-e6c5-7ac8ae5e9cc4"
   },
   "outputs": [],
   "source": [
    "df.head()"
   ]
  },
  {
   "cell_type": "code",
   "execution_count": null,
   "id": "e32e51fc",
   "metadata": {},
   "outputs": [],
   "source": [
    "df.isna().sum()"
   ]
  },
  {
   "cell_type": "code",
   "execution_count": null,
   "id": "365e3ca6",
   "metadata": {},
   "outputs": [],
   "source": [
    "df.dropna(axis=1,inplace=True)"
   ]
  },
  {
   "cell_type": "code",
   "execution_count": null,
   "id": "8x10GgkQ7CCz",
   "metadata": {
    "colab": {
     "base_uri": "https://localhost:8080/"
    },
    "id": "8x10GgkQ7CCz",
    "outputId": "b03c5f20-27a5-4ea3-ab4e-ffbd2a758d9f"
   },
   "outputs": [],
   "source": [
    "vectorizer = CountVectorizer()\n",
    "doc_word = vectorizer.fit_transform(df['Without3letters'])\n",
    "doc_word.shape"
   ]
  },
  {
   "cell_type": "code",
   "execution_count": null,
   "id": "R3ynx_Zn7Ql3",
   "metadata": {
    "id": "R3ynx_Zn7Ql3",
    "outputId": "a45fe3a7-c75f-493b-dfce-4ff4b011b362"
   },
   "outputs": [],
   "source": [
    "pd.DataFrame(doc_word.toarray(), index=df['Without3letters'], columns=vectorizer.get_feature_names()).head(10)"
   ]
  },
  {
   "cell_type": "code",
   "execution_count": null,
   "id": "MNLcfO9e7YyX",
   "metadata": {
    "id": "MNLcfO9e7YyX",
    "outputId": "5ac30fb7-9b7c-4db3-8c09-b28cda206104"
   },
   "outputs": [],
   "source": [
    "lsa = TruncatedSVD(5)\n",
    "doc_topic = lsa.fit_transform(doc_word)\n",
    "lsa.explained_variance_ratio_"
   ]
  },
  {
   "cell_type": "code",
   "execution_count": null,
   "id": "d201b08e",
   "metadata": {
    "id": "d201b08e",
    "outputId": "1b59445b-f2a0-409b-a4e7-49e08c5e461b"
   },
   "outputs": [],
   "source": [
    "topic_word = pd.DataFrame(lsa.components_.round(3),\n",
    "             index = [\"component_1\",\"component_2\",\"component_3\",\"component_4\",\"component_5\"],\n",
    "             columns = vectorizer.get_feature_names())\n",
    "topic_word"
   ]
  },
  {
   "cell_type": "code",
   "execution_count": null,
   "id": "a154401d",
   "metadata": {
    "id": "a154401d"
   },
   "outputs": [],
   "source": [
    "def display_topics(model, feature_names, no_top_words, topic_names=None):\n",
    "    for ix, topic in enumerate(model.components_):\n",
    "        if not topic_names or not topic_names[ix]:\n",
    "            print(\"\\nTopic \", ix)\n",
    "        else:\n",
    "            print(\"\\nTopic: '\",topic_names[ix],\"'\")\n",
    "        print(\", \".join([feature_names[i]\n",
    "                        for i in topic.argsort()[:-no_top_words - 1:-1]]))"
   ]
  },
  {
   "cell_type": "code",
   "execution_count": null,
   "id": "42d3fbe4",
   "metadata": {
    "id": "42d3fbe4",
    "outputId": "44249286-1742-4857-f883-8898110dd77e"
   },
   "outputs": [],
   "source": [
    "display_topics(lsa, vectorizer.get_feature_names(), 5)"
   ]
  },
  {
   "cell_type": "code",
   "execution_count": null,
   "id": "3afce82b",
   "metadata": {
    "id": "3afce82b"
   },
   "outputs": [],
   "source": []
  }
 ],
 "metadata": {
  "colab": {
   "name": "Preprossing_withcloud.ipynb",
   "provenance": []
  },
  "kernelspec": {
   "display_name": "Python 3 (ipykernel)",
   "language": "python",
   "name": "python3"
  },
  "language_info": {
   "codemirror_mode": {
    "name": "ipython",
    "version": 3
   },
   "file_extension": ".py",
   "mimetype": "text/x-python",
   "name": "python",
   "nbconvert_exporter": "python",
   "pygments_lexer": "ipython3",
   "version": "3.9.7"
  }
 },
 "nbformat": 4,
 "nbformat_minor": 5
}
